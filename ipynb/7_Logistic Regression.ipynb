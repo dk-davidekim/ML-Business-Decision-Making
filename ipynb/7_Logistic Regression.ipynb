{
  "cells": [
    {
      "cell_type": "markdown",
      "metadata": {
        "id": "quaaEnvyeASR"
      },
      "source": [
        "# **Identifying Good System Administrators**\n",
        "\n",
        "Questrom & Company (QC), a consulting firm specialized in information systems, is studying the roles played by **experience** and **training** in a system administrator’s ability to **complete a set of tasks in a specified amount of time**. In particular, the firm needs to be able to discriminate between administrators who usually are able to complete given tasks within a specified time and those who are not. Data are collected on the performance of 75 randomly selected administrators. They are stored in the file _SystemAdministrators.csv_.\n",
        "\n",
        "The variable **'experience'** measures months of full-time system administrator experience, while **'training'** measures the number of relevant training credits. The outcome variable **'completed task'** is either Yes or No, according to whether or not the administrator completed the tasks."
      ]
    },
    {
      "cell_type": "markdown",
      "metadata": {
        "id": "t05xC-u82Vvf"
      },
      "source": [
        "# Environment Setup"
      ]
    },
    {
      "cell_type": "code",
      "execution_count": 21,
      "metadata": {
        "id": "HIYhidy2eASZ"
      },
      "outputs": [],
      "source": [
        "# import required packages\n",
        "%matplotlib inline\n",
        "import matplotlib.pylab as plt\n",
        "import math\n",
        "import pandas as pd\n",
        "import numpy as np\n",
        "from sklearn.linear_model import LogisticRegression\n",
        "from sklearn.model_selection import train_test_split \n",
        "from sklearn.metrics import *"
      ]
    },
    {
      "cell_type": "code",
      "execution_count": 22,
      "metadata": {
        "colab": {
          "base_uri": "https://localhost:8080/",
          "height": 403
        },
        "id": "bMCFDUvy3lOQ",
        "outputId": "23c6df8e-9b2f-4f3f-c435-dcbb2ba902df"
      },
      "outputs": [
        {
          "name": "stdout",
          "output_type": "stream",
          "text": [
            "<class 'pandas.core.frame.DataFrame'>\n",
            "RangeIndex: 75 entries, 0 to 74\n",
            "Data columns (total 3 columns):\n",
            " #   Column          Non-Null Count  Dtype  \n",
            "---  ------          --------------  -----  \n",
            " 0   Experience      75 non-null     float64\n",
            " 1   Training        75 non-null     int64  \n",
            " 2   Completed task  75 non-null     object \n",
            "dtypes: float64(1), int64(1), object(1)\n",
            "memory usage: 1.9+ KB\n"
          ]
        },
        {
          "data": {
            "text/html": [
              "<div>\n",
              "<style scoped>\n",
              "    .dataframe tbody tr th:only-of-type {\n",
              "        vertical-align: middle;\n",
              "    }\n",
              "\n",
              "    .dataframe tbody tr th {\n",
              "        vertical-align: top;\n",
              "    }\n",
              "\n",
              "    .dataframe thead th {\n",
              "        text-align: right;\n",
              "    }\n",
              "</style>\n",
              "<table border=\"1\" class=\"dataframe\">\n",
              "  <thead>\n",
              "    <tr style=\"text-align: right;\">\n",
              "      <th></th>\n",
              "      <th>Experience</th>\n",
              "      <th>Training</th>\n",
              "      <th>Completed task</th>\n",
              "    </tr>\n",
              "  </thead>\n",
              "  <tbody>\n",
              "    <tr>\n",
              "      <th>0</th>\n",
              "      <td>10.9</td>\n",
              "      <td>4</td>\n",
              "      <td>Yes</td>\n",
              "    </tr>\n",
              "    <tr>\n",
              "      <th>1</th>\n",
              "      <td>9.9</td>\n",
              "      <td>4</td>\n",
              "      <td>Yes</td>\n",
              "    </tr>\n",
              "    <tr>\n",
              "      <th>2</th>\n",
              "      <td>10.4</td>\n",
              "      <td>6</td>\n",
              "      <td>Yes</td>\n",
              "    </tr>\n",
              "    <tr>\n",
              "      <th>3</th>\n",
              "      <td>13.7</td>\n",
              "      <td>6</td>\n",
              "      <td>Yes</td>\n",
              "    </tr>\n",
              "    <tr>\n",
              "      <th>4</th>\n",
              "      <td>9.4</td>\n",
              "      <td>8</td>\n",
              "      <td>Yes</td>\n",
              "    </tr>\n",
              "  </tbody>\n",
              "</table>\n",
              "</div>"
            ],
            "text/plain": [
              "   Experience  Training Completed task\n",
              "0        10.9         4            Yes\n",
              "1         9.9         4            Yes\n",
              "2        10.4         6            Yes\n",
              "3        13.7         6            Yes\n",
              "4         9.4         8            Yes"
            ]
          },
          "execution_count": 22,
          "metadata": {},
          "output_type": "execute_result"
        }
      ],
      "source": [
        "# connect to Google Drive and load the data\n",
        "# from google.colab import drive\n",
        "# drive.mount('/content/drive')\n",
        "admin_df = pd.read_csv('../data/SystemAdministrators.csv')\n",
        "admin_df.info()\n",
        "admin_df.head()"
      ]
    },
    {
      "cell_type": "markdown",
      "metadata": {
        "id": "mAFwT28KbCrF"
      },
      "source": [
        "## Preprocessing"
      ]
    },
    {
      "cell_type": "code",
      "execution_count": 23,
      "metadata": {
        "colab": {
          "base_uri": "https://localhost:8080/",
          "height": 206
        },
        "id": "5DTnQAOHeASd",
        "outputId": "68eef3f9-4c7f-4b57-b95a-f69b8baa30ea"
      },
      "outputs": [
        {
          "data": {
            "text/html": [
              "<div>\n",
              "<style scoped>\n",
              "    .dataframe tbody tr th:only-of-type {\n",
              "        vertical-align: middle;\n",
              "    }\n",
              "\n",
              "    .dataframe tbody tr th {\n",
              "        vertical-align: top;\n",
              "    }\n",
              "\n",
              "    .dataframe thead th {\n",
              "        text-align: right;\n",
              "    }\n",
              "</style>\n",
              "<table border=\"1\" class=\"dataframe\">\n",
              "  <thead>\n",
              "    <tr style=\"text-align: right;\">\n",
              "      <th></th>\n",
              "      <th>Experience</th>\n",
              "      <th>Training</th>\n",
              "      <th>Completed_task</th>\n",
              "    </tr>\n",
              "  </thead>\n",
              "  <tbody>\n",
              "    <tr>\n",
              "      <th>0</th>\n",
              "      <td>10.9</td>\n",
              "      <td>4</td>\n",
              "      <td>1</td>\n",
              "    </tr>\n",
              "    <tr>\n",
              "      <th>1</th>\n",
              "      <td>9.9</td>\n",
              "      <td>4</td>\n",
              "      <td>1</td>\n",
              "    </tr>\n",
              "    <tr>\n",
              "      <th>2</th>\n",
              "      <td>10.4</td>\n",
              "      <td>6</td>\n",
              "      <td>1</td>\n",
              "    </tr>\n",
              "    <tr>\n",
              "      <th>3</th>\n",
              "      <td>13.7</td>\n",
              "      <td>6</td>\n",
              "      <td>1</td>\n",
              "    </tr>\n",
              "    <tr>\n",
              "      <th>4</th>\n",
              "      <td>9.4</td>\n",
              "      <td>8</td>\n",
              "      <td>1</td>\n",
              "    </tr>\n",
              "  </tbody>\n",
              "</table>\n",
              "</div>"
            ],
            "text/plain": [
              "   Experience  Training  Completed_task\n",
              "0        10.9         4               1\n",
              "1         9.9         4               1\n",
              "2        10.4         6               1\n",
              "3        13.7         6               1\n",
              "4         9.4         8               1"
            ]
          },
          "execution_count": 23,
          "metadata": {},
          "output_type": "execute_result"
        }
      ],
      "source": [
        "# standardize the variable names\n",
        "admin_df.columns = [c.replace(' ', '_') for c in admin_df.columns]\n",
        "\n",
        "# Convert yes/no into 1/0\n",
        "admin_df.Completed_task.replace(('Yes', 'No'), (1, 0), inplace=True)\n",
        "\n",
        "admin_df.head()"
      ]
    },
    {
      "cell_type": "markdown",
      "metadata": {
        "id": "8o4bgjosbHQa"
      },
      "source": [
        "## Visualization"
      ]
    },
    {
      "cell_type": "code",
      "execution_count": 24,
      "metadata": {
        "colab": {
          "base_uri": "https://localhost:8080/",
          "height": 279
        },
        "id": "2s4jWfnbeASf",
        "outputId": "ca48d954-3aff-476f-9748-7e83ef1fcdb7"
      },
      "outputs": [
        {
          "data": {
            "image/png": "[encoded data removed]",
            "text/plain": [
              "<Figure size 640x480 with 1 Axes>"
            ]
          },
          "metadata": {},
          "output_type": "display_data"
        }
      ],
      "source": [
        "# create a scatter plot of Experience vs. Training\n",
        "# keep track of the outcome (1 or 0) using colors\n",
        "fig, ax = plt.subplots()\n",
        "\n",
        "subset0 = admin_df.loc[admin_df['Completed_task']== 0]\n",
        "ax.scatter(subset0.Training, subset0.Experience, marker='x', label='No', color='red')\n",
        "\n",
        "subset1 = admin_df.loc[admin_df['Completed_task']== 1]\n",
        "ax.scatter(subset1.Training, subset1.Experience, marker='o', label='Yes', color='green')\n",
        "\n",
        "plt.xlabel('Training')  # set x-axis label\n",
        "plt.ylabel('Experience')  # set y-axis label\n",
        "    \n",
        "handles, labels = ax.get_legend_handles_labels()\n",
        "ax.legend(handles, labels);"
      ]
    },
    {
      "cell_type": "markdown",
      "metadata": {
        "id": "zfYEFD5GeASh"
      },
      "source": [
        "From the scatterplot we can observe that programmers who completed the task tend to have more experience. Training, however, does not seem to play much a role in task completion. Therefore, the predictor Experience appears more useful for classifying task completion. Nonetheless, we'll explore both."
      ]
    },
    {
      "cell_type": "code",
      "execution_count": 25,
      "metadata": {
        "id": "F3qKokmdeASh"
      },
      "outputs": [],
      "source": [
        "# Define categorical variable (not strictly needed but good practice)\n",
        "admin_df['Completed_task'] = admin_df['Completed_task'].astype('category')\n",
        "\n",
        "# Define X and y\n",
        "y = admin_df['Completed_task']\n",
        "X = admin_df.drop(columns=['Completed_task'])"
      ]
    },
    {
      "cell_type": "code",
      "execution_count": 26,
      "metadata": {
        "id": "-3Qj586tbtF-"
      },
      "outputs": [],
      "source": [
        "# Split data\n",
        "X_train, X_test, y_train, y_test = train_test_split( X, y, test_size = 0.4, random_state = 1, stratify = y)"
      ]
    },
    {
      "cell_type": "markdown",
      "metadata": {
        "id": "jyqND2OImX-k"
      },
      "source": [
        "### Side remark, what does 'stratify' option do? Answer: it ensures the number of \"1's\" and \"0's\" in training and testing sets are \"balanced\"."
      ]
    },
    {
      "cell_type": "code",
      "execution_count": 27,
      "metadata": {
        "colab": {
          "base_uri": "https://localhost:8080/"
        },
        "id": "n9UyeJqFlblz",
        "outputId": "363080ef-e46d-423d-c424-f02dbd4490c6"
      },
      "outputs": [
        {
          "name": "stdout",
          "output_type": "stream",
          "text": [
            "Number of 1's in training set: 13\n",
            "Number of 1's in testing set: 2\n",
            "Proportion of 1's in testing set 0.13333333333333333\n"
          ]
        }
      ],
      "source": [
        "# Stratify off:\n",
        "X_train, X_test, y_train, y_test = train_test_split( X, y, test_size = 0.4, random_state = 1, stratify = None)\n",
        "print( \"Number of 1's in training set:\", sum(y_train))\n",
        "print( \"Number of 1's in testing set:\", sum(y_test))\n",
        "print( \"Proportion of 1's in testing set\", sum(y_test)/(sum(y_train)+sum(y_test)))"
      ]
    },
    {
      "cell_type": "code",
      "execution_count": 28,
      "metadata": {
        "colab": {
          "base_uri": "https://localhost:8080/"
        },
        "id": "5R142MiKmdPg",
        "outputId": "6b718b2e-a842-490e-9d14-a14171918619"
      },
      "outputs": [
        {
          "name": "stdout",
          "output_type": "stream",
          "text": [
            "Number of 1's in training set: 9\n",
            "Number of 1's in testing set: 6\n",
            "Proportion of 1's in testing set 0.4\n"
          ]
        }
      ],
      "source": [
        "# Stratify on:\n",
        "X_train, X_test, y_train, y_test = train_test_split( X, y, test_size = 0.4, random_state = 1, stratify = y)\n",
        "print( \"Number of 1's in training set:\", sum(y_train))\n",
        "print( \"Number of 1's in testing set:\", sum(y_test))\n",
        "print( \"Proportion of 1's in testing set\", sum(y_test)/(sum(y_train)+sum(y_test)))"
      ]
    },
    {
      "cell_type": "markdown",
      "metadata": {
        "id": "zrEGggyBbWhU"
      },
      "source": [
        "## Run Logistic Regression Model"
      ]
    },
    {
      "cell_type": "code",
      "execution_count": 29,
      "metadata": {
        "colab": {
          "base_uri": "https://localhost:8080/"
        },
        "id": "LG9g0HjZbxGn",
        "outputId": "262b3f8f-2bd6-460c-f5a6-b38b88f085f3"
      },
      "outputs": [
        {
          "name": "stderr",
          "output_type": "stream",
          "text": [
            "/Users/davidekim/tensorflow/lib/python3.9/site-packages/sklearn/linear_model/_logistic.py:1173: FutureWarning: `penalty='none'`has been deprecated in 1.2 and will be removed in 1.4. To keep the past behaviour, set `penalty=None`.\n",
            "  warnings.warn(\n"
          ]
        },
        {
          "data": {
            "text/html": [
              "<style>#sk-container-id-2 {color: black;background-color: white;}#sk-container-id-2 pre{padding: 0;}#sk-container-id-2 div.sk-toggleable {background-color: white;}#sk-container-id-2 label.sk-toggleable__label {cursor: pointer;display: block;width: 100%;margin-bottom: 0;padding: 0.3em;box-sizing: border-box;text-align: center;}#sk-container-id-2 label.sk-toggleable__label-arrow:before {content: \"▸\";float: left;margin-right: 0.25em;color: #696969;}#sk-container-id-2 label.sk-toggleable__label-arrow:hover:before {color: black;}#sk-container-id-2 div.sk-estimator:hover label.sk-toggleable__label-arrow:before {color: black;}#sk-container-id-2 div.sk-toggleable__content {max-height: 0;max-width: 0;overflow: hidden;text-align: left;background-color: #f0f8ff;}#sk-container-id-2 div.sk-toggleable__content pre {margin: 0.2em;color: black;border-radius: 0.25em;background-color: #f0f8ff;}#sk-container-id-2 input.sk-toggleable__control:checked~div.sk-toggleable__content {max-height: 200px;max-width: 100%;overflow: auto;}#sk-container-id-2 input.sk-toggleable__control:checked~label.sk-toggleable__label-arrow:before {content: \"▾\";}#sk-container-id-2 div.sk-estimator input.sk-toggleable__control:checked~label.sk-toggleable__label {background-color: #d4ebff;}#sk-container-id-2 div.sk-label input.sk-toggleable__control:checked~label.sk-toggleable__label {background-color: #d4ebff;}#sk-container-id-2 input.sk-hidden--visually {border: 0;clip: rect(1px 1px 1px 1px);clip: rect(1px, 1px, 1px, 1px);height: 1px;margin: -1px;overflow: hidden;padding: 0;position: absolute;width: 1px;}#sk-container-id-2 div.sk-estimator {font-family: monospace;background-color: #f0f8ff;border: 1px dotted black;border-radius: 0.25em;box-sizing: border-box;margin-bottom: 0.5em;}#sk-container-id-2 div.sk-estimator:hover {background-color: #d4ebff;}#sk-container-id-2 div.sk-parallel-item::after {content: \"\";width: 100%;border-bottom: 1px solid gray;flex-grow: 1;}#sk-container-id-2 div.sk-label:hover label.sk-toggleable__label {background-color: #d4ebff;}#sk-container-id-2 div.sk-serial::before {content: \"\";position: absolute;border-left: 1px solid gray;box-sizing: border-box;top: 0;bottom: 0;left: 50%;z-index: 0;}#sk-container-id-2 div.sk-serial {display: flex;flex-direction: column;align-items: center;background-color: white;padding-right: 0.2em;padding-left: 0.2em;position: relative;}#sk-container-id-2 div.sk-item {position: relative;z-index: 1;}#sk-container-id-2 div.sk-parallel {display: flex;align-items: stretch;justify-content: center;background-color: white;position: relative;}#sk-container-id-2 div.sk-item::before, #sk-container-id-2 div.sk-parallel-item::before {content: \"\";position: absolute;border-left: 1px solid gray;box-sizing: border-box;top: 0;bottom: 0;left: 50%;z-index: -1;}#sk-container-id-2 div.sk-parallel-item {display: flex;flex-direction: column;z-index: 1;position: relative;background-color: white;}#sk-container-id-2 div.sk-parallel-item:first-child::after {align-self: flex-end;width: 50%;}#sk-container-id-2 div.sk-parallel-item:last-child::after {align-self: flex-start;width: 50%;}#sk-container-id-2 div.sk-parallel-item:only-child::after {width: 0;}#sk-container-id-2 div.sk-dashed-wrapped {border: 1px dashed gray;margin: 0 0.4em 0.5em 0.4em;box-sizing: border-box;padding-bottom: 0.4em;background-color: white;}#sk-container-id-2 div.sk-label label {font-family: monospace;font-weight: bold;display: inline-block;line-height: 1.2em;}#sk-container-id-2 div.sk-label-container {text-align: center;}#sk-container-id-2 div.sk-container {/* jupyter's `normalize.less` sets `[hidden] { display: none; }` but bootstrap.min.css set `[hidden] { display: none !important; }` so we also need the `!important` here to be able to override the default hidden behavior on the sphinx rendered scikit-learn.org. See: https://github.com/scikit-learn/scikit-learn/issues/21755 */display: inline-block !important;position: relative;}#sk-container-id-2 div.sk-text-repr-fallback {display: none;}</style><div id=\"sk-container-id-2\" class=\"sk-top-container\"><div class=\"sk-text-repr-fallback\"><pre>LogisticRegression(penalty=&#x27;none&#x27;)</pre><b>In a Jupyter environment, please rerun this cell to show the HTML representation or trust the notebook. <br />On GitHub, the HTML representation is unable to render, please try loading this page with nbviewer.org.</b></div><div class=\"sk-container\" hidden><div class=\"sk-item\"><div class=\"sk-estimator sk-toggleable\"><input class=\"sk-toggleable__control sk-hidden--visually\" id=\"sk-estimator-id-2\" type=\"checkbox\" checked><label for=\"sk-estimator-id-2\" class=\"sk-toggleable__label sk-toggleable__label-arrow\">LogisticRegression</label><div class=\"sk-toggleable__content\"><pre>LogisticRegression(penalty=&#x27;none&#x27;)</pre></div></div></div></div></div>"
            ],
            "text/plain": [
              "LogisticRegression(penalty='none')"
            ]
          },
          "execution_count": 29,
          "metadata": {},
          "output_type": "execute_result"
        }
      ],
      "source": [
        "# Logistic Regression\n",
        "lr = LogisticRegression(penalty=\"none\", solver='lbfgs')\n",
        "lr.fit(X_train, y_train)"
      ]
    },
    {
      "cell_type": "code",
      "execution_count": 30,
      "metadata": {
        "id": "r2JX9qFNeASi"
      },
      "outputs": [],
      "source": [
        "# Make predictions on test data\n",
        "y_pred = lr.predict(X_test)"
      ]
    },
    {
      "cell_type": "code",
      "execution_count": 31,
      "metadata": {
        "colab": {
          "base_uri": "https://localhost:8080/"
        },
        "id": "T5mzMdm9hRJp",
        "outputId": "a1f473ae-a751-4c73-d53a-8136a12fa906"
      },
      "outputs": [
        {
          "data": {
            "text/plain": [
              "array([[24,  0],\n",
              "       [ 2,  4]])"
            ]
          },
          "execution_count": 31,
          "metadata": {},
          "output_type": "execute_result"
        }
      ],
      "source": [
        "# Confusion Matrix\n",
        "confusion_matrix(y_test,y_pred)"
      ]
    },
    {
      "cell_type": "code",
      "execution_count": 32,
      "metadata": {
        "colab": {
          "base_uri": "https://localhost:8080/"
        },
        "id": "wAAgC0WIm2ks",
        "outputId": "40c4d95a-42df-48a6-fede-06ec422555d1"
      },
      "outputs": [
        {
          "data": {
            "text/plain": [
              "0.9333333333333333"
            ]
          },
          "execution_count": 32,
          "metadata": {},
          "output_type": "execute_result"
        }
      ],
      "source": [
        "# accuracy score\n",
        "accuracy_score(y_test, y_pred)"
      ]
    },
    {
      "cell_type": "code",
      "execution_count": 33,
      "metadata": {
        "colab": {
          "base_uri": "https://localhost:8080/"
        },
        "id": "iv2LKvTzijDr",
        "outputId": "9f5ca54c-22a2-4840-84a7-e1a306186b22"
      },
      "outputs": [
        {
          "data": {
            "text/plain": [
              "array([0.004, 0.008, 0.479, 0.001, 0.392, 0.009, 0.997, 0.064, 0.006,\n",
              "       0.018, 0.002, 0.016, 0.029, 0.925, 0.045, 0.011, 0.057, 0.051,\n",
              "       0.014, 0.873, 0.002, 0.032, 0.122, 0.   , 0.01 , 0.046, 0.872,\n",
              "       0.002, 0.121, 0.01 ])"
            ]
          },
          "execution_count": 33,
          "metadata": {},
          "output_type": "execute_result"
        }
      ],
      "source": [
        "# What if we want to change the default probability cutoff of 0.5?\n",
        "\n",
        "# Extract regressed probabilities using predict_proba\n",
        "p_pred=lr.predict_proba(X_test)[:,1]\n",
        "np.round(p_pred,3)"
      ]
    },
    {
      "cell_type": "code",
      "execution_count": 34,
      "metadata": {
        "colab": {
          "base_uri": "https://localhost:8080/"
        },
        "id": "Hdfm2j94jVwt",
        "outputId": "3c5fdc41-baaf-4ee0-8fc7-5c77c57cabee"
      },
      "outputs": [
        {
          "data": {
            "text/plain": [
              "[0,\n",
              " 0,\n",
              " 1,\n",
              " 0,\n",
              " 1,\n",
              " 0,\n",
              " 1,\n",
              " 0,\n",
              " 0,\n",
              " 0,\n",
              " 0,\n",
              " 0,\n",
              " 0,\n",
              " 1,\n",
              " 0,\n",
              " 0,\n",
              " 0,\n",
              " 0,\n",
              " 0,\n",
              " 1,\n",
              " 0,\n",
              " 0,\n",
              " 0,\n",
              " 0,\n",
              " 0,\n",
              " 0,\n",
              " 1,\n",
              " 0,\n",
              " 0,\n",
              " 0]"
            ]
          },
          "execution_count": 34,
          "metadata": {},
          "output_type": "execute_result"
        }
      ],
      "source": [
        "# Define new cutoff\n",
        "cutoff = 0.25\n",
        "y_pred_new=[1 if i > cutoff else 0 for i in p_pred]\n",
        "y_pred_new"
      ]
    },
    {
      "cell_type": "code",
      "execution_count": 35,
      "metadata": {
        "colab": {
          "base_uri": "https://localhost:8080/"
        },
        "id": "ZTnHfP2mkGVq",
        "outputId": "c707484f-3efe-461e-ec53-7f770fc31759"
      },
      "outputs": [
        {
          "data": {
            "text/plain": [
              "array([[22,  2],\n",
              "       [ 2,  4]])"
            ]
          },
          "execution_count": 35,
          "metadata": {},
          "output_type": "execute_result"
        }
      ],
      "source": [
        "# confusion matrix with different cutoff\n",
        "confusion_matrix(y_test,y_pred_new)"
      ]
    },
    {
      "cell_type": "code",
      "execution_count": 36,
      "metadata": {
        "colab": {
          "base_uri": "https://localhost:8080/"
        },
        "id": "CAt4n-KZnAuT",
        "outputId": "f8748016-3a09-49c9-edb4-9256aad6444b"
      },
      "outputs": [
        {
          "data": {
            "text/plain": [
              "0.8666666666666667"
            ]
          },
          "execution_count": 36,
          "metadata": {},
          "output_type": "execute_result"
        }
      ],
      "source": [
        "# accuracy score with different cutoff\n",
        "accuracy_score(y_test, y_pred_new)"
      ]
    },
    {
      "cell_type": "markdown",
      "metadata": {
        "id": "9gmentj8beJu"
      },
      "source": [
        "## Interpreting results"
      ]
    },
    {
      "cell_type": "code",
      "execution_count": 37,
      "metadata": {
        "colab": {
          "base_uri": "https://localhost:8080/"
        },
        "id": "01rU1pxMeASj",
        "outputId": "52fe6e7a-6e0e-4ca4-eb17-b12585934470"
      },
      "outputs": [
        {
          "name": "stdout",
          "output_type": "stream",
          "text": [
            "intercept  -12.14404568619654\n",
            "               coeff\n",
            "Experience  1.182772\n",
            "Training    0.294407\n"
          ]
        }
      ],
      "source": [
        "# Store coefficients\n",
        "lr_int = lr.intercept_[0]\n",
        "lr_coef = lr.coef_[0]\n",
        "\n",
        "# print coefficients\n",
        "print('intercept ', lr_int)\n",
        "print(pd.DataFrame({'coeff': lr_coef}, index=X.columns))"
      ]
    },
    {
      "cell_type": "code",
      "execution_count": 38,
      "metadata": {
        "colab": {
          "base_uri": "https://localhost:8080/"
        },
        "id": "GJQu1fQzeASk",
        "outputId": "baf7fbe7-a9fc-42b1-d687-ebdcbe1a5796"
      },
      "outputs": [
        {
          "name": "stdout",
          "output_type": "stream",
          "text": [
            "3.26340683778162\n",
            "1.342330032556631\n"
          ]
        }
      ],
      "source": [
        "# print exponentiated Experience and Training coefficients\n",
        "print( math.exp(lr_coef[0]) )\n",
        "print( math.exp(lr_coef[1]) )"
      ]
    },
    {
      "cell_type": "markdown",
      "metadata": {
        "id": "QkeDnMGaeASl"
      },
      "source": [
        "A positive coefficient in the logit model translates into a coefficient larger than 1 in the odds model. In the logit model, the estimated coefficient for Experience is 1.18. In the odds model, the coefficient is e^1.18 = 3.26. This means that an increase of a unit in Experience is associated with an increase in the odds of completing the task on time by a factor of 3.26. Conversely, and extra unit of Training only increases the odds of completing a task by a factor of 1.34."
      ]
    },
    {
      "cell_type": "code",
      "execution_count": 39,
      "metadata": {
        "colab": {
          "base_uri": "https://localhost:8080/"
        },
        "id": "Lh0xOnijeASl",
        "outputId": "48046625-f0a8-4c7b-d145-8408f2aab7e4"
      },
      "outputs": [
        {
          "name": "stdout",
          "output_type": "stream",
          "text": [
            "logit:  0.26734114678375187\n",
            "odds:  1.3064860738362432\n",
            "prob:  0.5664400442978792\n"
          ]
        }
      ],
      "source": [
        "# consider a new administrator with 9 months of Experience and 6 credits of Training\n",
        "na_exp = 9\n",
        "na_train = 6\n",
        "\n",
        "# find associated logit of finishing a task on time\n",
        "logit = lr_int + lr_coef[0] * na_exp + lr_coef[1] * na_train\n",
        "print(\"logit: \", logit)\n",
        "\n",
        "# find associated odds of finishing a task on time\n",
        "odds = math.exp(logit)\n",
        "print(\"odds: \", odds)\n",
        "\n",
        "# find associated probability of finishing a task on time\n",
        "prob = odds/(1+odds)\n",
        "print(\"prob: \", prob)"
      ]
    },
    {
      "cell_type": "code",
      "execution_count": 40,
      "metadata": {
        "colab": {
          "base_uri": "https://localhost:8080/"
        },
        "id": "OayP2ompnims",
        "outputId": "5f53d5df-90dc-4697-d4e9-d2684564d326"
      },
      "outputs": [
        {
          "name": "stdout",
          "output_type": "stream",
          "text": [
            "logit:  1.450112838750139\n",
            "odds:  4.26359558682366\n",
            "prob:  0.8100157993704349\n"
          ]
        }
      ],
      "source": [
        "# What if we increase experience by 1 month to 10?\n",
        "# We know that odds will increase by factor of 3.26, so we should get\n",
        "# new odds of 1.306*3.26 ~ 4.26. Let's check!\n",
        "\n",
        "na_exp = 10\n",
        "na_train = 6\n",
        "\n",
        "# find associated logit of finishing a task on time\n",
        "logit = lr_int + lr_coef[0] * na_exp + lr_coef[1] * na_train\n",
        "print(\"logit: \", logit)\n",
        "\n",
        "# find associated odds of finishing a task on time\n",
        "odds = math.exp(logit)\n",
        "print(\"odds: \", odds)\n",
        "\n",
        "# find associated probability of finishing a task on time\n",
        "prob = odds/(1+odds)\n",
        "print(\"prob: \", prob)"
      ]
    },
    {
      "cell_type": "markdown",
      "metadata": {
        "id": "Kwafp1NMcUoZ"
      },
      "source": [
        "## Bonus: Logistic Regression with statistics package"
      ]
    },
    {
      "cell_type": "code",
      "execution_count": 41,
      "metadata": {
        "colab": {
          "base_uri": "https://localhost:8080/"
        },
        "id": "EP4zC9omcX9x",
        "outputId": "1ea04970-be08-468a-afd2-ce9da18cd4bc"
      },
      "outputs": [
        {
          "name": "stdout",
          "output_type": "stream",
          "text": [
            "Optimization terminated successfully.\n",
            "         Current function value: 0.247065\n",
            "         Iterations 8\n",
            "const        -12.143936\n",
            "Experience     1.182758\n",
            "Training       0.294407\n",
            "dtype: float64\n",
            "                           Logit Regression Results                           \n",
            "==============================================================================\n",
            "Dep. Variable:         Completed_task   No. Observations:                   45\n",
            "Model:                          Logit   Df Residuals:                       42\n",
            "Method:                           MLE   Df Model:                            2\n",
            "Date:                Thu, 15 Jun 2023   Pseudo R-squ.:                  0.5063\n",
            "Time:                        15:21:52   Log-Likelihood:                -11.118\n",
            "converged:                       True   LL-Null:                       -22.518\n",
            "Covariance Type:            nonrobust   LLR p-value:                 1.119e-05\n",
            "==============================================================================\n",
            "                 coef    std err          z      P>|z|      [0.025      0.975]\n",
            "------------------------------------------------------------------------------\n",
            "const        -12.1439      4.009     -3.029      0.002     -20.002      -4.286\n",
            "Experience     1.1828      0.418      2.830      0.005       0.363       2.002\n",
            "Training       0.2944      0.384      0.766      0.444      -0.459       1.048\n",
            "==============================================================================\n"
          ]
        }
      ],
      "source": [
        "# import statspackage\n",
        "import statsmodels.api as sm\n",
        "\n",
        "# note: statsmodels is missing the constant term in the sigmoid, \n",
        "# so we need to add it back...\n",
        "X_train_with_constant = sm.add_constant(X_train)\n",
        "X_test_with_constant = sm.add_constant(X_test)\n",
        "\n",
        "logit_reg = sm.Logit(y_train, X_train_with_constant).fit()\n",
        "print(logit_reg.params)\n",
        "print(logit_reg.summary())"
      ]
    }
  ],
  "metadata": {
    "colab": {
      "collapsed_sections": [],
      "provenance": []
    },
    "kernelspec": {
      "display_name": "Python 3",
      "language": "python",
      "name": "python3"
    },
    "language_info": {
      "codemirror_mode": {
        "name": "ipython",
        "version": 3
      },
      "file_extension": ".py",
      "mimetype": "text/x-python",
      "name": "python",
      "nbconvert_exporter": "python",
      "pygments_lexer": "ipython3",
      "version": "3.9.15"
    }
  },
  "nbformat": 4,
  "nbformat_minor": 0
}
