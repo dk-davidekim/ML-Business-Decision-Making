{
  "cells": [
    {
      "cell_type": "markdown",
      "metadata": {
        "id": "3aY4dujwdWCp"
      },
      "source": [
        "# **Environment Setup**"
      ]
    },
    {
      "cell_type": "code",
      "execution_count": 1,
      "metadata": {
        "colab": {
          "base_uri": "https://localhost:8080/"
        },
        "id": "vB3ME-NZdbOC",
        "outputId": "d99d94ba-79ef-422d-b286-03098787a4a8"
      },
      "outputs": [],
      "source": [
        "# datasets to be used: \"diabetes.csv\"\n",
        "# objective: predict whether patients have diabetes or not, based on bloodpressure, glucose, etc.\n",
        "# upload datasets to a folder in Google Drive, e.g., My Drive/Colab Data\n",
        "# connect to Google Drive, path to datasets is \"/content/drive/My Drive/Colab Data/...\"\n",
        "# from google.colab import drive\n",
        "# drive.mount('/content/drive')"
      ]
    },
    {
      "cell_type": "code",
      "execution_count": 2,
      "metadata": {
        "_cell_guid": "059208d1-5542-4d80-9ee2-cee9a4391e78",
        "_uuid": "333dc72902f9a7b163226cb187cf989768665c43",
        "execution": {
          "iopub.execute_input": "2022-02-06T16:55:41.400840Z",
          "iopub.status.busy": "2022-02-06T16:55:41.400179Z",
          "iopub.status.idle": "2022-02-06T16:55:41.407379Z",
          "shell.execute_reply": "2022-02-06T16:55:41.406681Z",
          "shell.execute_reply.started": "2022-02-06T16:55:41.400768Z"
        },
        "id": "IMo42K92-oIx",
        "trusted": true
      },
      "outputs": [],
      "source": [
        "# import required packages\n",
        "import numpy as np\n",
        "import pandas as pd\n",
        "import matplotlib.pyplot as plt\n",
        "\n",
        "# sklearn data and model packages\n",
        "from sklearn.model_selection import train_test_split\n",
        "from sklearn.model_selection import KFold\n",
        "from sklearn.model_selection import cross_val_score\n",
        "from sklearn.neighbors import KNeighborsClassifier # will be covered next lecture\n",
        "\n",
        "# sklearn model metrics (evaluation) packages\n",
        "from sklearn.metrics import *"
      ]
    },
    {
      "cell_type": "code",
      "execution_count": 3,
      "metadata": {
        "_cell_guid": "0d788097-f6b8-4fca-99b4-f5102d1bbade",
        "_uuid": "d15b5491570a8ec6188b77240ab334f9b68f2655",
        "colab": {
          "base_uri": "https://localhost:8080/",
          "height": 206
        },
        "execution": {
          "iopub.execute_input": "2022-02-06T16:55:46.034880Z",
          "iopub.status.busy": "2022-02-06T16:55:46.034521Z",
          "iopub.status.idle": "2022-02-06T16:55:46.088726Z",
          "shell.execute_reply": "2022-02-06T16:55:46.087883Z",
          "shell.execute_reply.started": "2022-02-06T16:55:46.034786Z"
        },
        "id": "-1zKB_cg-oIy",
        "outputId": "da86f17e-d6ea-4eb1-c76a-4d5884d81407",
        "trusted": true
      },
      "outputs": [
        {
          "data": {
            "text/html": [
              "<div>\n",
              "<style scoped>\n",
              "    .dataframe tbody tr th:only-of-type {\n",
              "        vertical-align: middle;\n",
              "    }\n",
              "\n",
              "    .dataframe tbody tr th {\n",
              "        vertical-align: top;\n",
              "    }\n",
              "\n",
              "    .dataframe thead th {\n",
              "        text-align: right;\n",
              "    }\n",
              "</style>\n",
              "<table border=\"1\" class=\"dataframe\">\n",
              "  <thead>\n",
              "    <tr style=\"text-align: right;\">\n",
              "      <th></th>\n",
              "      <th>Pregnancies</th>\n",
              "      <th>Glucose</th>\n",
              "      <th>BloodPressure</th>\n",
              "      <th>SkinThickness</th>\n",
              "      <th>Insulin</th>\n",
              "      <th>BMI</th>\n",
              "      <th>DiabetesPedigreeFunction</th>\n",
              "      <th>Age</th>\n",
              "      <th>Outcome</th>\n",
              "    </tr>\n",
              "  </thead>\n",
              "  <tbody>\n",
              "    <tr>\n",
              "      <th>0</th>\n",
              "      <td>6</td>\n",
              "      <td>148</td>\n",
              "      <td>72</td>\n",
              "      <td>35</td>\n",
              "      <td>0</td>\n",
              "      <td>33.6</td>\n",
              "      <td>0.627</td>\n",
              "      <td>50</td>\n",
              "      <td>1</td>\n",
              "    </tr>\n",
              "    <tr>\n",
              "      <th>1</th>\n",
              "      <td>1</td>\n",
              "      <td>85</td>\n",
              "      <td>66</td>\n",
              "      <td>29</td>\n",
              "      <td>0</td>\n",
              "      <td>26.6</td>\n",
              "      <td>0.351</td>\n",
              "      <td>31</td>\n",
              "      <td>0</td>\n",
              "    </tr>\n",
              "    <tr>\n",
              "      <th>2</th>\n",
              "      <td>8</td>\n",
              "      <td>183</td>\n",
              "      <td>64</td>\n",
              "      <td>0</td>\n",
              "      <td>0</td>\n",
              "      <td>23.3</td>\n",
              "      <td>0.672</td>\n",
              "      <td>32</td>\n",
              "      <td>1</td>\n",
              "    </tr>\n",
              "    <tr>\n",
              "      <th>3</th>\n",
              "      <td>1</td>\n",
              "      <td>89</td>\n",
              "      <td>66</td>\n",
              "      <td>23</td>\n",
              "      <td>94</td>\n",
              "      <td>28.1</td>\n",
              "      <td>0.167</td>\n",
              "      <td>21</td>\n",
              "      <td>0</td>\n",
              "    </tr>\n",
              "    <tr>\n",
              "      <th>4</th>\n",
              "      <td>0</td>\n",
              "      <td>137</td>\n",
              "      <td>40</td>\n",
              "      <td>35</td>\n",
              "      <td>168</td>\n",
              "      <td>43.1</td>\n",
              "      <td>2.288</td>\n",
              "      <td>33</td>\n",
              "      <td>1</td>\n",
              "    </tr>\n",
              "  </tbody>\n",
              "</table>\n",
              "</div>"
            ],
            "text/plain": [
              "   Pregnancies  Glucose  BloodPressure  SkinThickness  Insulin   BMI  \\\n",
              "0            6      148             72             35        0  33.6   \n",
              "1            1       85             66             29        0  26.6   \n",
              "2            8      183             64              0        0  23.3   \n",
              "3            1       89             66             23       94  28.1   \n",
              "4            0      137             40             35      168  43.1   \n",
              "\n",
              "   DiabetesPedigreeFunction  Age  Outcome  \n",
              "0                     0.627   50        1  \n",
              "1                     0.351   31        0  \n",
              "2                     0.672   32        1  \n",
              "3                     0.167   21        0  \n",
              "4                     2.288   33        1  "
            ]
          },
          "execution_count": 3,
          "metadata": {},
          "output_type": "execute_result"
        }
      ],
      "source": [
        "# load the data and review\n",
        "df = pd.read_csv('../data/diabetes.csv')\n",
        "df.head()"
      ]
    },
    {
      "cell_type": "code",
      "execution_count": 5,
      "metadata": {
        "_cell_guid": "766ae7f8-b08c-4ca7-bc1e-7e0401ac7fce",
        "_uuid": "25e59b9710940c6b4d86dc6e1487ce41dbf284e3",
        "colab": {
          "base_uri": "https://localhost:8080/"
        },
        "execution": {
          "iopub.execute_input": "2022-02-06T16:55:57.541755Z",
          "iopub.status.busy": "2022-02-06T16:55:57.541105Z",
          "iopub.status.idle": "2022-02-06T16:55:57.547466Z",
          "shell.execute_reply": "2022-02-06T16:55:57.546447Z",
          "shell.execute_reply.started": "2022-02-06T16:55:57.541353Z"
        },
        "id": "j0oKDSHL-oIy",
        "outputId": "ee323eec-5c74-44d6-d6cf-80a872318df5",
        "trusted": true
      },
      "outputs": [
        {
          "name": "stdout",
          "output_type": "stream",
          "text": [
            "<class 'pandas.core.frame.DataFrame'>\n",
            "RangeIndex: 768 entries, 0 to 767\n",
            "Data columns (total 9 columns):\n",
            " #   Column                    Non-Null Count  Dtype  \n",
            "---  ------                    --------------  -----  \n",
            " 0   Pregnancies               768 non-null    int64  \n",
            " 1   Glucose                   768 non-null    int64  \n",
            " 2   BloodPressure             768 non-null    int64  \n",
            " 3   SkinThickness             768 non-null    int64  \n",
            " 4   Insulin                   768 non-null    int64  \n",
            " 5   BMI                       768 non-null    float64\n",
            " 6   DiabetesPedigreeFunction  768 non-null    float64\n",
            " 7   Age                       768 non-null    int64  \n",
            " 8   Outcome                   768 non-null    int64  \n",
            "dtypes: float64(2), int64(7)\n",
            "memory usage: 54.1 KB\n"
          ]
        }
      ],
      "source": [
        "# summary of the dataset\n",
        "df.info()"
      ]
    },
    {
      "cell_type": "markdown",
      "metadata": {
        "_cell_guid": "d1623be8-e5c9-4359-9747-bcaa469429ff",
        "_uuid": "765f95aef62cf293597ae9fc5c2a6063d1e83222",
        "id": "7Qj8OrWZ-oIz"
      },
      "source": [
        "There are 768 rows and 9 columns. The first 8 columns represent the features (X) and the last column represent the target/label (y). "
      ]
    },
    {
      "cell_type": "code",
      "execution_count": 6,
      "metadata": {
        "_cell_guid": "a405c050-6a75-4c4a-803f-86db6152d796",
        "_uuid": "5b6e02cc6d372bd5c3b646959fdf3db8c0e0a881",
        "execution": {
          "iopub.execute_input": "2022-02-06T16:56:02.368486Z",
          "iopub.status.busy": "2022-02-06T16:56:02.367836Z",
          "iopub.status.idle": "2022-02-06T16:56:02.383133Z",
          "shell.execute_reply": "2022-02-06T16:56:02.382443Z",
          "shell.execute_reply.started": "2022-02-06T16:56:02.368435Z"
        },
        "id": "O453vaEA-oIz",
        "trusted": true
      },
      "outputs": [],
      "source": [
        "# Separate data into X (input/predictors) and y (target)\n",
        "X = df.drop('Outcome',axis=1).values\n",
        "y = df['Outcome'].values"
      ]
    },
    {
      "cell_type": "markdown",
      "metadata": {
        "id": "2_osugzno9fL"
      },
      "source": [
        "## Train/Test Split"
      ]
    },
    {
      "cell_type": "code",
      "execution_count": 7,
      "metadata": {
        "_cell_guid": "380309a4-ecaa-43e6-be63-f0e657e5838b",
        "_uuid": "d90e61834caa0b28f7585e4322b49c1c2780d607",
        "execution": {
          "iopub.execute_input": "2022-02-06T16:56:22.553723Z",
          "iopub.status.busy": "2022-02-06T16:56:22.553410Z",
          "iopub.status.idle": "2022-02-06T16:56:22.561063Z",
          "shell.execute_reply": "2022-02-06T16:56:22.560250Z",
          "shell.execute_reply.started": "2022-02-06T16:56:22.553674Z"
        },
        "id": "AapweWLI-oI0",
        "trusted": true
      },
      "outputs": [],
      "source": [
        "# Use train/test split function\n",
        "# stratify option ensures the training and testing data have the same\n",
        "# proportion of positive and negative outcomes (0's and 1's for vector y)\n",
        "X_train,X_test,y_train,y_test = train_test_split(X,y, test_size=0.3, random_state=2, stratify=y)"
      ]
    },
    {
      "cell_type": "markdown",
      "metadata": {
        "id": "6M3QYVwipBMp"
      },
      "source": [
        "## Prediction model (skip details on how it works for this lecture)"
      ]
    },
    {
      "cell_type": "code",
      "execution_count": 8,
      "metadata": {
        "_cell_guid": "ca8346d5-a9a4-4728-8b24-253de0d9a31c",
        "_uuid": "745e27e18bf047cd2c71e014aebd324b306de5b5",
        "execution": {
          "iopub.execute_input": "2022-02-06T16:56:33.009024Z",
          "iopub.status.busy": "2022-02-06T16:56:33.008678Z",
          "iopub.status.idle": "2022-02-06T16:56:33.101519Z",
          "shell.execute_reply": "2022-02-06T16:56:33.100550Z",
          "shell.execute_reply.started": "2022-02-06T16:56:33.008954Z"
        },
        "id": "ykQi9IYR-oI1",
        "trusted": true
      },
      "outputs": [],
      "source": [
        "# kNN model (details covered next lecture)\n",
        "knn = KNeighborsClassifier(n_neighbors=4)\n",
        "knn.fit(X_train, y_train)\n",
        "\n",
        "# extract the predictions of the model using the X_test set\n",
        "y_pred = knn.predict(X_test)\n",
        "\n",
        "# extract the probabilities (of belonging to class \"1\")\n",
        "y_pred_proba = knn.predict_proba(X_test)[:,1]"
      ]
    },
    {
      "cell_type": "code",
      "execution_count": 9,
      "metadata": {
        "colab": {
          "base_uri": "https://localhost:8080/",
          "height": 424
        },
        "id": "_8nVJdBgHhm_",
        "outputId": "45d76811-a138-426c-bddf-62cae499bcf5"
      },
      "outputs": [
        {
          "data": {
            "text/html": [
              "<div>\n",
              "<style scoped>\n",
              "    .dataframe tbody tr th:only-of-type {\n",
              "        vertical-align: middle;\n",
              "    }\n",
              "\n",
              "    .dataframe tbody tr th {\n",
              "        vertical-align: top;\n",
              "    }\n",
              "\n",
              "    .dataframe thead th {\n",
              "        text-align: right;\n",
              "    }\n",
              "</style>\n",
              "<table border=\"1\" class=\"dataframe\">\n",
              "  <thead>\n",
              "    <tr style=\"text-align: right;\">\n",
              "      <th></th>\n",
              "      <th>true</th>\n",
              "      <th>predicted</th>\n",
              "      <th>probability</th>\n",
              "    </tr>\n",
              "  </thead>\n",
              "  <tbody>\n",
              "    <tr>\n",
              "      <th>0</th>\n",
              "      <td>0</td>\n",
              "      <td>1</td>\n",
              "      <td>0.75</td>\n",
              "    </tr>\n",
              "    <tr>\n",
              "      <th>1</th>\n",
              "      <td>0</td>\n",
              "      <td>0</td>\n",
              "      <td>0.00</td>\n",
              "    </tr>\n",
              "    <tr>\n",
              "      <th>2</th>\n",
              "      <td>0</td>\n",
              "      <td>0</td>\n",
              "      <td>0.25</td>\n",
              "    </tr>\n",
              "    <tr>\n",
              "      <th>3</th>\n",
              "      <td>1</td>\n",
              "      <td>1</td>\n",
              "      <td>0.75</td>\n",
              "    </tr>\n",
              "    <tr>\n",
              "      <th>4</th>\n",
              "      <td>0</td>\n",
              "      <td>0</td>\n",
              "      <td>0.00</td>\n",
              "    </tr>\n",
              "    <tr>\n",
              "      <th>...</th>\n",
              "      <td>...</td>\n",
              "      <td>...</td>\n",
              "      <td>...</td>\n",
              "    </tr>\n",
              "    <tr>\n",
              "      <th>226</th>\n",
              "      <td>1</td>\n",
              "      <td>1</td>\n",
              "      <td>0.75</td>\n",
              "    </tr>\n",
              "    <tr>\n",
              "      <th>227</th>\n",
              "      <td>1</td>\n",
              "      <td>0</td>\n",
              "      <td>0.00</td>\n",
              "    </tr>\n",
              "    <tr>\n",
              "      <th>228</th>\n",
              "      <td>0</td>\n",
              "      <td>0</td>\n",
              "      <td>0.25</td>\n",
              "    </tr>\n",
              "    <tr>\n",
              "      <th>229</th>\n",
              "      <td>0</td>\n",
              "      <td>0</td>\n",
              "      <td>0.25</td>\n",
              "    </tr>\n",
              "    <tr>\n",
              "      <th>230</th>\n",
              "      <td>1</td>\n",
              "      <td>1</td>\n",
              "      <td>1.00</td>\n",
              "    </tr>\n",
              "  </tbody>\n",
              "</table>\n",
              "<p>231 rows × 3 columns</p>\n",
              "</div>"
            ],
            "text/plain": [
              "     true  predicted  probability\n",
              "0       0          1         0.75\n",
              "1       0          0         0.00\n",
              "2       0          0         0.25\n",
              "3       1          1         0.75\n",
              "4       0          0         0.00\n",
              "..    ...        ...          ...\n",
              "226     1          1         0.75\n",
              "227     1          0         0.00\n",
              "228     0          0         0.25\n",
              "229     0          0         0.25\n",
              "230     1          1         1.00\n",
              "\n",
              "[231 rows x 3 columns]"
            ]
          },
          "execution_count": 9,
          "metadata": {},
          "output_type": "execute_result"
        }
      ],
      "source": [
        "# combine true and predicted values in a Dataframe\n",
        "y_df = pd.concat([pd.DataFrame(y_test),pd.DataFrame(y_pred),pd.DataFrame(y_pred_proba)], axis=1)\n",
        "y_df.columns = [\"true\",\"predicted\", \"probability\"]\n",
        "y_df"
      ]
    },
    {
      "cell_type": "markdown",
      "metadata": {
        "_cell_guid": "daf29d5a-b7c1-4a8b-8492-72ddce1ca359",
        "_uuid": "380c3b4a0a147f6d89cccfc20d313cfaec6e4c8e",
        "id": "xetpMler-oI3"
      },
      "source": [
        "## Confusion Matrix\n"
      ]
    },
    {
      "cell_type": "code",
      "execution_count": 10,
      "metadata": {
        "_uuid": "82e97b52f13616c7fefdb86902d7f2e1a3b52080",
        "colab": {
          "base_uri": "https://localhost:8080/"
        },
        "execution": {
          "iopub.execute_input": "2022-02-06T16:57:31.190187Z",
          "iopub.status.busy": "2022-02-06T16:57:31.189858Z",
          "iopub.status.idle": "2022-02-06T16:57:31.196863Z",
          "shell.execute_reply": "2022-02-06T16:57:31.195865Z",
          "shell.execute_reply.started": "2022-02-06T16:57:31.190123Z"
        },
        "id": "iCWjAeL2-oI3",
        "outputId": "9f061ce1-498d-4e9f-882c-e8520ae0e667",
        "trusted": true
      },
      "outputs": [
        {
          "data": {
            "text/plain": [
              "array([[137,  13],\n",
              "       [ 48,  33]])"
            ]
          },
          "execution_count": 10,
          "metadata": {},
          "output_type": "execute_result"
        }
      ],
      "source": [
        "# confusion matrix\n",
        "confusion_matrix(y_test,y_pred)"
      ]
    },
    {
      "cell_type": "code",
      "execution_count": 11,
      "metadata": {
        "colab": {
          "base_uri": "https://localhost:8080/",
          "height": 175
        },
        "id": "B0tCaw8S4eJ8",
        "outputId": "c66b443e-34f4-4e73-c5ec-4ca808836a93"
      },
      "outputs": [
        {
          "data": {
            "text/html": [
              "<div>\n",
              "<style scoped>\n",
              "    .dataframe tbody tr th:only-of-type {\n",
              "        vertical-align: middle;\n",
              "    }\n",
              "\n",
              "    .dataframe tbody tr th {\n",
              "        vertical-align: top;\n",
              "    }\n",
              "\n",
              "    .dataframe thead th {\n",
              "        text-align: right;\n",
              "    }\n",
              "</style>\n",
              "<table border=\"1\" class=\"dataframe\">\n",
              "  <thead>\n",
              "    <tr style=\"text-align: right;\">\n",
              "      <th>Predicted</th>\n",
              "      <th>0</th>\n",
              "      <th>1</th>\n",
              "      <th>All</th>\n",
              "    </tr>\n",
              "    <tr>\n",
              "      <th>True</th>\n",
              "      <th></th>\n",
              "      <th></th>\n",
              "      <th></th>\n",
              "    </tr>\n",
              "  </thead>\n",
              "  <tbody>\n",
              "    <tr>\n",
              "      <th>0</th>\n",
              "      <td>137</td>\n",
              "      <td>13</td>\n",
              "      <td>150</td>\n",
              "    </tr>\n",
              "    <tr>\n",
              "      <th>1</th>\n",
              "      <td>48</td>\n",
              "      <td>33</td>\n",
              "      <td>81</td>\n",
              "    </tr>\n",
              "    <tr>\n",
              "      <th>All</th>\n",
              "      <td>185</td>\n",
              "      <td>46</td>\n",
              "      <td>231</td>\n",
              "    </tr>\n",
              "  </tbody>\n",
              "</table>\n",
              "</div>"
            ],
            "text/plain": [
              "Predicted    0   1  All\n",
              "True                   \n",
              "0          137  13  150\n",
              "1           48  33   81\n",
              "All        185  46  231"
            ]
          },
          "execution_count": 11,
          "metadata": {},
          "output_type": "execute_result"
        }
      ],
      "source": [
        "# alternative: pandas has a function called crosstab\n",
        "pd.crosstab(y_test, y_pred, rownames=['True'], colnames=['Predicted'], margins=True)"
      ]
    },
    {
      "cell_type": "markdown",
      "metadata": {
        "_cell_guid": "dff9ee6e-5e97-4196-8b3a-ee5b199b3ba5",
        "_uuid": "56437155de90f62a1d550e5acfac3e1f9e2d1f01",
        "id": "50xPiOsZ-oI4"
      },
      "source": [
        "* True negative (tn) = 137\n",
        "* False positive (fp) = 13\n",
        "* False negative (fn) = 48\n",
        "* True positive (tp) = 33\n",
        "* Total = 231\n"
      ]
    },
    {
      "cell_type": "markdown",
      "metadata": {
        "id": "tILXuG-PNoYL"
      },
      "source": [
        "**Classification Report**\n",
        "\n",
        "* Accuracy = (tp+tn) / total\n",
        "* Precision = tp / (tp + fp), intuitively the ability of the classifier not to label as positive a sample that is negative.\n",
        "* Recall (Sensitivity) = tp / (tp + fn), intuitively the ability of the classifier to find all the positive samples."
      ]
    },
    {
      "cell_type": "code",
      "execution_count": 12,
      "metadata": {
        "colab": {
          "base_uri": "https://localhost:8080/"
        },
        "id": "ZCmk7fwmMLD5",
        "outputId": "e80b0b1d-3a4e-4af3-b23c-5aa7a3f70157"
      },
      "outputs": [
        {
          "name": "stdout",
          "output_type": "stream",
          "text": [
            "accuracy: 0.74 precision: 0.72 recall: 0.41\n"
          ]
        }
      ],
      "source": [
        "# Accuracy score\n",
        "m1 = accuracy_score(y_test,y_pred).round(2)\n",
        "\n",
        "# Precision score\n",
        "m2 = precision_score(y_test,y_pred).round(2)\n",
        "\n",
        "# Recall score\n",
        "m3 = recall_score(y_test, y_pred).round(2)\n",
        "\n",
        "print (\"accuracy:\", m1, \"precision:\", m2, \"recall:\", m3)"
      ]
    },
    {
      "cell_type": "code",
      "execution_count": 13,
      "metadata": {
        "_uuid": "154b90c999ba402d96bffaf0264ad467a05c10ae",
        "colab": {
          "base_uri": "https://localhost:8080/"
        },
        "execution": {
          "iopub.execute_input": "2022-02-06T16:57:55.145764Z",
          "iopub.status.busy": "2022-02-06T16:57:55.145287Z",
          "iopub.status.idle": "2022-02-06T16:57:55.153279Z",
          "shell.execute_reply": "2022-02-06T16:57:55.152355Z",
          "shell.execute_reply.started": "2022-02-06T16:57:55.145717Z"
        },
        "id": "Z4xFWYSY-oI4",
        "outputId": "a34a8491-24da-44cf-f0de-c3e8a49178a6",
        "trusted": true
      },
      "outputs": [
        {
          "name": "stdout",
          "output_type": "stream",
          "text": [
            "              precision    recall  f1-score   support\n",
            "\n",
            "           0       0.74      0.91      0.82       150\n",
            "           1       0.72      0.41      0.52        81\n",
            "\n",
            "    accuracy                           0.74       231\n",
            "   macro avg       0.73      0.66      0.67       231\n",
            "weighted avg       0.73      0.74      0.71       231\n",
            "\n"
          ]
        }
      ],
      "source": [
        "# Shortcut: summary using classification_report function\n",
        "print(classification_report(y_test,y_pred))"
      ]
    },
    {
      "cell_type": "markdown",
      "metadata": {
        "_uuid": "d01de7974804a39a757cff77debb7d6ce369977d",
        "id": "aFAAISvC-oI5"
      },
      "source": [
        "## ROC (Reciever Operating Charecteristic) curve"
      ]
    },
    {
      "cell_type": "code",
      "execution_count": 14,
      "metadata": {
        "_uuid": "9b060d55660a7efd5d88dd3f6e9a67dbfcd1d75d",
        "colab": {
          "base_uri": "https://localhost:8080/",
          "height": 295
        },
        "id": "5lhpYxgs-oI5",
        "outputId": "4a8e568b-9387-4875-9484-be7d25bc54a2",
        "trusted": true
      },
      "outputs": [
        {
          "data": {
            "image/png": "[encoded data removed]",
            "text/plain": [
              "<Figure size 640x480 with 1 Axes>"
            ]
          },
          "metadata": {},
          "output_type": "display_data"
        }
      ],
      "source": [
        "# extract roc curve values\n",
        "fpr, tpr, thresholds = roc_curve(y_test, y_pred_proba)\n",
        "\n",
        "# plot roc curve\n",
        "plt.plot([0,1],[0,1],'k--')\n",
        "plt.plot(fpr,tpr)\n",
        "plt.xlabel('fpr')\n",
        "plt.ylabel('tpr')\n",
        "plt.title('kNN Model ROC curve')\n",
        "plt.show()"
      ]
    },
    {
      "cell_type": "code",
      "execution_count": 15,
      "metadata": {
        "_uuid": "17143ca1a7fa550573b848e747fec666a2cc7355",
        "colab": {
          "base_uri": "https://localhost:8080/"
        },
        "id": "D-cHTZkM-oI5",
        "outputId": "8b64c68f-e774-49b3-d1b6-ff9a12ba6a17",
        "trusted": true
      },
      "outputs": [
        {
          "data": {
            "text/plain": [
              "0.7427160493827161"
            ]
          },
          "execution_count": 15,
          "metadata": {},
          "output_type": "execute_result"
        }
      ],
      "source": [
        "#Area under ROC curve (1 is best)\n",
        "roc_auc_score(y_test,y_pred_proba)"
      ]
    },
    {
      "cell_type": "markdown",
      "metadata": {
        "id": "yqwmTLTqkpou"
      },
      "source": [
        "## Cross-validation"
      ]
    },
    {
      "cell_type": "code",
      "execution_count": 15,
      "metadata": {
        "colab": {
          "base_uri": "https://localhost:8080/"
        },
        "id": "2eWjjGCgioFh",
        "outputId": "f789d99c-62d7-4f9a-e2be-00b911b98061"
      },
      "outputs": [
        {
          "name": "stdout",
          "output_type": "stream",
          "text": [
            "accuracy scores for each subset: [0.753 0.74  0.727 0.699 0.719]\n",
            "average accuracy 0.728\n"
          ]
        }
      ],
      "source": [
        "# Alternative method with cross-validation\n",
        "# cross_val_score() outputs the accuracy of the model\n",
        "\n",
        "# options to set:\n",
        "# shuffle: randomly shuffle the data prior to splitting\n",
        "# random_state: allows the shuffling to be hard-coded  \n",
        "fold_options = KFold(n_splits=5, shuffle=True)\n",
        "\n",
        "# obtain the scores, such as accuracy, f1 score etc.\n",
        "# types of \"scoring\" includes \"accuracy\", \"f1\", \"precision\", etc. listed here:\n",
        "# https://scikit-learn.org/stable/modules/model_evaluation.html\n",
        "score_type = 'accuracy'\n",
        "\n",
        "# Syntax: cross_val_score(my_model, X_data, y_data, options)\n",
        "cv_scores = cross_val_score(knn, X, y, scoring = score_type, cv=fold_options)\n",
        "\n",
        "print(score_type, \"scores for each subset:\", cv_scores.round(3))\n",
        "print(\"average\", score_type, np.mean(cv_scores).round(3))"
      ]
    }
  ],
  "metadata": {
    "colab": {
      "collapsed_sections": [],
      "provenance": []
    },
    "kernelspec": {
      "display_name": "Python 3",
      "language": "python",
      "name": "python3"
    },
    "language_info": {
      "codemirror_mode": {
        "name": "ipython",
        "version": 3
      },
      "file_extension": ".py",
      "mimetype": "text/x-python",
      "name": "python",
      "nbconvert_exporter": "python",
      "pygments_lexer": "ipython3",
      "version": "3.9.15"
    }
  },
  "nbformat": 4,
  "nbformat_minor": 0
}
