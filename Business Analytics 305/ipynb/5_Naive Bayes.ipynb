{
  "cells": [
    {
      "cell_type": "markdown",
      "metadata": {
        "id": "X27dlB7yFqOz"
      },
      "source": [
        "# Building a basic SPAM Filter with Naive Bayes \n",
        "\n",
        "**dataset source:** University of California Irvine Spam DATABASE 'UCIspamdb.csv'\n",
        "\n",
        "The collection is composed by just one text file, where each line has the correct class followed by the raw message. Some examples below:\n",
        "\n",
        "ham or spam?  | email/sms text content\n",
        "--------------|------------------\n",
        "ham       | What you doing?how are you?\n",
        "ham       |  Cos i was out shopping wif darren jus now n i called him 2 ask wat present he wan lor. Then he started guessing who i was wif n he finally guessed darren lor.\n",
        "spam | Sunshine Quiz! Win a super Sony DVD recorder if you canname the capital of Australia? Text MQUIZ to 82277. B\n",
        "spam | FreeMsg: Txt: CALL to No: 86888 & claim your reward of 3 hours talk time to use from your phone now! ubscribe6GBP/ mnth inc 3hrs 16 stop?txtStop"
      ]
    },
    {
      "cell_type": "code",
      "execution_count": 1,
      "metadata": {
        "id": "MaBBUDv0FpTA"
      },
      "outputs": [],
      "source": [
        "# Import our usual packages...\n",
        "import matplotlib.pyplot as plt\n",
        "import numpy as np\n",
        "import pandas as pd \n",
        "\n",
        "# Import some useful packages from scikit-learn\n",
        "from sklearn.feature_extraction.text import CountVectorizer\n",
        "from sklearn.metrics import *\n",
        "from sklearn.model_selection import train_test_split\n",
        "from sklearn.naive_bayes import MultinomialNB # The Naive Bayes algo"
      ]
    },
    {
      "cell_type": "code",
      "execution_count": 2,
      "metadata": {
        "colab": {
          "base_uri": "https://localhost:8080/"
        },
        "id": "FkY2ar6rF_F-",
        "outputId": "f263b097-dc1e-43cb-89bd-4da445d756ac"
      },
      "outputs": [
        {
          "name": "stdout",
          "output_type": "stream",
          "text": [
            "<class 'pandas.core.frame.DataFrame'>\n",
            "RangeIndex: 5514 entries, 0 to 5513\n",
            "Data columns (total 2 columns):\n",
            " #   Column  Non-Null Count  Dtype \n",
            "---  ------  --------------  ----- \n",
            " 0   target  5514 non-null   object\n",
            " 1   text    5514 non-null   object\n",
            "dtypes: object(2)\n",
            "memory usage: 86.3+ KB\n"
          ]
        }
      ],
      "source": [
        "# connect to Google Drive and load the data\n",
        "# from google.colab import drive\n",
        "# drive.mount('/content/drive')\n",
        "df = pd.read_csv('../data/UCIspamdb.csv')\n",
        "df.info()"
      ]
    },
    {
      "cell_type": "code",
      "execution_count": 3,
      "metadata": {
        "colab": {
          "base_uri": "https://localhost:8080/",
          "height": 363
        },
        "id": "mUJlZqktGa6I",
        "outputId": "95350312-8188-4a4d-95d7-b2bb1e61795a"
      },
      "outputs": [
        {
          "data": {
            "text/html": [
              "<div>\n",
              "<style scoped>\n",
              "    .dataframe tbody tr th:only-of-type {\n",
              "        vertical-align: middle;\n",
              "    }\n",
              "\n",
              "    .dataframe tbody tr th {\n",
              "        vertical-align: top;\n",
              "    }\n",
              "\n",
              "    .dataframe thead th {\n",
              "        text-align: right;\n",
              "    }\n",
              "</style>\n",
              "<table border=\"1\" class=\"dataframe\">\n",
              "  <thead>\n",
              "    <tr style=\"text-align: right;\">\n",
              "      <th></th>\n",
              "      <th>target</th>\n",
              "      <th>text</th>\n",
              "    </tr>\n",
              "  </thead>\n",
              "  <tbody>\n",
              "    <tr>\n",
              "      <th>0</th>\n",
              "      <td>ham</td>\n",
              "      <td>Go until jurong point, crazy.. Available only ...</td>\n",
              "    </tr>\n",
              "    <tr>\n",
              "      <th>1</th>\n",
              "      <td>ham</td>\n",
              "      <td>Ok lar... Joking wif u oni...</td>\n",
              "    </tr>\n",
              "    <tr>\n",
              "      <th>2</th>\n",
              "      <td>spam</td>\n",
              "      <td>Free entry in 2 a wkly comp to win FA Cup fina...</td>\n",
              "    </tr>\n",
              "    <tr>\n",
              "      <th>3</th>\n",
              "      <td>ham</td>\n",
              "      <td>U dun say so early hor... U c already then say...</td>\n",
              "    </tr>\n",
              "    <tr>\n",
              "      <th>4</th>\n",
              "      <td>ham</td>\n",
              "      <td>Nah I don't think he goes to usf, he lives aro...</td>\n",
              "    </tr>\n",
              "    <tr>\n",
              "      <th>5</th>\n",
              "      <td>spam</td>\n",
              "      <td>FreeMsg Hey there darling it's been 3 week's n...</td>\n",
              "    </tr>\n",
              "    <tr>\n",
              "      <th>6</th>\n",
              "      <td>ham</td>\n",
              "      <td>Even my brother is not like to speak with me. ...</td>\n",
              "    </tr>\n",
              "    <tr>\n",
              "      <th>7</th>\n",
              "      <td>ham</td>\n",
              "      <td>As per your request 'Melle Melle (Oru Minnamin...</td>\n",
              "    </tr>\n",
              "    <tr>\n",
              "      <th>8</th>\n",
              "      <td>spam</td>\n",
              "      <td>WINNER!! As a valued network customer you have...</td>\n",
              "    </tr>\n",
              "    <tr>\n",
              "      <th>9</th>\n",
              "      <td>spam</td>\n",
              "      <td>Had your mobile 11 months or more? U R entitle...</td>\n",
              "    </tr>\n",
              "  </tbody>\n",
              "</table>\n",
              "</div>"
            ],
            "text/plain": [
              "  target                                               text\n",
              "0    ham  Go until jurong point, crazy.. Available only ...\n",
              "1    ham                      Ok lar... Joking wif u oni...\n",
              "2   spam  Free entry in 2 a wkly comp to win FA Cup fina...\n",
              "3    ham  U dun say so early hor... U c already then say...\n",
              "4    ham  Nah I don't think he goes to usf, he lives aro...\n",
              "5   spam  FreeMsg Hey there darling it's been 3 week's n...\n",
              "6    ham  Even my brother is not like to speak with me. ...\n",
              "7    ham  As per your request 'Melle Melle (Oru Minnamin...\n",
              "8   spam  WINNER!! As a valued network customer you have...\n",
              "9   spam  Had your mobile 11 months or more? U R entitle..."
            ]
          },
          "execution_count": 3,
          "metadata": {},
          "output_type": "execute_result"
        }
      ],
      "source": [
        "# Display the first 10 rows of the dataframe\n",
        "df.head(10)"
      ]
    },
    {
      "cell_type": "code",
      "execution_count": 4,
      "metadata": {
        "id": "sIMNF7A41qwi"
      },
      "outputs": [],
      "source": [
        "# replace the \"spam\" or \"ham\" tag with 1,0, using the numpy where() function\n",
        "df['target'] = np.where(df['target']=='spam',1, 0)"
      ]
    },
    {
      "cell_type": "code",
      "execution_count": 5,
      "metadata": {
        "colab": {
          "base_uri": "https://localhost:8080/",
          "height": 363
        },
        "id": "HJE_Jm3a1xrK",
        "outputId": "23b8ba26-fa15-47e0-b10c-295f10f120fc"
      },
      "outputs": [
        {
          "data": {
            "text/html": [
              "<div>\n",
              "<style scoped>\n",
              "    .dataframe tbody tr th:only-of-type {\n",
              "        vertical-align: middle;\n",
              "    }\n",
              "\n",
              "    .dataframe tbody tr th {\n",
              "        vertical-align: top;\n",
              "    }\n",
              "\n",
              "    .dataframe thead th {\n",
              "        text-align: right;\n",
              "    }\n",
              "</style>\n",
              "<table border=\"1\" class=\"dataframe\">\n",
              "  <thead>\n",
              "    <tr style=\"text-align: right;\">\n",
              "      <th></th>\n",
              "      <th>target</th>\n",
              "      <th>text</th>\n",
              "    </tr>\n",
              "  </thead>\n",
              "  <tbody>\n",
              "    <tr>\n",
              "      <th>0</th>\n",
              "      <td>0</td>\n",
              "      <td>Go until jurong point, crazy.. Available only ...</td>\n",
              "    </tr>\n",
              "    <tr>\n",
              "      <th>1</th>\n",
              "      <td>0</td>\n",
              "      <td>Ok lar... Joking wif u oni...</td>\n",
              "    </tr>\n",
              "    <tr>\n",
              "      <th>2</th>\n",
              "      <td>1</td>\n",
              "      <td>Free entry in 2 a wkly comp to win FA Cup fina...</td>\n",
              "    </tr>\n",
              "    <tr>\n",
              "      <th>3</th>\n",
              "      <td>0</td>\n",
              "      <td>U dun say so early hor... U c already then say...</td>\n",
              "    </tr>\n",
              "    <tr>\n",
              "      <th>4</th>\n",
              "      <td>0</td>\n",
              "      <td>Nah I don't think he goes to usf, he lives aro...</td>\n",
              "    </tr>\n",
              "    <tr>\n",
              "      <th>5</th>\n",
              "      <td>1</td>\n",
              "      <td>FreeMsg Hey there darling it's been 3 week's n...</td>\n",
              "    </tr>\n",
              "    <tr>\n",
              "      <th>6</th>\n",
              "      <td>0</td>\n",
              "      <td>Even my brother is not like to speak with me. ...</td>\n",
              "    </tr>\n",
              "    <tr>\n",
              "      <th>7</th>\n",
              "      <td>0</td>\n",
              "      <td>As per your request 'Melle Melle (Oru Minnamin...</td>\n",
              "    </tr>\n",
              "    <tr>\n",
              "      <th>8</th>\n",
              "      <td>1</td>\n",
              "      <td>WINNER!! As a valued network customer you have...</td>\n",
              "    </tr>\n",
              "    <tr>\n",
              "      <th>9</th>\n",
              "      <td>1</td>\n",
              "      <td>Had your mobile 11 months or more? U R entitle...</td>\n",
              "    </tr>\n",
              "  </tbody>\n",
              "</table>\n",
              "</div>"
            ],
            "text/plain": [
              "   target                                               text\n",
              "0       0  Go until jurong point, crazy.. Available only ...\n",
              "1       0                      Ok lar... Joking wif u oni...\n",
              "2       1  Free entry in 2 a wkly comp to win FA Cup fina...\n",
              "3       0  U dun say so early hor... U c already then say...\n",
              "4       0  Nah I don't think he goes to usf, he lives aro...\n",
              "5       1  FreeMsg Hey there darling it's been 3 week's n...\n",
              "6       0  Even my brother is not like to speak with me. ...\n",
              "7       0  As per your request 'Melle Melle (Oru Minnamin...\n",
              "8       1  WINNER!! As a valued network customer you have...\n",
              "9       1  Had your mobile 11 months or more? U R entitle..."
            ]
          },
          "execution_count": 5,
          "metadata": {},
          "output_type": "execute_result"
        }
      ],
      "source": [
        "# Display the first 10 rows of the dataframe\n",
        "df.head(10)"
      ]
    },
    {
      "cell_type": "code",
      "execution_count": 6,
      "metadata": {
        "id": "M9YDM5cHJXpY"
      },
      "outputs": [],
      "source": [
        "# Define inputs and target\n",
        "X=df['text']\n",
        "y=df['target']"
      ]
    },
    {
      "cell_type": "code",
      "execution_count": 7,
      "metadata": {
        "id": "rEsH4J-nGbkX"
      },
      "outputs": [],
      "source": [
        "# split data into training and testing\n",
        "X_train, X_test, y_train, y_test = train_test_split(X,y , test_size=0.3, random_state=0)"
      ]
    },
    {
      "cell_type": "markdown",
      "metadata": {
        "id": "otYwUjptenq0"
      },
      "source": [
        "## Vectorize Words\n",
        "\n",
        "Because we are dealing with text, we need to an intertmediate step to **vectorize** the content, meaning turn it into digits. For example, imagine we have in our database entries:\n",
        "\n",
        "$x_1$: `\"Prescription drugs! Buy cheap prescription drugs drugs with big discount!\"`\n",
        "\n",
        "$x_2$: `\"Your prescription drugs from CVS are ready for pickup.\"`\n",
        "\n",
        "Step 1. We start by building a giant dictionary of words. Each row of text is converted into a vector of numbers, as follows:\n",
        "\n",
        "text | discount | ... | big | ...| buy | ... | cheap | ... | drugs | ... | pickup | ... | prescription | ... | ;is spam?\n",
        "-----|----|-----|-----|-----|---|-----|-------|-----|-------|-----|---|---|---|---|---\n",
        "$x_1$ | 1 | ... | 1 | ... | 1 | ... | 1 | ... | 3 | ... | 0 | ... | 2 | ...| ;yes\n",
        "$x_2$  | 0 | ... | 0 | ... | 0 | ... | 0 | ... | 1 | ... | 1 | ... | 1 | ... | ;no\n",
        "\n",
        "Step 2. The rest of the NB algorithm works as in the slides, from this point onwards. Let's assume we have a new entry: $x_3:$ \"hello world\". We vectorize $x_3$, then the algorithm can compute $p(x_3 | spam = \"yes\")$ and then use Bayes' Theorem to compute $p(y_3=\"spam\" | x_3) $.\n"
      ]
    },
    {
      "cell_type": "code",
      "execution_count": 8,
      "metadata": {
        "colab": {
          "base_uri": "https://localhost:8080/"
        },
        "id": "UK34C51eGn0N",
        "outputId": "bc90a87e-3227-4b9b-c3f1-89a479d6bddb"
      },
      "outputs": [
        {
          "name": "stdout",
          "output_type": "stream",
          "text": [
            "(3859, 7004)\n",
            "(1655, 7004)\n"
          ]
        }
      ],
      "source": [
        "# Vectorize words\n",
        "# First, we are going to create a dictionary of all the words\n",
        "# contained in the X_train dataset using fit()\n",
        "vectorizer = CountVectorizer().fit(X_train)\n",
        "# Now we run the frequency counter using transform(), that counts how many times\n",
        "# each word appears in each message.\n",
        "# Note: If X_test contains some words that are not in X_train,\n",
        "# then those words will be skipped in the transformation step.\n",
        "# Conceptually, we are saying that we cannot use those new words\n",
        "# to make predictions, since they didn't appear in our training set\n",
        "X_train_vec = vectorizer.transform(X_train)\n",
        "X_test_vec = vectorizer.transform(X_test)\n",
        "\n",
        "print(X_train_vec.shape)\n",
        "print(X_test_vec.shape)"
      ]
    },
    {
      "cell_type": "code",
      "execution_count": 9,
      "metadata": {
        "colab": {
          "base_uri": "https://localhost:8080/"
        },
        "id": "WggGqn2uJIx1",
        "outputId": "72781d63-7c9f-4bec-c59b-efd22cc53cc3"
      },
      "outputs": [
        {
          "data": {
            "text/plain": [
              "array(['00', '000', '008704050406', ..., 'zoom', 'ú1', '〨ud'],\n",
              "      dtype=object)"
            ]
          },
          "execution_count": 9,
          "metadata": {},
          "output_type": "execute_result"
        }
      ],
      "source": [
        "# Let's try to visualize the words the vectorizer caught\n",
        "vectorizer.get_feature_names_out()"
      ]
    },
    {
      "cell_type": "code",
      "execution_count": 10,
      "metadata": {
        "colab": {
          "base_uri": "https://localhost:8080/"
        },
        "id": "YRL80Q0pIip7",
        "outputId": "3ada2de4-601d-499d-8ebe-0c96569c54f5"
      },
      "outputs": [
        {
          "name": "stdout",
          "output_type": "stream",
          "text": [
            "[[0 0 0 ... 0 0 0]\n",
            " [0 0 0 ... 0 0 0]\n",
            " [0 0 0 ... 0 0 0]\n",
            " ...\n",
            " [0 0 0 ... 0 0 0]\n",
            " [0 0 0 ... 0 0 0]\n",
            " [0 0 0 ... 0 0 0]]\n"
          ]
        }
      ],
      "source": [
        "# Let's also try to see the numbers it assigned to each word...\n",
        "print(X_train_vec.toarray())"
      ]
    },
    {
      "cell_type": "code",
      "execution_count": 11,
      "metadata": {
        "colab": {
          "base_uri": "https://localhost:8080/"
        },
        "id": "DziGz97Mh79S",
        "outputId": "4d8344f8-004c-4cd1-dde2-6b675fae0212"
      },
      "outputs": [
        {
          "data": {
            "text/plain": [
              "array([ 0,  1,  2,  3,  4,  5,  6,  7,  8, 10, 11, 12, 15, 18])"
            ]
          },
          "execution_count": 11,
          "metadata": {},
          "output_type": "execute_result"
        }
      ],
      "source": [
        "# Since the matrix is too big, we can't see if there are any non-zero's in there.\n",
        "# One way to check is to extract all the unique numbers that are contained\n",
        "# in the matrix, using function numpy.unique()\n",
        "np.unique(X_train_vec.toarray())"
      ]
    },
    {
      "cell_type": "markdown",
      "metadata": {
        "id": "a2CDKjSmySTI"
      },
      "source": [
        "## Drumroll.... Time to run the Naive Bayes Classifier"
      ]
    },
    {
      "cell_type": "code",
      "execution_count": 12,
      "metadata": {
        "colab": {
          "base_uri": "https://localhost:8080/"
        },
        "id": "JfGi1YUHGxmA",
        "outputId": "0d98d99c-200c-4685-e4fb-ef74fea904ca"
      },
      "outputs": [
        {
          "data": {
            "text/html": [
              "<style>#sk-container-id-1 {color: black;background-color: white;}#sk-container-id-1 pre{padding: 0;}#sk-container-id-1 div.sk-toggleable {background-color: white;}#sk-container-id-1 label.sk-toggleable__label {cursor: pointer;display: block;width: 100%;margin-bottom: 0;padding: 0.3em;box-sizing: border-box;text-align: center;}#sk-container-id-1 label.sk-toggleable__label-arrow:before {content: \"▸\";float: left;margin-right: 0.25em;color: #696969;}#sk-container-id-1 label.sk-toggleable__label-arrow:hover:before {color: black;}#sk-container-id-1 div.sk-estimator:hover label.sk-toggleable__label-arrow:before {color: black;}#sk-container-id-1 div.sk-toggleable__content {max-height: 0;max-width: 0;overflow: hidden;text-align: left;background-color: #f0f8ff;}#sk-container-id-1 div.sk-toggleable__content pre {margin: 0.2em;color: black;border-radius: 0.25em;background-color: #f0f8ff;}#sk-container-id-1 input.sk-toggleable__control:checked~div.sk-toggleable__content {max-height: 200px;max-width: 100%;overflow: auto;}#sk-container-id-1 input.sk-toggleable__control:checked~label.sk-toggleable__label-arrow:before {content: \"▾\";}#sk-container-id-1 div.sk-estimator input.sk-toggleable__control:checked~label.sk-toggleable__label {background-color: #d4ebff;}#sk-container-id-1 div.sk-label input.sk-toggleable__control:checked~label.sk-toggleable__label {background-color: #d4ebff;}#sk-container-id-1 input.sk-hidden--visually {border: 0;clip: rect(1px 1px 1px 1px);clip: rect(1px, 1px, 1px, 1px);height: 1px;margin: -1px;overflow: hidden;padding: 0;position: absolute;width: 1px;}#sk-container-id-1 div.sk-estimator {font-family: monospace;background-color: #f0f8ff;border: 1px dotted black;border-radius: 0.25em;box-sizing: border-box;margin-bottom: 0.5em;}#sk-container-id-1 div.sk-estimator:hover {background-color: #d4ebff;}#sk-container-id-1 div.sk-parallel-item::after {content: \"\";width: 100%;border-bottom: 1px solid gray;flex-grow: 1;}#sk-container-id-1 div.sk-label:hover label.sk-toggleable__label {background-color: #d4ebff;}#sk-container-id-1 div.sk-serial::before {content: \"\";position: absolute;border-left: 1px solid gray;box-sizing: border-box;top: 0;bottom: 0;left: 50%;z-index: 0;}#sk-container-id-1 div.sk-serial {display: flex;flex-direction: column;align-items: center;background-color: white;padding-right: 0.2em;padding-left: 0.2em;position: relative;}#sk-container-id-1 div.sk-item {position: relative;z-index: 1;}#sk-container-id-1 div.sk-parallel {display: flex;align-items: stretch;justify-content: center;background-color: white;position: relative;}#sk-container-id-1 div.sk-item::before, #sk-container-id-1 div.sk-parallel-item::before {content: \"\";position: absolute;border-left: 1px solid gray;box-sizing: border-box;top: 0;bottom: 0;left: 50%;z-index: -1;}#sk-container-id-1 div.sk-parallel-item {display: flex;flex-direction: column;z-index: 1;position: relative;background-color: white;}#sk-container-id-1 div.sk-parallel-item:first-child::after {align-self: flex-end;width: 50%;}#sk-container-id-1 div.sk-parallel-item:last-child::after {align-self: flex-start;width: 50%;}#sk-container-id-1 div.sk-parallel-item:only-child::after {width: 0;}#sk-container-id-1 div.sk-dashed-wrapped {border: 1px dashed gray;margin: 0 0.4em 0.5em 0.4em;box-sizing: border-box;padding-bottom: 0.4em;background-color: white;}#sk-container-id-1 div.sk-label label {font-family: monospace;font-weight: bold;display: inline-block;line-height: 1.2em;}#sk-container-id-1 div.sk-label-container {text-align: center;}#sk-container-id-1 div.sk-container {/* jupyter's `normalize.less` sets `[hidden] { display: none; }` but bootstrap.min.css set `[hidden] { display: none !important; }` so we also need the `!important` here to be able to override the default hidden behavior on the sphinx rendered scikit-learn.org. See: https://github.com/scikit-learn/scikit-learn/issues/21755 */display: inline-block !important;position: relative;}#sk-container-id-1 div.sk-text-repr-fallback {display: none;}</style><div id=\"sk-container-id-1\" class=\"sk-top-container\"><div class=\"sk-text-repr-fallback\"><pre>MultinomialNB()</pre><b>In a Jupyter environment, please rerun this cell to show the HTML representation or trust the notebook. <br />On GitHub, the HTML representation is unable to render, please try loading this page with nbviewer.org.</b></div><div class=\"sk-container\" hidden><div class=\"sk-item\"><div class=\"sk-estimator sk-toggleable\"><input class=\"sk-toggleable__control sk-hidden--visually\" id=\"sk-estimator-id-1\" type=\"checkbox\" checked><label for=\"sk-estimator-id-1\" class=\"sk-toggleable__label sk-toggleable__label-arrow\">MultinomialNB</label><div class=\"sk-toggleable__content\"><pre>MultinomialNB()</pre></div></div></div></div></div>"
            ],
            "text/plain": [
              "MultinomialNB()"
            ]
          },
          "execution_count": 12,
          "metadata": {},
          "output_type": "execute_result"
        }
      ],
      "source": [
        "# Let's call the model 'NB' for short\n",
        "NB = MultinomialNB()\n",
        "NB.fit(X_train_vec, y_train)"
      ]
    },
    {
      "cell_type": "code",
      "execution_count": 13,
      "metadata": {
        "colab": {
          "base_uri": "https://localhost:8080/"
        },
        "id": "r4U4V-BIe_LP",
        "outputId": "0018880b-c59c-404f-ab08-24bbac9641e3"
      },
      "outputs": [
        {
          "data": {
            "text/plain": [
              "array([3368.,  491.])"
            ]
          },
          "execution_count": 13,
          "metadata": {},
          "output_type": "execute_result"
        }
      ],
      "source": [
        "# How many entries were ham vs spam?\n",
        "NB.class_count_"
      ]
    },
    {
      "cell_type": "code",
      "execution_count": 14,
      "metadata": {
        "colab": {
          "base_uri": "https://localhost:8080/"
        },
        "id": "hgXmmEHgH1yd",
        "outputId": "2f155a57-99e5-4955-bc45-56ec8e04d27e"
      },
      "outputs": [
        {
          "data": {
            "text/plain": [
              "0.9885196374622357"
            ]
          },
          "execution_count": 14,
          "metadata": {},
          "output_type": "execute_result"
        }
      ],
      "source": [
        "# Accuracy of NB model\n",
        "y_pred = NB.predict(X_test_vec)\n",
        "accuracy_score(y_test, y_pred)"
      ]
    },
    {
      "cell_type": "code",
      "execution_count": 15,
      "metadata": {
        "colab": {
          "base_uri": "https://localhost:8080/"
        },
        "id": "DneMGNOpfK62",
        "outputId": "afe5fbab-d61a-42ee-b0f5-e820bb3ff80a"
      },
      "outputs": [
        {
          "data": {
            "text/plain": [
              "array([[1423,    8],\n",
              "       [  11,  213]])"
            ]
          },
          "execution_count": 15,
          "metadata": {},
          "output_type": "execute_result"
        }
      ],
      "source": [
        "# Confusion Matrix\n",
        "confusion_matrix(y_test,y_pred)"
      ]
    },
    {
      "cell_type": "markdown",
      "metadata": {
        "id": "0Xi9BUMbsKRU"
      },
      "source": [
        "## Now, let's use our spam filter to classify some entirely new, never beforeseen text..."
      ]
    },
    {
      "cell_type": "code",
      "execution_count": 16,
      "metadata": {
        "id": "B27X48otLwhO"
      },
      "outputs": [],
      "source": [
        "emails=[\n",
        "        \"Hi all. How are you liking BA305 so far?\",\n",
        "        \"Do you think this spam filter is working well?\",\n",
        "        \"congratulations, you became today's lucky winner\",\n",
        "        \"WINNER WINNER CHICKEN DINNER\"\n",
        "    ]"
      ]
    },
    {
      "cell_type": "code",
      "execution_count": 17,
      "metadata": {
        "colab": {
          "base_uri": "https://localhost:8080/"
        },
        "id": "QiWWuknLKD-i",
        "outputId": "f94c58bb-df4f-4834-cc59-6382f254ca55"
      },
      "outputs": [
        {
          "data": {
            "text/plain": [
              "array([0, 0, 1, 1])"
            ]
          },
          "execution_count": 17,
          "metadata": {},
          "output_type": "execute_result"
        }
      ],
      "source": [
        "# Vectorize the emails\n",
        "emails_vec = vectorizer.transform(emails)\n",
        "# Call the predict function, 1 means spam, 0 means not spam\n",
        "NB.predict(emails_vec)"
      ]
    },
    {
      "cell_type": "markdown",
      "metadata": {
        "id": "gHzrOfc7tTqY"
      },
      "source": [
        "Seems like pretty good accuracy... let's try to trick the spam filter. It seems the keyword \"winner\" comes up often in spam. How good is our spam filter?"
      ]
    },
    {
      "cell_type": "code",
      "execution_count": 18,
      "metadata": {
        "id": "f7JG_RYEtEZw"
      },
      "outputs": [],
      "source": [
        "emails2=[\n",
        "        \"congratulations, you became today's lucky winner\",\n",
        "        \"Zendaya was the winner of our class project today\",\n",
        "        \"Zendaya, I wanted to congratulate you as our winner today\",\n",
        "        \"Zendaya, I wanted to congratulate you for winning the class project today\"\n",
        "    ]"
      ]
    },
    {
      "cell_type": "code",
      "execution_count": 19,
      "metadata": {
        "colab": {
          "base_uri": "https://localhost:8080/"
        },
        "id": "gbHcdl87thW7",
        "outputId": "19f62072-d86a-4117-e9a2-ab9464bebef3"
      },
      "outputs": [
        {
          "data": {
            "text/plain": [
              "array([1, 0, 0, 0])"
            ]
          },
          "execution_count": 19,
          "metadata": {},
          "output_type": "execute_result"
        }
      ],
      "source": [
        "# Vectorize the emails\n",
        "emails2_vec = vectorizer.transform(emails2)\n",
        "# Call the predict function\n",
        "NB.predict(emails2_vec)"
      ]
    },
    {
      "cell_type": "markdown",
      "metadata": {
        "id": "Hf3pd-U8wY1r"
      },
      "source": [
        "Pretty good! We were able to trick it on line 3, but to be fair, it's not 100% clear to us either, if line 3 is spam or not."
      ]
    },
    {
      "cell_type": "markdown",
      "metadata": {
        "id": "hXMxwEBvw174"
      },
      "source": [
        "## Bonus: How about we try to use our K-NN classifier from last time, to compare?"
      ]
    },
    {
      "cell_type": "code",
      "execution_count": 20,
      "metadata": {
        "colab": {
          "base_uri": "https://localhost:8080/"
        },
        "id": "ZAanmtAUwi4Y",
        "outputId": "3df3f113-20d3-4cdb-c9a5-c3a06925b801"
      },
      "outputs": [
        {
          "name": "stdout",
          "output_type": "stream",
          "text": [
            "Accuracy: 0.916012084592145\n"
          ]
        },
        {
          "data": {
            "text/plain": [
              "array([[1431,    0],\n",
              "       [ 139,   85]])"
            ]
          },
          "execution_count": 20,
          "metadata": {},
          "output_type": "execute_result"
        }
      ],
      "source": [
        "# Calling our KNN classifier from last time...\n",
        "from sklearn.neighbors import KNeighborsClassifier\n",
        "knn = KNeighborsClassifier(n_neighbors=5)\n",
        "knn.fit(X_train_vec, y_train)\n",
        "y_pred = knn.predict(X_test_vec)\n",
        "\n",
        "# Metrics...\n",
        "print('Accuracy:', accuracy_score(y_test, y_pred))\n",
        "confusion_matrix(y_test,y_pred)"
      ]
    },
    {
      "cell_type": "code",
      "execution_count": 22,
      "metadata": {},
      "outputs": [
        {
          "data": {
            "text/plain": [
              "array([0, 0, 0, 0])"
            ]
          },
          "execution_count": 22,
          "metadata": {},
          "output_type": "execute_result"
        }
      ],
      "source": [
        "knn.predict(emails_vec)"
      ]
    },
    {
      "cell_type": "code",
      "execution_count": 21,
      "metadata": {
        "colab": {
          "base_uri": "https://localhost:8080/"
        },
        "id": "H24q1Mu6y8Cl",
        "outputId": "2c5e8402-8ca8-42a6-9380-52627aa8f321"
      },
      "outputs": [
        {
          "data": {
            "text/plain": [
              "array([0, 0, 0, 0])"
            ]
          },
          "execution_count": 21,
          "metadata": {},
          "output_type": "execute_result"
        }
      ],
      "source": [
        "knn.predict(emails2_vec)"
      ]
    },
    {
      "cell_type": "markdown",
      "metadata": {
        "id": "PVcioDYEy9lg"
      },
      "source": [
        "k-NN seems to be underperforming compared to NB, at this classsification task..."
      ]
    }
  ],
  "metadata": {
    "colab": {
      "collapsed_sections": [],
      "provenance": []
    },
    "kernelspec": {
      "display_name": "Python 3",
      "name": "python3"
    },
    "language_info": {
      "codemirror_mode": {
        "name": "ipython",
        "version": 3
      },
      "file_extension": ".py",
      "mimetype": "text/x-python",
      "name": "python",
      "nbconvert_exporter": "python",
      "pygments_lexer": "ipython3",
      "version": "3.9.15"
    }
  },
  "nbformat": 4,
  "nbformat_minor": 0
}
