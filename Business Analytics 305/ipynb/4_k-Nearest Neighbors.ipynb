{
  "cells": [
    {
      "cell_type": "markdown",
      "metadata": {
        "id": "s9z8wsrWXnRe"
      },
      "source": [
        "# **Personal Loan Acceptance**\n",
        "\n",
        "Universal Bank is a relatively young bank growing rapidly in terms of overall customer acquisition. The majority of these customers are liability customers (depositors) with varying sizes of relationship with the bank. The customer base of asset customers (borrowers) is quite small, and **the bank is interested in expanding this base rapidly to bring in more loan business.** In particular, it wants to explore ways of converting its depositors to personal loan customers (while retaining them as depositors).\n",
        "\n",
        "A campaign that the bank ran last year for depositors showed a healthy conversion rate of over 9% success. This has encouraged the retail marketing department to devise smarter campaigns with better target marketing. **The goal is to use\n",
        "k-NN to predict whether a new customer will accept a loan offer.** This will serve as the basis for the design of a new campaign.\n",
        "\n",
        "The file _UniversalBank.csv_ contains data on 5000 customers. The data include customer demographic information (age, income, etc.), the customer’s relationship with the bank (mortgage, securities account, etc.), and the customer response to the last personal loan campaign (Personal Loan). Among these 5000 customers, only 480 (= 9.6%) accepted the personal loan that was offered to them in the earlier campaign."
      ]
    },
    {
      "cell_type": "markdown",
      "metadata": {
        "id": "XDrkxo9Av99s"
      },
      "source": [
        "## Preprocessing"
      ]
    },
    {
      "cell_type": "code",
      "execution_count": 1,
      "metadata": {
        "id": "9jqw36EJXnRi"
      },
      "outputs": [],
      "source": [
        "# import required packages\n",
        "%matplotlib inline\n",
        "import pandas as pd\n",
        "from sklearn.model_selection import train_test_split\n",
        "from sklearn import preprocessing\n",
        "from sklearn.neighbors import KNeighborsClassifier\n",
        "from sklearn.metrics import accuracy_score, confusion_matrix"
      ]
    },
    {
      "cell_type": "code",
      "execution_count": 2,
      "metadata": {
        "colab": {
          "base_uri": "https://localhost:8080/"
        },
        "id": "rBtJKUnNXnRl",
        "outputId": "01d86a98-290c-4f74-d5b0-3a581319749b",
        "scrolled": false
      },
      "outputs": [
        {
          "name": "stdout",
          "output_type": "stream",
          "text": [
            "<class 'pandas.core.frame.DataFrame'>\n",
            "RangeIndex: 5000 entries, 0 to 4999\n",
            "Data columns (total 14 columns):\n",
            " #   Column              Non-Null Count  Dtype  \n",
            "---  ------              --------------  -----  \n",
            " 0   ID                  5000 non-null   int64  \n",
            " 1   Age                 5000 non-null   int64  \n",
            " 2   Experience          5000 non-null   int64  \n",
            " 3   Income              5000 non-null   int64  \n",
            " 4   ZIP Code            5000 non-null   int64  \n",
            " 5   Family              5000 non-null   int64  \n",
            " 6   CCAvg               5000 non-null   float64\n",
            " 7   Education           5000 non-null   int64  \n",
            " 8   Mortgage            5000 non-null   int64  \n",
            " 9   Personal Loan       5000 non-null   int64  \n",
            " 10  Securities Account  5000 non-null   int64  \n",
            " 11  CD Account          5000 non-null   int64  \n",
            " 12  Online              5000 non-null   int64  \n",
            " 13  CreditCard          5000 non-null   int64  \n",
            "dtypes: float64(1), int64(13)\n",
            "memory usage: 547.0 KB\n"
          ]
        }
      ],
      "source": [
        "# connect to Google Drive and load the data\n",
        "# from google.colab import drive\n",
        "# drive.mount('/content/drive')\n",
        "bank_df = pd.read_csv('../data/UniversalBank.csv')\n",
        "bank_df.info()"
      ]
    },
    {
      "cell_type": "markdown",
      "metadata": {
        "id": "70lOWKA4v0nA"
      },
      "source": [
        "The variable we are interested in predicting is called \"Personal Loan\", which is a binary variable, 0 means the customer did not accept the loan offer, 1 means the customer accepted the loan offer."
      ]
    },
    {
      "cell_type": "code",
      "execution_count": 3,
      "metadata": {
        "colab": {
          "base_uri": "https://localhost:8080/",
          "height": 268
        },
        "id": "YHMFvCLNXnRl",
        "outputId": "6c95002b-99ed-44dd-fece-90e69082f893"
      },
      "outputs": [
        {
          "data": {
            "text/html": [
              "<div>\n",
              "<style scoped>\n",
              "    .dataframe tbody tr th:only-of-type {\n",
              "        vertical-align: middle;\n",
              "    }\n",
              "\n",
              "    .dataframe tbody tr th {\n",
              "        vertical-align: top;\n",
              "    }\n",
              "\n",
              "    .dataframe thead th {\n",
              "        text-align: right;\n",
              "    }\n",
              "</style>\n",
              "<table border=\"1\" class=\"dataframe\">\n",
              "  <thead>\n",
              "    <tr style=\"text-align: right;\">\n",
              "      <th></th>\n",
              "      <th>Age</th>\n",
              "      <th>Experience</th>\n",
              "      <th>Income</th>\n",
              "      <th>Family</th>\n",
              "      <th>CCAvg</th>\n",
              "      <th>Education</th>\n",
              "      <th>Mortgage</th>\n",
              "      <th>Personal Loan</th>\n",
              "      <th>Securities Account</th>\n",
              "      <th>CD Account</th>\n",
              "      <th>Online</th>\n",
              "      <th>CreditCard</th>\n",
              "    </tr>\n",
              "  </thead>\n",
              "  <tbody>\n",
              "    <tr>\n",
              "      <th>0</th>\n",
              "      <td>25</td>\n",
              "      <td>1</td>\n",
              "      <td>49</td>\n",
              "      <td>4</td>\n",
              "      <td>1.6</td>\n",
              "      <td>1</td>\n",
              "      <td>0</td>\n",
              "      <td>0</td>\n",
              "      <td>1</td>\n",
              "      <td>0</td>\n",
              "      <td>0</td>\n",
              "      <td>0</td>\n",
              "    </tr>\n",
              "    <tr>\n",
              "      <th>1</th>\n",
              "      <td>45</td>\n",
              "      <td>19</td>\n",
              "      <td>34</td>\n",
              "      <td>3</td>\n",
              "      <td>1.5</td>\n",
              "      <td>1</td>\n",
              "      <td>0</td>\n",
              "      <td>0</td>\n",
              "      <td>1</td>\n",
              "      <td>0</td>\n",
              "      <td>0</td>\n",
              "      <td>0</td>\n",
              "    </tr>\n",
              "    <tr>\n",
              "      <th>2</th>\n",
              "      <td>39</td>\n",
              "      <td>15</td>\n",
              "      <td>11</td>\n",
              "      <td>1</td>\n",
              "      <td>1.0</td>\n",
              "      <td>1</td>\n",
              "      <td>0</td>\n",
              "      <td>0</td>\n",
              "      <td>0</td>\n",
              "      <td>0</td>\n",
              "      <td>0</td>\n",
              "      <td>0</td>\n",
              "    </tr>\n",
              "    <tr>\n",
              "      <th>3</th>\n",
              "      <td>35</td>\n",
              "      <td>9</td>\n",
              "      <td>100</td>\n",
              "      <td>1</td>\n",
              "      <td>2.7</td>\n",
              "      <td>2</td>\n",
              "      <td>0</td>\n",
              "      <td>0</td>\n",
              "      <td>0</td>\n",
              "      <td>0</td>\n",
              "      <td>0</td>\n",
              "      <td>0</td>\n",
              "    </tr>\n",
              "    <tr>\n",
              "      <th>4</th>\n",
              "      <td>35</td>\n",
              "      <td>8</td>\n",
              "      <td>45</td>\n",
              "      <td>4</td>\n",
              "      <td>1.0</td>\n",
              "      <td>2</td>\n",
              "      <td>0</td>\n",
              "      <td>0</td>\n",
              "      <td>0</td>\n",
              "      <td>0</td>\n",
              "      <td>0</td>\n",
              "      <td>1</td>\n",
              "    </tr>\n",
              "  </tbody>\n",
              "</table>\n",
              "</div>"
            ],
            "text/plain": [
              "   Age  Experience  Income  Family  CCAvg  Education  Mortgage  Personal Loan  \\\n",
              "0   25           1      49       4    1.6          1         0              0   \n",
              "1   45          19      34       3    1.5          1         0              0   \n",
              "2   39          15      11       1    1.0          1         0              0   \n",
              "3   35           9     100       1    2.7          2         0              0   \n",
              "4   35           8      45       4    1.0          2         0              0   \n",
              "\n",
              "   Securities Account  CD Account  Online  CreditCard  \n",
              "0                   1           0       0           0  \n",
              "1                   1           0       0           0  \n",
              "2                   0           0       0           0  \n",
              "3                   0           0       0           0  \n",
              "4                   0           0       0           1  "
            ]
          },
          "execution_count": 3,
          "metadata": {},
          "output_type": "execute_result"
        }
      ],
      "source": [
        "# drop ID and ZIP Code columns\n",
        "bank_df = bank_df.drop(columns=['ID', 'ZIP Code'])\n",
        "\n",
        "# make sure that the result is as expected\n",
        "bank_df.head()"
      ]
    },
    {
      "cell_type": "code",
      "execution_count": 6,
      "metadata": {
        "colab": {
          "base_uri": "https://localhost:8080/"
        },
        "id": "rLVncFD_XnRm",
        "outputId": "85847587-e383-4490-d548-928b25924bad",
        "scrolled": true
      },
      "outputs": [
        {
          "data": {
            "text/plain": [
              "['Age',\n",
              " 'Experience',\n",
              " 'Income',\n",
              " 'Family',\n",
              " 'CCAvg',\n",
              " 'Education',\n",
              " 'Mortgage',\n",
              " 'Personal_Loan',\n",
              " 'Securities_Account',\n",
              " 'CD_Account',\n",
              " 'Online',\n",
              " 'CreditCard']"
            ]
          },
          "execution_count": 6,
          "metadata": {},
          "output_type": "execute_result"
        }
      ],
      "source": [
        "# modify column names, replacing empty spaces with _\n",
        "bank_df.columns = [x.replace(' ', '_') for x in bank_df.columns]\n",
        "list(bank_df.columns)"
      ]
    },
    {
      "cell_type": "code",
      "execution_count": 7,
      "metadata": {
        "colab": {
          "base_uri": "https://localhost:8080/",
          "height": 270
        },
        "id": "DggC4_ptXnRm",
        "outputId": "55351d82-776e-48bf-882b-db5e466e30e9"
      },
      "outputs": [
        {
          "data": {
            "text/html": [
              "<div>\n",
              "<style scoped>\n",
              "    .dataframe tbody tr th:only-of-type {\n",
              "        vertical-align: middle;\n",
              "    }\n",
              "\n",
              "    .dataframe tbody tr th {\n",
              "        vertical-align: top;\n",
              "    }\n",
              "\n",
              "    .dataframe thead th {\n",
              "        text-align: right;\n",
              "    }\n",
              "</style>\n",
              "<table border=\"1\" class=\"dataframe\">\n",
              "  <thead>\n",
              "    <tr style=\"text-align: right;\">\n",
              "      <th></th>\n",
              "      <th>Age</th>\n",
              "      <th>Experience</th>\n",
              "      <th>Income</th>\n",
              "      <th>Family</th>\n",
              "      <th>CCAvg</th>\n",
              "      <th>Mortgage</th>\n",
              "      <th>Personal_Loan</th>\n",
              "      <th>Securities_Account</th>\n",
              "      <th>CD_Account</th>\n",
              "      <th>Online</th>\n",
              "      <th>CreditCard</th>\n",
              "      <th>Education_1</th>\n",
              "      <th>Education_2</th>\n",
              "      <th>Education_3</th>\n",
              "    </tr>\n",
              "  </thead>\n",
              "  <tbody>\n",
              "    <tr>\n",
              "      <th>0</th>\n",
              "      <td>25</td>\n",
              "      <td>1</td>\n",
              "      <td>49</td>\n",
              "      <td>4</td>\n",
              "      <td>1.6</td>\n",
              "      <td>0</td>\n",
              "      <td>0</td>\n",
              "      <td>1</td>\n",
              "      <td>0</td>\n",
              "      <td>0</td>\n",
              "      <td>0</td>\n",
              "      <td>1</td>\n",
              "      <td>0</td>\n",
              "      <td>0</td>\n",
              "    </tr>\n",
              "    <tr>\n",
              "      <th>1</th>\n",
              "      <td>45</td>\n",
              "      <td>19</td>\n",
              "      <td>34</td>\n",
              "      <td>3</td>\n",
              "      <td>1.5</td>\n",
              "      <td>0</td>\n",
              "      <td>0</td>\n",
              "      <td>1</td>\n",
              "      <td>0</td>\n",
              "      <td>0</td>\n",
              "      <td>0</td>\n",
              "      <td>1</td>\n",
              "      <td>0</td>\n",
              "      <td>0</td>\n",
              "    </tr>\n",
              "    <tr>\n",
              "      <th>2</th>\n",
              "      <td>39</td>\n",
              "      <td>15</td>\n",
              "      <td>11</td>\n",
              "      <td>1</td>\n",
              "      <td>1.0</td>\n",
              "      <td>0</td>\n",
              "      <td>0</td>\n",
              "      <td>0</td>\n",
              "      <td>0</td>\n",
              "      <td>0</td>\n",
              "      <td>0</td>\n",
              "      <td>1</td>\n",
              "      <td>0</td>\n",
              "      <td>0</td>\n",
              "    </tr>\n",
              "    <tr>\n",
              "      <th>3</th>\n",
              "      <td>35</td>\n",
              "      <td>9</td>\n",
              "      <td>100</td>\n",
              "      <td>1</td>\n",
              "      <td>2.7</td>\n",
              "      <td>0</td>\n",
              "      <td>0</td>\n",
              "      <td>0</td>\n",
              "      <td>0</td>\n",
              "      <td>0</td>\n",
              "      <td>0</td>\n",
              "      <td>0</td>\n",
              "      <td>1</td>\n",
              "      <td>0</td>\n",
              "    </tr>\n",
              "    <tr>\n",
              "      <th>4</th>\n",
              "      <td>35</td>\n",
              "      <td>8</td>\n",
              "      <td>45</td>\n",
              "      <td>4</td>\n",
              "      <td>1.0</td>\n",
              "      <td>0</td>\n",
              "      <td>0</td>\n",
              "      <td>0</td>\n",
              "      <td>0</td>\n",
              "      <td>0</td>\n",
              "      <td>1</td>\n",
              "      <td>0</td>\n",
              "      <td>1</td>\n",
              "      <td>0</td>\n",
              "    </tr>\n",
              "  </tbody>\n",
              "</table>\n",
              "</div>"
            ],
            "text/plain": [
              "   Age  Experience  Income  Family  CCAvg  Mortgage  Personal_Loan  \\\n",
              "0   25           1      49       4    1.6         0              0   \n",
              "1   45          19      34       3    1.5         0              0   \n",
              "2   39          15      11       1    1.0         0              0   \n",
              "3   35           9     100       1    2.7         0              0   \n",
              "4   35           8      45       4    1.0         0              0   \n",
              "\n",
              "   Securities_Account  CD_Account  Online  CreditCard  Education_1  \\\n",
              "0                   1           0       0           0            1   \n",
              "1                   1           0       0           0            1   \n",
              "2                   0           0       0           0            1   \n",
              "3                   0           0       0           0            0   \n",
              "4                   0           0       0           1            0   \n",
              "\n",
              "   Education_2  Education_3  \n",
              "0            0            0  \n",
              "1            0            0  \n",
              "2            0            0  \n",
              "3            1            0  \n",
              "4            1            0  "
            ]
          },
          "execution_count": 7,
          "metadata": {},
          "output_type": "execute_result"
        }
      ],
      "source": [
        "# create dummy variables for categorical variables\n",
        "# consider Education as categorical variable\n",
        "bank_df['Education'] = bank_df['Education'].astype('category')\n",
        "bank_df = pd.get_dummies(bank_df, prefix_sep='_', drop_first=False)\n",
        "bank_df.head()"
      ]
    },
    {
      "cell_type": "code",
      "execution_count": 8,
      "metadata": {
        "id": "xJ6vzlgPAUTW"
      },
      "outputs": [],
      "source": [
        "# Separate X (input features/aka predictors) from y (target)\n",
        "outcome = 'Personal_Loan'\n",
        "predictors = list(bank_df.columns)\n",
        "predictors.remove(outcome)\n",
        "\n",
        "# Store predictors and target into X and y, respectively\n",
        "X = bank_df[predictors]\n",
        "y = bank_df[outcome]"
      ]
    },
    {
      "cell_type": "code",
      "execution_count": 9,
      "metadata": {
        "colab": {
          "base_uri": "https://localhost:8080/"
        },
        "id": "y5tAMepuBidn",
        "outputId": "9cf5b05e-04bb-4365-970d-2f1bb586b343"
      },
      "outputs": [
        {
          "name": "stdout",
          "output_type": "stream",
          "text": [
            "Training set: (3000, 13) Testing set: (2000, 13)\n"
          ]
        }
      ],
      "source": [
        "# split dataset into training (60%) and test (40%) sets\n",
        "X_train,X_test,y_train,y_test = train_test_split(X,y, test_size=0.4, random_state=2, stratify=y)\n",
        "print('Training set:', X_train.shape, 'Testing set:', X_test.shape)\n",
        "\n",
        "# Note, the 'stratify' option ensures that both the y training and y testing data\n",
        "# have the same proportion of 1's and 0's. For instance, if y_train has\n",
        "# 10% of entries that are 1 and 90% that are 0, then the stratify option will\n",
        "# ensure that the y_test data also has 10% 1's and 90% 0's"
      ]
    },
    {
      "cell_type": "code",
      "execution_count": 10,
      "metadata": {
        "id": "4Uixy8uH94SQ"
      },
      "outputs": [],
      "source": [
        "# Standardize training and testing features using 'StandatdScaler()'\n",
        "# (a slightly different method than what we did in the PCA lab)\n",
        "\n",
        "# the first line defines the scaling object\n",
        "scaler = preprocessing.StandardScaler()\n",
        "\n",
        "# the second line specifies which data to use to compute means and variances\n",
        "scaler.fit(X_train)\n",
        "# important: in this step, you should fit the scaler only to training data, \n",
        "# and not the testing data. We assume testing data is never available to us\n",
        "# in the training stage\n",
        "\n",
        "# the third line scales the data using the means and variances computed in the\n",
        "# previous step\n",
        "X_train_scaled = scaler.transform(X_train)\n",
        "X_test_scaled = scaler.transform(X_test)\n",
        "\n",
        "# Note, there is no need to scale the target y variable, since this is what\n",
        "# we are trying to predict"
      ]
    },
    {
      "cell_type": "markdown",
      "metadata": {
        "id": "q6xV0mooy1Ln"
      },
      "source": [
        "## Run the k-NN Model!"
      ]
    },
    {
      "cell_type": "code",
      "execution_count": 18,
      "metadata": {
        "colab": {
          "base_uri": "https://localhost:8080/"
        },
        "id": "iFWF5ZFiwxY5",
        "outputId": "99084198-d413-404a-e1ba-dbf4deb35e24"
      },
      "outputs": [
        {
          "name": "stdout",
          "output_type": "stream",
          "text": [
            "Accuracy: 0.9615\n"
          ]
        }
      ],
      "source": [
        "# Run the k-NN model with a random guess about the neighboors, set k=1 for instance\n",
        "knn = KNeighborsClassifier(n_neighbors=1)\n",
        "# Specify the training features (X_train) and the outcome they lead to (y_train)\n",
        "# Important: only use the training data at this step. Do not use test data.\n",
        "knn.fit(X_train_scaled, y_train)\n",
        "\n",
        "# Now that the model is done, we can use it to predict whether the new customers\n",
        "# from the testing data, will accept a loan or not. For this, we feed the\n",
        "# testing features X_test into the prediction function.\n",
        "y_pred = knn.predict(X_test_scaled)\n",
        "print('Accuracy:', accuracy_score(y_test, y_pred))"
      ]
    },
    {
      "cell_type": "code",
      "execution_count": 19,
      "metadata": {
        "colab": {
          "base_uri": "https://localhost:8080/",
          "height": 363
        },
        "id": "SZ3aB38zybxj",
        "outputId": "fa75772c-c06b-4165-81d4-a6bcdb101aa3"
      },
      "outputs": [
        {
          "data": {
            "text/html": [
              "<div>\n",
              "<style scoped>\n",
              "    .dataframe tbody tr th:only-of-type {\n",
              "        vertical-align: middle;\n",
              "    }\n",
              "\n",
              "    .dataframe tbody tr th {\n",
              "        vertical-align: top;\n",
              "    }\n",
              "\n",
              "    .dataframe thead th {\n",
              "        text-align: right;\n",
              "    }\n",
              "</style>\n",
              "<table border=\"1\" class=\"dataframe\">\n",
              "  <thead>\n",
              "    <tr style=\"text-align: right;\">\n",
              "      <th></th>\n",
              "      <th>k</th>\n",
              "      <th>accuracy</th>\n",
              "    </tr>\n",
              "  </thead>\n",
              "  <tbody>\n",
              "    <tr>\n",
              "      <th>0</th>\n",
              "      <td>1</td>\n",
              "      <td>0.9615</td>\n",
              "    </tr>\n",
              "    <tr>\n",
              "      <th>1</th>\n",
              "      <td>3</td>\n",
              "      <td>0.9665</td>\n",
              "    </tr>\n",
              "    <tr>\n",
              "      <th>2</th>\n",
              "      <td>5</td>\n",
              "      <td>0.9625</td>\n",
              "    </tr>\n",
              "    <tr>\n",
              "      <th>3</th>\n",
              "      <td>7</td>\n",
              "      <td>0.9630</td>\n",
              "    </tr>\n",
              "    <tr>\n",
              "      <th>4</th>\n",
              "      <td>9</td>\n",
              "      <td>0.9595</td>\n",
              "    </tr>\n",
              "    <tr>\n",
              "      <th>5</th>\n",
              "      <td>11</td>\n",
              "      <td>0.9580</td>\n",
              "    </tr>\n",
              "    <tr>\n",
              "      <th>6</th>\n",
              "      <td>13</td>\n",
              "      <td>0.9555</td>\n",
              "    </tr>\n",
              "    <tr>\n",
              "      <th>7</th>\n",
              "      <td>15</td>\n",
              "      <td>0.9545</td>\n",
              "    </tr>\n",
              "    <tr>\n",
              "      <th>8</th>\n",
              "      <td>17</td>\n",
              "      <td>0.9530</td>\n",
              "    </tr>\n",
              "    <tr>\n",
              "      <th>9</th>\n",
              "      <td>19</td>\n",
              "      <td>0.9505</td>\n",
              "    </tr>\n",
              "  </tbody>\n",
              "</table>\n",
              "</div>"
            ],
            "text/plain": [
              "    k  accuracy\n",
              "0   1    0.9615\n",
              "1   3    0.9665\n",
              "2   5    0.9625\n",
              "3   7    0.9630\n",
              "4   9    0.9595\n",
              "5  11    0.9580\n",
              "6  13    0.9555\n",
              "7  15    0.9545\n",
              "8  17    0.9530\n",
              "9  19    0.9505"
            ]
          },
          "execution_count": 19,
          "metadata": {},
          "output_type": "execute_result"
        }
      ],
      "source": [
        "# Choosing the best k for the test set\n",
        "# train a classifier for different \"odd\" values of k\n",
        "# using a 'for' loop and range(start, stop, step)\n",
        "results = []\n",
        "for k in range(1, 20, 2):\n",
        "    knn = KNeighborsClassifier(n_neighbors=k).fit(X_train_scaled, y_train)\n",
        "    \n",
        "    # create a dictionary to store the results\n",
        "    results.append({\n",
        "        'k': k,\n",
        "        'accuracy': accuracy_score(y_test, knn.predict(X_test_scaled))\n",
        "    })\n",
        "\n",
        "# convert results to a pandas dataframe for better visualization\n",
        "results_df = pd.DataFrame(results)\n",
        "results_df"
      ]
    },
    {
      "cell_type": "code",
      "execution_count": 20,
      "metadata": {
        "colab": {
          "base_uri": "https://localhost:8080/",
          "height": 279
        },
        "id": "MaRn6KkfxAAA",
        "outputId": "d7627f63-dd88-4b4b-fcb3-c8987c5183e1"
      },
      "outputs": [
        {
          "data": {
            "image/png": "[encoded data removed]",
            "text/plain": [
              "<Figure size 640x480 with 1 Axes>"
            ]
          },
          "metadata": {},
          "output_type": "display_data"
        }
      ],
      "source": [
        "# plot accuracy vs. k\n",
        "results_df.plot.scatter(x='k', y='accuracy', xlim=[0, 20]);"
      ]
    },
    {
      "cell_type": "markdown",
      "metadata": {
        "id": "pbOxv18zxFrc"
      },
      "source": [
        "We choose the best k, which minimizes the misclassification rate in the validation set. Our best k is `k=3`"
      ]
    },
    {
      "cell_type": "code",
      "execution_count": 22,
      "metadata": {
        "colab": {
          "base_uri": "https://localhost:8080/"
        },
        "id": "TFfqWF14xLKq",
        "outputId": "37895cff-aac1-4af3-e208-a618a7184e9f"
      },
      "outputs": [
        {
          "name": "stdout",
          "output_type": "stream",
          "text": [
            "[[1798   10]\n",
            " [  57  135]]\n",
            "Accuracy: 0.9665\n"
          ]
        }
      ],
      "source": [
        "# Show the confusion matrix and accuracy for the test data, using k = 3\n",
        "knn = KNeighborsClassifier(n_neighbors=3)\n",
        "knn.fit(X_train_scaled, y_train)\n",
        "\n",
        "pred_y = knn.predict(X_test_scaled)\n",
        "print(confusion_matrix(y_test, pred_y))\n",
        "print('Accuracy:', accuracy_score(y_test, pred_y))"
      ]
    },
    {
      "cell_type": "markdown",
      "metadata": {
        "id": "qw-cv7shwDR3"
      },
      "source": [
        "## Bonus: Let's now create a new customer that the model has never seen before..."
      ]
    },
    {
      "cell_type": "code",
      "execution_count": 23,
      "metadata": {
        "colab": {
          "base_uri": "https://localhost:8080/"
        },
        "id": "NB1Va8F8wNh1",
        "outputId": "92c2ef78-e916-462b-93a4-3fea01504975"
      },
      "outputs": [
        {
          "data": {
            "text/plain": [
              "['Age',\n",
              " 'Experience',\n",
              " 'Income',\n",
              " 'Family',\n",
              " 'CCAvg',\n",
              " 'Mortgage',\n",
              " 'Personal_Loan',\n",
              " 'Securities_Account',\n",
              " 'CD_Account',\n",
              " 'Online',\n",
              " 'CreditCard',\n",
              " 'Education_1',\n",
              " 'Education_2',\n",
              " 'Education_3']"
            ]
          },
          "execution_count": 23,
          "metadata": {},
          "output_type": "execute_result"
        }
      ],
      "source": [
        "# We will get the column names to help\n",
        "list(bank_df.columns)"
      ]
    },
    {
      "cell_type": "code",
      "execution_count": 24,
      "metadata": {
        "colab": {
          "base_uri": "https://localhost:8080/",
          "height": 145
        },
        "id": "kUVZBV3PwTOM",
        "outputId": "930c4815-40fa-4863-ad1c-811b8edec77e"
      },
      "outputs": [
        {
          "data": {
            "text/html": [
              "<div>\n",
              "<style scoped>\n",
              "    .dataframe tbody tr th:only-of-type {\n",
              "        vertical-align: middle;\n",
              "    }\n",
              "\n",
              "    .dataframe tbody tr th {\n",
              "        vertical-align: top;\n",
              "    }\n",
              "\n",
              "    .dataframe thead th {\n",
              "        text-align: right;\n",
              "    }\n",
              "</style>\n",
              "<table border=\"1\" class=\"dataframe\">\n",
              "  <thead>\n",
              "    <tr style=\"text-align: right;\">\n",
              "      <th></th>\n",
              "      <th>Age</th>\n",
              "      <th>Experience</th>\n",
              "      <th>Income</th>\n",
              "      <th>Family</th>\n",
              "      <th>CCAvg</th>\n",
              "      <th>Mortgage</th>\n",
              "      <th>Securities_Account</th>\n",
              "      <th>CD_Account</th>\n",
              "      <th>Online</th>\n",
              "      <th>CreditCard</th>\n",
              "      <th>Education_1</th>\n",
              "      <th>Education_2</th>\n",
              "      <th>Education_3</th>\n",
              "    </tr>\n",
              "  </thead>\n",
              "  <tbody>\n",
              "    <tr>\n",
              "      <th>0</th>\n",
              "      <td>60</td>\n",
              "      <td>20</td>\n",
              "      <td>110</td>\n",
              "      <td>4</td>\n",
              "      <td>2</td>\n",
              "      <td>0</td>\n",
              "      <td>0</td>\n",
              "      <td>0</td>\n",
              "      <td>1</td>\n",
              "      <td>1</td>\n",
              "      <td>0</td>\n",
              "      <td>1</td>\n",
              "      <td>0</td>\n",
              "    </tr>\n",
              "  </tbody>\n",
              "</table>\n",
              "</div>"
            ],
            "text/plain": [
              "   Age  Experience  Income  Family  CCAvg  Mortgage  Securities_Account  \\\n",
              "0   60          20     110       4      2         0                   0   \n",
              "\n",
              "   CD_Account  Online  CreditCard  Education_1  Education_2  Education_3  \n",
              "0           0       1           1            0            1            0  "
            ]
          },
          "execution_count": 24,
          "metadata": {},
          "output_type": "execute_result"
        }
      ],
      "source": [
        "# define a new customer (remove Personal_Loan column)\n",
        "newCustomer = pd.DataFrame([\n",
        "{\n",
        " 'Age':60,\n",
        " 'Experience':20,\n",
        " 'Income':110,\n",
        " 'Family':4,\n",
        " 'CCAvg':2,\n",
        " 'Mortgage':0,\n",
        " 'Securities_Account':0,\n",
        " 'CD_Account':0,\n",
        " 'Online':1,\n",
        " 'CreditCard':1,\n",
        " 'Education_1':0,\n",
        " 'Education_2':1,\n",
        " 'Education_3':0\n",
        " }\n",
        " ])\n",
        "newCustomer"
      ]
    },
    {
      "cell_type": "code",
      "execution_count": 25,
      "metadata": {
        "colab": {
          "base_uri": "https://localhost:8080/"
        },
        "id": "COp3AvSAXnRq",
        "outputId": "3430e137-edaa-4694-b66d-c2afbd0e16ef"
      },
      "outputs": [
        {
          "data": {
            "text/plain": [
              "array([0])"
            ]
          },
          "execution_count": 25,
          "metadata": {},
          "output_type": "execute_result"
        }
      ],
      "source": [
        "# predict the class of the New Customer\n",
        "# Don't forget to standardize the new Customer!\n",
        "newCustomer_scaled = scaler.transform(newCustomer)\n",
        "knn.predict(newCustomer_scaled)"
      ]
    },
    {
      "cell_type": "code",
      "execution_count": 26,
      "metadata": {
        "colab": {
          "base_uri": "https://localhost:8080/"
        },
        "id": "etRBnbX1JxEc",
        "outputId": "cfdc4a95-7612-47b2-b62a-ddf10d8f12ed"
      },
      "outputs": [
        {
          "data": {
            "text/plain": [
              "array([[1., 0.]])"
            ]
          },
          "execution_count": 26,
          "metadata": {},
          "output_type": "execute_result"
        }
      ],
      "source": [
        "# predict the class membership probabilities of the New Customer\n",
        "knn.predict_proba(newCustomer_scaled)"
      ]
    },
    {
      "cell_type": "markdown",
      "metadata": {
        "id": "39ktlQMwXnRr"
      },
      "source": [
        "New customer is predicted to not accept a loan offer."
      ]
    },
    {
      "cell_type": "markdown",
      "metadata": {
        "id": "kdzOQBNL2NTa"
      },
      "source": [
        "## Bonus: To recover original customer data after re-scaling, use the inverse_transform() function"
      ]
    },
    {
      "cell_type": "code",
      "execution_count": 27,
      "metadata": {
        "colab": {
          "base_uri": "https://localhost:8080/"
        },
        "id": "LsWKoPcEFyvs",
        "outputId": "a7251786-d528-4332-906b-96d26a32deab"
      },
      "outputs": [
        {
          "data": {
            "text/plain": [
              "array([[ 1.29985279e+00,  5.86190842e-04,  7.90953586e-01,\n",
              "         1.39192086e+00,  3.30770280e-02, -5.45727036e-01,\n",
              "        -3.40692572e-01, -2.57831477e-01,  8.15929687e-01,\n",
              "         1.56090554e+00, -8.65604492e-01,  1.58650522e+00,\n",
              "        -6.34964993e-01]])"
            ]
          },
          "execution_count": 27,
          "metadata": {},
          "output_type": "execute_result"
        }
      ],
      "source": [
        "newCustomer_scaled"
      ]
    },
    {
      "cell_type": "code",
      "execution_count": 28,
      "metadata": {
        "colab": {
          "base_uri": "https://localhost:8080/"
        },
        "id": "8n1e6kxE1vEQ",
        "outputId": "c33af4a4-e57b-402d-abf6-04f6e79a9d90"
      },
      "outputs": [
        {
          "data": {
            "text/plain": [
              "array([[ 60.,  20., 110.,   4.,   2.,   0.,   0.,   0.,   1.,   1.,   0.,\n",
              "          1.,   0.]])"
            ]
          },
          "execution_count": 28,
          "metadata": {},
          "output_type": "execute_result"
        }
      ],
      "source": [
        "scaler.inverse_transform(newCustomer_scaled)"
      ]
    },
    {
      "cell_type": "markdown",
      "metadata": {
        "id": "58mjOKtL2zBk"
      },
      "source": [
        "The customer is 60 years old, has 20 years experience, income of 110, etc."
      ]
    }
  ],
  "metadata": {
    "colab": {
      "collapsed_sections": [],
      "provenance": []
    },
    "kernelspec": {
      "display_name": "Python 3",
      "language": "python",
      "name": "python3"
    },
    "language_info": {
      "codemirror_mode": {
        "name": "ipython",
        "version": 3
      },
      "file_extension": ".py",
      "mimetype": "text/x-python",
      "name": "python",
      "nbconvert_exporter": "python",
      "pygments_lexer": "ipython3",
      "version": "3.9.15"
    }
  },
  "nbformat": 4,
  "nbformat_minor": 0
}
