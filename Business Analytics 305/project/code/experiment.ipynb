{
 "cells": [
  {
   "attachments": {},
   "cell_type": "markdown",
   "metadata": {},
   "source": [
    "---\n",
    "\n",
    "# THIS IS AN EXPERIMENT FOR THE IMPROVEMENT SECTION\n",
    "\n",
    "## BRIEF SUMMARY: WE USE ALL THE ENTRIES INSTEAD OF USING ONLY AUGUST DATA."
   ]
  },
  {
   "cell_type": "code",
   "execution_count": 2,
   "metadata": {},
   "outputs": [],
   "source": [
    "import numpy as np\n",
    "import pandas as pd\n",
    "import matplotlib.pyplot as plt\n",
    "%matplotlib inline\n",
    "import seaborn as sns\n",
    "import re"
   ]
  },
  {
   "cell_type": "code",
   "execution_count": 3,
   "metadata": {},
   "outputs": [],
   "source": [
    "pd.set_option('display.max_columns', None)"
   ]
  },
  {
   "attachments": {},
   "cell_type": "markdown",
   "metadata": {},
   "source": [
    "---\n",
    "\n",
    "## Load Data\n",
    "\n",
    "100,000 Entries with 28 columns"
   ]
  },
  {
   "cell_type": "code",
   "execution_count": 4,
   "metadata": {},
   "outputs": [
    {
     "name": "stdout",
     "output_type": "stream",
     "text": [
      "<class 'pandas.core.frame.DataFrame'>\n",
      "RangeIndex: 100000 entries, 0 to 99999\n",
      "Data columns (total 28 columns):\n",
      " #   Column                    Non-Null Count   Dtype  \n",
      "---  ------                    --------------   -----  \n",
      " 0   ID                        100000 non-null  object \n",
      " 1   Customer_ID               100000 non-null  object \n",
      " 2   Month                     100000 non-null  object \n",
      " 3   Name                      90015 non-null   object \n",
      " 4   Age                       100000 non-null  object \n",
      " 5   SSN                       100000 non-null  object \n",
      " 6   Occupation                100000 non-null  object \n",
      " 7   Annual_Income             100000 non-null  object \n",
      " 8   Monthly_Inhand_Salary     84998 non-null   float64\n",
      " 9   Num_Bank_Accounts         100000 non-null  int64  \n",
      " 10  Num_Credit_Card           100000 non-null  int64  \n",
      " 11  Interest_Rate             100000 non-null  int64  \n",
      " 12  Num_of_Loan               100000 non-null  object \n",
      " 13  Type_of_Loan              88592 non-null   object \n",
      " 14  Delay_from_due_date       100000 non-null  int64  \n",
      " 15  Num_of_Delayed_Payment    92998 non-null   object \n",
      " 16  Changed_Credit_Limit      100000 non-null  object \n",
      " 17  Num_Credit_Inquiries      98035 non-null   float64\n",
      " 18  Credit_Mix                100000 non-null  object \n",
      " 19  Outstanding_Debt          100000 non-null  object \n",
      " 20  Credit_Utilization_Ratio  100000 non-null  float64\n",
      " 21  Credit_History_Age        90970 non-null   object \n",
      " 22  Payment_of_Min_Amount     100000 non-null  object \n",
      " 23  Total_EMI_per_month       100000 non-null  float64\n",
      " 24  Amount_invested_monthly   95521 non-null   object \n",
      " 25  Payment_Behaviour         100000 non-null  object \n",
      " 26  Monthly_Balance           98800 non-null   object \n",
      " 27  Credit_Score              100000 non-null  object \n",
      "dtypes: float64(4), int64(4), object(20)\n",
      "memory usage: 21.4+ MB\n"
     ]
    },
    {
     "name": "stderr",
     "output_type": "stream",
     "text": [
      "/var/folders/h_/lxrkd3yx3w11tnfvg06j7l140000gn/T/ipykernel_12212/606350316.py:1: DtypeWarning: Columns (26) have mixed types. Specify dtype option on import or set low_memory=False.\n",
      "  df = pd.read_csv('data/credit_raw.csv')\n"
     ]
    }
   ],
   "source": [
    "df = pd.read_csv('data/credit_raw.csv')\n",
    "df.info()"
   ]
  },
  {
   "cell_type": "code",
   "execution_count": 5,
   "metadata": {},
   "outputs": [
    {
     "data": {
      "text/plain": [
       "60071"
      ]
     },
     "execution_count": 5,
     "metadata": {},
     "output_type": "execute_result"
    }
   ],
   "source": [
    "df.isnull().sum().sum()"
   ]
  },
  {
   "cell_type": "code",
   "execution_count": 6,
   "metadata": {},
   "outputs": [
    {
     "data": {
      "text/plain": [
       "0"
      ]
     },
     "execution_count": 6,
     "metadata": {},
     "output_type": "execute_result"
    }
   ],
   "source": [
    "# Checking duplicates before we start :)\n",
    "\n",
    "df.duplicated().sum()"
   ]
  },
  {
   "cell_type": "code",
   "execution_count": 7,
   "metadata": {},
   "outputs": [
    {
     "data": {
      "text/html": [
       "<div>\n",
       "<style scoped>\n",
       "    .dataframe tbody tr th:only-of-type {\n",
       "        vertical-align: middle;\n",
       "    }\n",
       "\n",
       "    .dataframe tbody tr th {\n",
       "        vertical-align: top;\n",
       "    }\n",
       "\n",
       "    .dataframe thead th {\n",
       "        text-align: right;\n",
       "    }\n",
       "</style>\n",
       "<table border=\"1\" class=\"dataframe\">\n",
       "  <thead>\n",
       "    <tr style=\"text-align: right;\">\n",
       "      <th></th>\n",
       "      <th>ID</th>\n",
       "      <th>Customer_ID</th>\n",
       "      <th>Month</th>\n",
       "      <th>Name</th>\n",
       "      <th>Age</th>\n",
       "      <th>SSN</th>\n",
       "      <th>Occupation</th>\n",
       "      <th>Annual_Income</th>\n",
       "      <th>Monthly_Inhand_Salary</th>\n",
       "      <th>Num_Bank_Accounts</th>\n",
       "      <th>Num_Credit_Card</th>\n",
       "      <th>Interest_Rate</th>\n",
       "      <th>Num_of_Loan</th>\n",
       "      <th>Type_of_Loan</th>\n",
       "      <th>Delay_from_due_date</th>\n",
       "      <th>Num_of_Delayed_Payment</th>\n",
       "      <th>Changed_Credit_Limit</th>\n",
       "      <th>Num_Credit_Inquiries</th>\n",
       "      <th>Credit_Mix</th>\n",
       "      <th>Outstanding_Debt</th>\n",
       "      <th>Credit_Utilization_Ratio</th>\n",
       "      <th>Credit_History_Age</th>\n",
       "      <th>Payment_of_Min_Amount</th>\n",
       "      <th>Total_EMI_per_month</th>\n",
       "      <th>Amount_invested_monthly</th>\n",
       "      <th>Payment_Behaviour</th>\n",
       "      <th>Monthly_Balance</th>\n",
       "      <th>Credit_Score</th>\n",
       "    </tr>\n",
       "  </thead>\n",
       "  <tbody>\n",
       "    <tr>\n",
       "      <th>0</th>\n",
       "      <td>0x1602</td>\n",
       "      <td>CUS_0xd40</td>\n",
       "      <td>January</td>\n",
       "      <td>Aaron Maashoh</td>\n",
       "      <td>23</td>\n",
       "      <td>821-00-0265</td>\n",
       "      <td>Scientist</td>\n",
       "      <td>19114.12</td>\n",
       "      <td>1824.843333</td>\n",
       "      <td>3</td>\n",
       "      <td>4</td>\n",
       "      <td>3</td>\n",
       "      <td>4</td>\n",
       "      <td>Auto Loan, Credit-Builder Loan, Personal Loan,...</td>\n",
       "      <td>3</td>\n",
       "      <td>7</td>\n",
       "      <td>11.27</td>\n",
       "      <td>4.0</td>\n",
       "      <td>_</td>\n",
       "      <td>809.98</td>\n",
       "      <td>26.822620</td>\n",
       "      <td>22 Years and 1 Months</td>\n",
       "      <td>No</td>\n",
       "      <td>49.574949</td>\n",
       "      <td>80.41529543900253</td>\n",
       "      <td>High_spent_Small_value_payments</td>\n",
       "      <td>312.49408867943663</td>\n",
       "      <td>Good</td>\n",
       "    </tr>\n",
       "    <tr>\n",
       "      <th>1</th>\n",
       "      <td>0x1603</td>\n",
       "      <td>CUS_0xd40</td>\n",
       "      <td>February</td>\n",
       "      <td>Aaron Maashoh</td>\n",
       "      <td>23</td>\n",
       "      <td>821-00-0265</td>\n",
       "      <td>Scientist</td>\n",
       "      <td>19114.12</td>\n",
       "      <td>NaN</td>\n",
       "      <td>3</td>\n",
       "      <td>4</td>\n",
       "      <td>3</td>\n",
       "      <td>4</td>\n",
       "      <td>Auto Loan, Credit-Builder Loan, Personal Loan,...</td>\n",
       "      <td>-1</td>\n",
       "      <td>NaN</td>\n",
       "      <td>11.27</td>\n",
       "      <td>4.0</td>\n",
       "      <td>Good</td>\n",
       "      <td>809.98</td>\n",
       "      <td>31.944960</td>\n",
       "      <td>NaN</td>\n",
       "      <td>No</td>\n",
       "      <td>49.574949</td>\n",
       "      <td>118.28022162236736</td>\n",
       "      <td>Low_spent_Large_value_payments</td>\n",
       "      <td>284.62916249607184</td>\n",
       "      <td>Good</td>\n",
       "    </tr>\n",
       "    <tr>\n",
       "      <th>2</th>\n",
       "      <td>0x1604</td>\n",
       "      <td>CUS_0xd40</td>\n",
       "      <td>March</td>\n",
       "      <td>Aaron Maashoh</td>\n",
       "      <td>-500</td>\n",
       "      <td>821-00-0265</td>\n",
       "      <td>Scientist</td>\n",
       "      <td>19114.12</td>\n",
       "      <td>NaN</td>\n",
       "      <td>3</td>\n",
       "      <td>4</td>\n",
       "      <td>3</td>\n",
       "      <td>4</td>\n",
       "      <td>Auto Loan, Credit-Builder Loan, Personal Loan,...</td>\n",
       "      <td>3</td>\n",
       "      <td>7</td>\n",
       "      <td>_</td>\n",
       "      <td>4.0</td>\n",
       "      <td>Good</td>\n",
       "      <td>809.98</td>\n",
       "      <td>28.609352</td>\n",
       "      <td>22 Years and 3 Months</td>\n",
       "      <td>No</td>\n",
       "      <td>49.574949</td>\n",
       "      <td>81.699521264648</td>\n",
       "      <td>Low_spent_Medium_value_payments</td>\n",
       "      <td>331.2098628537912</td>\n",
       "      <td>Good</td>\n",
       "    </tr>\n",
       "    <tr>\n",
       "      <th>3</th>\n",
       "      <td>0x1605</td>\n",
       "      <td>CUS_0xd40</td>\n",
       "      <td>April</td>\n",
       "      <td>Aaron Maashoh</td>\n",
       "      <td>23</td>\n",
       "      <td>821-00-0265</td>\n",
       "      <td>Scientist</td>\n",
       "      <td>19114.12</td>\n",
       "      <td>NaN</td>\n",
       "      <td>3</td>\n",
       "      <td>4</td>\n",
       "      <td>3</td>\n",
       "      <td>4</td>\n",
       "      <td>Auto Loan, Credit-Builder Loan, Personal Loan,...</td>\n",
       "      <td>5</td>\n",
       "      <td>4</td>\n",
       "      <td>6.27</td>\n",
       "      <td>4.0</td>\n",
       "      <td>Good</td>\n",
       "      <td>809.98</td>\n",
       "      <td>31.377862</td>\n",
       "      <td>22 Years and 4 Months</td>\n",
       "      <td>No</td>\n",
       "      <td>49.574949</td>\n",
       "      <td>199.4580743910713</td>\n",
       "      <td>Low_spent_Small_value_payments</td>\n",
       "      <td>223.45130972736786</td>\n",
       "      <td>Good</td>\n",
       "    </tr>\n",
       "    <tr>\n",
       "      <th>4</th>\n",
       "      <td>0x1606</td>\n",
       "      <td>CUS_0xd40</td>\n",
       "      <td>May</td>\n",
       "      <td>Aaron Maashoh</td>\n",
       "      <td>23</td>\n",
       "      <td>821-00-0265</td>\n",
       "      <td>Scientist</td>\n",
       "      <td>19114.12</td>\n",
       "      <td>1824.843333</td>\n",
       "      <td>3</td>\n",
       "      <td>4</td>\n",
       "      <td>3</td>\n",
       "      <td>4</td>\n",
       "      <td>Auto Loan, Credit-Builder Loan, Personal Loan,...</td>\n",
       "      <td>6</td>\n",
       "      <td>NaN</td>\n",
       "      <td>11.27</td>\n",
       "      <td>4.0</td>\n",
       "      <td>Good</td>\n",
       "      <td>809.98</td>\n",
       "      <td>24.797347</td>\n",
       "      <td>22 Years and 5 Months</td>\n",
       "      <td>No</td>\n",
       "      <td>49.574949</td>\n",
       "      <td>41.420153086217326</td>\n",
       "      <td>High_spent_Medium_value_payments</td>\n",
       "      <td>341.48923103222177</td>\n",
       "      <td>Good</td>\n",
       "    </tr>\n",
       "  </tbody>\n",
       "</table>\n",
       "</div>"
      ],
      "text/plain": [
       "       ID Customer_ID     Month           Name   Age          SSN Occupation  \\\n",
       "0  0x1602   CUS_0xd40   January  Aaron Maashoh    23  821-00-0265  Scientist   \n",
       "1  0x1603   CUS_0xd40  February  Aaron Maashoh    23  821-00-0265  Scientist   \n",
       "2  0x1604   CUS_0xd40     March  Aaron Maashoh  -500  821-00-0265  Scientist   \n",
       "3  0x1605   CUS_0xd40     April  Aaron Maashoh    23  821-00-0265  Scientist   \n",
       "4  0x1606   CUS_0xd40       May  Aaron Maashoh    23  821-00-0265  Scientist   \n",
       "\n",
       "  Annual_Income  Monthly_Inhand_Salary  Num_Bank_Accounts  Num_Credit_Card  \\\n",
       "0      19114.12            1824.843333                  3                4   \n",
       "1      19114.12                    NaN                  3                4   \n",
       "2      19114.12                    NaN                  3                4   \n",
       "3      19114.12                    NaN                  3                4   \n",
       "4      19114.12            1824.843333                  3                4   \n",
       "\n",
       "   Interest_Rate Num_of_Loan  \\\n",
       "0              3           4   \n",
       "1              3           4   \n",
       "2              3           4   \n",
       "3              3           4   \n",
       "4              3           4   \n",
       "\n",
       "                                        Type_of_Loan  Delay_from_due_date  \\\n",
       "0  Auto Loan, Credit-Builder Loan, Personal Loan,...                    3   \n",
       "1  Auto Loan, Credit-Builder Loan, Personal Loan,...                   -1   \n",
       "2  Auto Loan, Credit-Builder Loan, Personal Loan,...                    3   \n",
       "3  Auto Loan, Credit-Builder Loan, Personal Loan,...                    5   \n",
       "4  Auto Loan, Credit-Builder Loan, Personal Loan,...                    6   \n",
       "\n",
       "  Num_of_Delayed_Payment Changed_Credit_Limit  Num_Credit_Inquiries  \\\n",
       "0                      7                11.27                   4.0   \n",
       "1                    NaN                11.27                   4.0   \n",
       "2                      7                    _                   4.0   \n",
       "3                      4                 6.27                   4.0   \n",
       "4                    NaN                11.27                   4.0   \n",
       "\n",
       "  Credit_Mix Outstanding_Debt  Credit_Utilization_Ratio  \\\n",
       "0          _           809.98                 26.822620   \n",
       "1       Good           809.98                 31.944960   \n",
       "2       Good           809.98                 28.609352   \n",
       "3       Good           809.98                 31.377862   \n",
       "4       Good           809.98                 24.797347   \n",
       "\n",
       "      Credit_History_Age Payment_of_Min_Amount  Total_EMI_per_month  \\\n",
       "0  22 Years and 1 Months                    No            49.574949   \n",
       "1                    NaN                    No            49.574949   \n",
       "2  22 Years and 3 Months                    No            49.574949   \n",
       "3  22 Years and 4 Months                    No            49.574949   \n",
       "4  22 Years and 5 Months                    No            49.574949   \n",
       "\n",
       "  Amount_invested_monthly                 Payment_Behaviour  \\\n",
       "0       80.41529543900253   High_spent_Small_value_payments   \n",
       "1      118.28022162236736    Low_spent_Large_value_payments   \n",
       "2         81.699521264648   Low_spent_Medium_value_payments   \n",
       "3       199.4580743910713    Low_spent_Small_value_payments   \n",
       "4      41.420153086217326  High_spent_Medium_value_payments   \n",
       "\n",
       "      Monthly_Balance Credit_Score  \n",
       "0  312.49408867943663         Good  \n",
       "1  284.62916249607184         Good  \n",
       "2   331.2098628537912         Good  \n",
       "3  223.45130972736786         Good  \n",
       "4  341.48923103222177         Good  "
      ]
     },
     "execution_count": 7,
     "metadata": {},
     "output_type": "execute_result"
    }
   ],
   "source": [
    "df.head()"
   ]
  },
  {
   "attachments": {},
   "cell_type": "markdown",
   "metadata": {},
   "source": [
    "---\n",
    "\n",
    "## 1. Drop the variable 'Month'\n"
   ]
  },
  {
   "cell_type": "code",
   "execution_count": 8,
   "metadata": {},
   "outputs": [
    {
     "data": {
      "text/plain": [
       "(100000, 27)"
      ]
     },
     "execution_count": 8,
     "metadata": {},
     "output_type": "execute_result"
    }
   ],
   "source": [
    "# Drop 'Month' column\n",
    "\n",
    "df.drop(columns='Month', inplace=True)\n",
    "df.shape"
   ]
  },
  {
   "attachments": {},
   "cell_type": "markdown",
   "metadata": {},
   "source": [
    "Must drop all variables that are related to time-series (Monthly influenced data)\n",
    "\n",
    "'Monthly_Inhand_Salary', 'Changed_Credit_Limit', 'Payment_of_Min_Amount', \n",
    "\n",
    "'Total_EMI_per_month', 'Amount_invested_monthly', 'Payment_Behaviour', 'Monthly_Balance'"
   ]
  },
  {
   "cell_type": "code",
   "execution_count": 9,
   "metadata": {},
   "outputs": [],
   "source": [
    "df.drop(columns=['Monthly_Inhand_Salary', 'Changed_Credit_Limit', 'Payment_of_Min_Amount',\n",
    "                 'Total_EMI_per_month', 'Amount_invested_monthly', 'Payment_Behaviour', 'Monthly_Balance'],\n",
    "                 inplace=True)\n"
   ]
  },
  {
   "cell_type": "code",
   "execution_count": 10,
   "metadata": {},
   "outputs": [
    {
     "data": {
      "text/plain": [
       "Index(['ID', 'Customer_ID', 'Name', 'Age', 'SSN', 'Occupation',\n",
       "       'Annual_Income', 'Num_Bank_Accounts', 'Num_Credit_Card',\n",
       "       'Interest_Rate', 'Num_of_Loan', 'Type_of_Loan', 'Delay_from_due_date',\n",
       "       'Num_of_Delayed_Payment', 'Num_Credit_Inquiries', 'Credit_Mix',\n",
       "       'Outstanding_Debt', 'Credit_Utilization_Ratio', 'Credit_History_Age',\n",
       "       'Credit_Score'],\n",
       "      dtype='object')"
      ]
     },
     "execution_count": 10,
     "metadata": {},
     "output_type": "execute_result"
    }
   ],
   "source": [
    "df.columns"
   ]
  },
  {
   "attachments": {},
   "cell_type": "markdown",
   "metadata": {},
   "source": [
    "---\n",
    "\n",
    "## 2. Drop Idenfication Variables\n",
    "\n",
    "Drop 4 Columns : 'ID', 'Customer_ID', 'Name', 'SSN'\n",
    "\n"
   ]
  },
  {
   "cell_type": "code",
   "execution_count": 11,
   "metadata": {},
   "outputs": [
    {
     "data": {
      "text/plain": [
       "Index(['Age', 'Occupation', 'Annual_Income', 'Num_Bank_Accounts',\n",
       "       'Num_Credit_Card', 'Interest_Rate', 'Num_of_Loan', 'Type_of_Loan',\n",
       "       'Delay_from_due_date', 'Num_of_Delayed_Payment', 'Num_Credit_Inquiries',\n",
       "       'Credit_Mix', 'Outstanding_Debt', 'Credit_Utilization_Ratio',\n",
       "       'Credit_History_Age', 'Credit_Score'],\n",
       "      dtype='object')"
      ]
     },
     "execution_count": 11,
     "metadata": {},
     "output_type": "execute_result"
    }
   ],
   "source": [
    "df.drop(columns= ['ID', 'Customer_ID', 'Name', 'SSN'], inplace=True)\n",
    "df.columns"
   ]
  },
  {
   "attachments": {},
   "cell_type": "markdown",
   "metadata": {},
   "source": [
    "---\n",
    "\n",
    "## 3. Drop Null Values"
   ]
  },
  {
   "cell_type": "code",
   "execution_count": 12,
   "metadata": {},
   "outputs": [
    {
     "data": {
      "text/plain": [
       "Age                             0\n",
       "Occupation                      0\n",
       "Annual_Income                   0\n",
       "Num_Bank_Accounts               0\n",
       "Num_Credit_Card                 0\n",
       "Interest_Rate                   0\n",
       "Num_of_Loan                     0\n",
       "Type_of_Loan                11408\n",
       "Delay_from_due_date             0\n",
       "Num_of_Delayed_Payment       7002\n",
       "Num_Credit_Inquiries         1965\n",
       "Credit_Mix                      0\n",
       "Outstanding_Debt                0\n",
       "Credit_Utilization_Ratio        0\n",
       "Credit_History_Age           9030\n",
       "Credit_Score                    0\n",
       "dtype: int64"
      ]
     },
     "execution_count": 12,
     "metadata": {},
     "output_type": "execute_result"
    }
   ],
   "source": [
    "df.isnull().sum()"
   ]
  },
  {
   "attachments": {},
   "cell_type": "markdown",
   "metadata": {},
   "source": [
    "#### Before we drop the rows with null values drop the unnecessary variables (with null values)"
   ]
  },
  {
   "cell_type": "code",
   "execution_count": 13,
   "metadata": {},
   "outputs": [
    {
     "data": {
      "text/plain": [
       "array(['Auto Loan, Credit-Builder Loan, Personal Loan, and Home Equity Loan',\n",
       "       'Credit-Builder Loan', 'Auto Loan, Auto Loan, and Not Specified',\n",
       "       ..., 'Home Equity Loan, Auto Loan, Auto Loan, and Auto Loan',\n",
       "       'Payday Loan, Student Loan, Mortgage Loan, and Not Specified',\n",
       "       'Personal Loan, Auto Loan, Mortgage Loan, Student Loan, and Student Loan'],\n",
       "      dtype=object)"
      ]
     },
     "execution_count": 13,
     "metadata": {},
     "output_type": "execute_result"
    }
   ],
   "source": [
    "df.Type_of_Loan.unique()"
   ]
  },
  {
   "cell_type": "code",
   "execution_count": 14,
   "metadata": {},
   "outputs": [
    {
     "data": {
      "text/plain": [
       "(100000, 15)"
      ]
     },
     "execution_count": 14,
     "metadata": {},
     "output_type": "execute_result"
    }
   ],
   "source": [
    "# Drop the column since we have Num_of_Loan\n",
    "\n",
    "df.drop(columns='Type_of_Loan', inplace=True)\n",
    "df.shape"
   ]
  },
  {
   "attachments": {},
   "cell_type": "markdown",
   "metadata": {},
   "source": [
    "The other variables seem important..."
   ]
  },
  {
   "cell_type": "code",
   "execution_count": 15,
   "metadata": {},
   "outputs": [
    {
     "data": {
      "text/plain": [
       "(82950, 15)"
      ]
     },
     "execution_count": 15,
     "metadata": {},
     "output_type": "execute_result"
    }
   ],
   "source": [
    "df.dropna(inplace=True)\n",
    "df.shape"
   ]
  },
  {
   "cell_type": "code",
   "execution_count": 16,
   "metadata": {},
   "outputs": [
    {
     "data": {
      "text/plain": [
       "RangeIndex(start=0, stop=82950, step=1)"
      ]
     },
     "execution_count": 16,
     "metadata": {},
     "output_type": "execute_result"
    }
   ],
   "source": [
    "# Reset Index (Rows have been manipulated)\n",
    "\n",
    "df.reset_index(drop=True, inplace=True)\n",
    "df.index"
   ]
  },
  {
   "attachments": {},
   "cell_type": "markdown",
   "metadata": {},
   "source": [
    "---\n",
    "\n",
    "## 4. Age\n"
   ]
  },
  {
   "cell_type": "code",
   "execution_count": 17,
   "metadata": {},
   "outputs": [
    {
     "data": {
      "text/plain": [
       "1534"
      ]
     },
     "execution_count": 17,
     "metadata": {},
     "output_type": "execute_result"
    }
   ],
   "source": [
    "# Seems like there are wrong values\n",
    "\n",
    "df.Age.nunique()"
   ]
  },
  {
   "cell_type": "code",
   "execution_count": 18,
   "metadata": {},
   "outputs": [
    {
     "data": {
      "text/plain": [
       "dtype('O')"
      ]
     },
     "execution_count": 18,
     "metadata": {},
     "output_type": "execute_result"
    }
   ],
   "source": [
    "# Type should be integer, but it's a string (object)\n",
    "\n",
    "df.Age.dtype"
   ]
  },
  {
   "cell_type": "code",
   "execution_count": 19,
   "metadata": {},
   "outputs": [
    {
     "data": {
      "text/plain": [
       "0          23\n",
       "1        -500\n",
       "2          23\n",
       "3          23\n",
       "4          23\n",
       "         ... \n",
       "82945      25\n",
       "82946      25\n",
       "82947      25\n",
       "82948      25\n",
       "82949      25\n",
       "Name: Age, Length: 82950, dtype: object"
      ]
     },
     "execution_count": 19,
     "metadata": {},
     "output_type": "execute_result"
    }
   ],
   "source": [
    "df.Age"
   ]
  },
  {
   "cell_type": "code",
   "execution_count": 20,
   "metadata": {},
   "outputs": [
    {
     "data": {
      "text/plain": [
       "0     23\n",
       "1    500\n",
       "2     23\n",
       "3     23\n",
       "4     23\n",
       "Name: Age, dtype: int64"
      ]
     },
     "execution_count": 20,
     "metadata": {},
     "output_type": "execute_result"
    }
   ],
   "source": [
    "# Extract only the numbers and change the type to integer.\n",
    "\n",
    "df.Age = df.Age.map(lambda x: int(''.join(re.findall(r'\\d+', x))))\n",
    "df.Age.head()"
   ]
  },
  {
   "cell_type": "code",
   "execution_count": 21,
   "metadata": {},
   "outputs": [
    {
     "data": {
      "text/plain": [
       "(5.3149999999999995, 1750.8]    0.984882\n",
       "(5224.4, 6961.2]                0.003990\n",
       "(3487.6, 5224.4]                0.003797\n",
       "(1750.8, 3487.6]                0.003713\n",
       "(6961.2, 8698.0]                0.003617\n",
       "Name: Age, dtype: float64"
      ]
     },
     "execution_count": 21,
     "metadata": {},
     "output_type": "execute_result"
    }
   ],
   "source": [
    "df.Age.value_counts(normalize=True, bins=5)"
   ]
  },
  {
   "cell_type": "code",
   "execution_count": 22,
   "metadata": {},
   "outputs": [
    {
     "name": "stdout",
     "output_type": "stream",
     "text": [
      "14\n",
      "8698\n"
     ]
    }
   ],
   "source": [
    "print(df.Age.min())\n",
    "print(df.Age.max())"
   ]
  },
  {
   "cell_type": "code",
   "execution_count": 23,
   "metadata": {},
   "outputs": [
    {
     "data": {
      "text/plain": [
       "(11376, 15)"
      ]
     },
     "execution_count": 23,
     "metadata": {},
     "output_type": "execute_result"
    }
   ],
   "source": [
    "# Observations with age under 21 should be considered wrong data => Based on jobs, credit history age, etc.\n",
    "\n",
    "df.loc[df.Age<21].shape"
   ]
  },
  {
   "cell_type": "code",
   "execution_count": 24,
   "metadata": {},
   "outputs": [
    {
     "name": "stdout",
     "output_type": "stream",
     "text": [
      "(2324, 15)\n",
      "(69251, 15)\n"
     ]
    }
   ],
   "source": [
    "# Age is higher than 20 and lower than 100\n",
    "\n",
    "print(df.loc[df.Age>=100].shape)\n",
    "df = df.loc[(df.Age>20) & (df.Age<=100)]\n",
    "df.reset_index(drop=True, inplace=True)\n",
    "print(df.shape)"
   ]
  },
  {
   "cell_type": "code",
   "execution_count": 25,
   "metadata": {},
   "outputs": [
    {
     "data": {
      "image/png": "[encoded data removed]",
      "text/plain": [
       "<Figure size 1000x300 with 2 Axes>"
      ]
     },
     "metadata": {},
     "output_type": "display_data"
    }
   ],
   "source": [
    "# Looks good\n",
    "\n",
    "plt.figure(figsize=(10,3))\n",
    "\n",
    "plt.subplot(1, 2, 1)\n",
    "plt.boxplot(df.Age)\n",
    "\n",
    "plt.subplot(1, 2, 2)\n",
    "plt.hist(df.Age)\n",
    "\n",
    "plt.show()"
   ]
  },
  {
   "attachments": {},
   "cell_type": "markdown",
   "metadata": {},
   "source": [
    "---\n",
    "\n",
    "## 5. Occupation"
   ]
  },
  {
   "cell_type": "code",
   "execution_count": 26,
   "metadata": {},
   "outputs": [
    {
     "data": {
      "text/plain": [
       "_______          4882\n",
       "Lawyer           4602\n",
       "Mechanic         4412\n",
       "Scientist        4397\n",
       "Accountant       4375\n",
       "Architect        4354\n",
       "Entrepreneur     4311\n",
       "Developer        4294\n",
       "Journalist       4271\n",
       "Media_Manager    4262\n",
       "Doctor           4255\n",
       "Engineer         4244\n",
       "Teacher          4189\n",
       "Musician         4169\n",
       "Writer           4139\n",
       "Manager          4095\n",
       "Name: Occupation, dtype: int64"
      ]
     },
     "execution_count": 26,
     "metadata": {},
     "output_type": "execute_result"
    }
   ],
   "source": [
    "# 631 null values.\n",
    "\n",
    "df.Occupation.value_counts()"
   ]
  },
  {
   "cell_type": "code",
   "execution_count": 27,
   "metadata": {},
   "outputs": [
    {
     "data": {
      "text/plain": [
       "(69251, 14)"
      ]
     },
     "execution_count": 27,
     "metadata": {},
     "output_type": "execute_result"
    }
   ],
   "source": [
    "# Drop Occupation => Too many unique values => Consider dummy coding\n",
    "\n",
    "df.drop(columns='Occupation', inplace=True)\n",
    "df.shape"
   ]
  },
  {
   "attachments": {},
   "cell_type": "markdown",
   "metadata": {},
   "source": [
    "---\n",
    "\n",
    "## 6. Annual_Income"
   ]
  },
  {
   "cell_type": "code",
   "execution_count": 28,
   "metadata": {},
   "outputs": [
    {
     "data": {
      "text/plain": [
       "0        19114\n",
       "1        19114\n",
       "2        19114\n",
       "3        19114\n",
       "4        34847\n",
       "         ...  \n",
       "69246    39628\n",
       "69247    39628\n",
       "69248    39628\n",
       "69249    39628\n",
       "69250    39628\n",
       "Name: Annual_Income, Length: 69251, dtype: int64"
      ]
     },
     "execution_count": 28,
     "metadata": {},
     "output_type": "execute_result"
    }
   ],
   "source": [
    "# Leave only the numbers and decimal point\n",
    "# Round it to integer\n",
    "\n",
    "df.Annual_Income = df.Annual_Income.map(lambda x: int(float(''.join(re.findall(r'\\d+\\.\\d+', x)))))\n",
    "df.Annual_Income"
   ]
  },
  {
   "cell_type": "code",
   "execution_count": 29,
   "metadata": {},
   "outputs": [
    {
     "data": {
      "text/plain": [
       "(-17185.057, 4845217.2]     0.991856\n",
       "(14521639.6, 19359850.8]    0.002296\n",
       "(19359850.8, 24198062.0]    0.002282\n",
       "(9683428.4, 14521639.6]     0.001863\n",
       "(4845217.2, 9683428.4]      0.001704\n",
       "Name: Annual_Income, dtype: float64"
      ]
     },
     "execution_count": 29,
     "metadata": {},
     "output_type": "execute_result"
    }
   ],
   "source": [
    "# Outliers\n",
    "\n",
    "df.Annual_Income.value_counts(normalize=True, bins=5)"
   ]
  },
  {
   "cell_type": "code",
   "execution_count": 30,
   "metadata": {},
   "outputs": [
    {
     "data": {
      "image/png": "[encoded data removed]",
      "text/plain": [
       "<Figure size 300x300 with 1 Axes>"
      ]
     },
     "metadata": {},
     "output_type": "display_data"
    }
   ],
   "source": [
    "plt.figure(figsize=(3,3))\n",
    "plt.boxplot(df.Annual_Income.loc[df.Annual_Income<=1000000])\n",
    "plt.show()"
   ]
  },
  {
   "cell_type": "code",
   "execution_count": 31,
   "metadata": {},
   "outputs": [
    {
     "name": "stdout",
     "output_type": "stream",
     "text": [
      "680\n"
     ]
    },
    {
     "data": {
      "text/plain": [
       "(68571, 14)"
      ]
     },
     "execution_count": 31,
     "metadata": {},
     "output_type": "execute_result"
    }
   ],
   "source": [
    "# Outliers => Cutoff at 200,000 US Dollars\n",
    "\n",
    "print(df.Annual_Income.loc[df.Annual_Income>=200000].__len__())\n",
    "\n",
    "df = df.loc[df.Annual_Income<=200000]\n",
    "df.reset_index(drop=True, inplace=True)\n",
    "df.shape"
   ]
  },
  {
   "cell_type": "code",
   "execution_count": 32,
   "metadata": {},
   "outputs": [
    {
     "data": {
      "image/png": "[encoded data removed]",
      "text/plain": [
       "<Figure size 1000x300 with 2 Axes>"
      ]
     },
     "metadata": {},
     "output_type": "display_data"
    }
   ],
   "source": [
    "# Not bad for now\n",
    "\n",
    "plt.figure(figsize=(10,3))\n",
    "\n",
    "plt.subplot(1, 2, 1)\n",
    "plt.boxplot(df.Annual_Income)\n",
    "\n",
    "plt.subplot(1, 2, 2)\n",
    "plt.hist(df.Annual_Income)\n",
    "\n",
    "plt.show()"
   ]
  },
  {
   "attachments": {},
   "cell_type": "markdown",
   "metadata": {},
   "source": [
    "---\n",
    "\n",
    "## 7. Num_Bank_Accounts"
   ]
  },
  {
   "cell_type": "code",
   "execution_count": 33,
   "metadata": {},
   "outputs": [
    {
     "data": {
      "text/plain": [
       "(-2.8, 358.8]       0.989194\n",
       "(718.6, 1078.4]     0.002844\n",
       "(358.8, 718.6]      0.002683\n",
       "(1438.2, 1798.0]    0.002683\n",
       "(1078.4, 1438.2]    0.002596\n",
       "Name: Num_Bank_Accounts, dtype: float64"
      ]
     },
     "execution_count": 33,
     "metadata": {},
     "output_type": "execute_result"
    }
   ],
   "source": [
    "# Number of bank accounts distribution\n",
    "\n",
    "df.Num_Bank_Accounts.value_counts(normalize=True, bins=5)"
   ]
  },
  {
   "cell_type": "code",
   "execution_count": 34,
   "metadata": {},
   "outputs": [
    {
     "data": {
      "text/plain": [
       "(-1.101, 19.0]    0.999365\n",
       "(19.0, 39.0]      0.000251\n",
       "(39.0, 59.0]      0.000162\n",
       "(59.0, 79.0]      0.000133\n",
       "(79.0, 99.0]      0.000089\n",
       "Name: Num_Bank_Accounts, dtype: float64"
      ]
     },
     "execution_count": 34,
     "metadata": {},
     "output_type": "execute_result"
    }
   ],
   "source": [
    "# Under 100\n",
    "\n",
    "df.Num_Bank_Accounts.loc[df.Num_Bank_Accounts<=100].value_counts(normalize=True, bins=5)"
   ]
  },
  {
   "cell_type": "code",
   "execution_count": 35,
   "metadata": {},
   "outputs": [
    {
     "data": {
      "text/plain": [
       "(67650, 14)"
      ]
     },
     "execution_count": 35,
     "metadata": {},
     "output_type": "execute_result"
    }
   ],
   "source": [
    "# Drop outliers\n",
    "\n",
    "df = df.loc[df.Num_Bank_Accounts < 12]\n",
    "df.shape"
   ]
  },
  {
   "cell_type": "code",
   "execution_count": 36,
   "metadata": {},
   "outputs": [
    {
     "data": {
      "image/png": "[encoded data removed]",
      "text/plain": [
       "<Figure size 1000x300 with 2 Axes>"
      ]
     },
     "metadata": {},
     "output_type": "display_data"
    }
   ],
   "source": [
    "# Looks Good\n",
    "\n",
    "plt.figure(figsize=(10,3))\n",
    "\n",
    "plt.subplot(1, 2, 1)\n",
    "plt.boxplot(df.Num_Bank_Accounts)\n",
    "\n",
    "plt.subplot(1, 2, 2)\n",
    "plt.hist(df.Num_Bank_Accounts)\n",
    "\n",
    "plt.show()"
   ]
  },
  {
   "attachments": {},
   "cell_type": "markdown",
   "metadata": {},
   "source": [
    "---\n",
    "\n",
    "## 8. Num_Credit_Card"
   ]
  },
  {
   "cell_type": "code",
   "execution_count": 37,
   "metadata": {},
   "outputs": [
    {
     "data": {
      "text/plain": [
       "(-1.5, 299.8]       0.981981\n",
       "(599.6, 899.4]      0.004715\n",
       "(299.8, 599.6]      0.004464\n",
       "(899.4, 1199.2]     0.004420\n",
       "(1199.2, 1499.0]    0.004420\n",
       "Name: Num_Credit_Card, dtype: float64"
      ]
     },
     "execution_count": 37,
     "metadata": {},
     "output_type": "execute_result"
    }
   ],
   "source": [
    "# Number of credit card distribution\n",
    "\n",
    "df.Num_Credit_Card.value_counts(normalize=True, bins=5)"
   ]
  },
  {
   "cell_type": "code",
   "execution_count": 38,
   "metadata": {},
   "outputs": [
    {
     "data": {
      "text/plain": [
       "(-0.101, 20.0]    0.998580\n",
       "(20.0, 40.0]      0.000408\n",
       "(60.0, 80.0]      0.000408\n",
       "(80.0, 100.0]     0.000347\n",
       "(40.0, 60.0]      0.000257\n",
       "Name: Num_Credit_Card, dtype: float64"
      ]
     },
     "execution_count": 38,
     "metadata": {},
     "output_type": "execute_result"
    }
   ],
   "source": [
    "# Under 100\n",
    "\n",
    "df.Num_Credit_Card.loc[df.Num_Credit_Card<=100].value_counts(normalize=True, bins=5)"
   ]
  },
  {
   "cell_type": "code",
   "execution_count": 39,
   "metadata": {},
   "outputs": [
    {
     "data": {
      "text/plain": [
       "(66102, 14)"
      ]
     },
     "execution_count": 39,
     "metadata": {},
     "output_type": "execute_result"
    }
   ],
   "source": [
    "# Drop outliers\n",
    "\n",
    "df = df.loc[df.Num_Credit_Card <= 20]\n",
    "df.shape"
   ]
  },
  {
   "cell_type": "code",
   "execution_count": 40,
   "metadata": {},
   "outputs": [
    {
     "data": {
      "image/png": "[encoded data removed]",
      "text/plain": [
       "<Figure size 1000x300 with 2 Axes>"
      ]
     },
     "metadata": {},
     "output_type": "display_data"
    }
   ],
   "source": [
    "# Looks Good\n",
    "\n",
    "plt.figure(figsize=(10,3))\n",
    "\n",
    "plt.subplot(1, 2, 1)\n",
    "plt.boxplot(df.Num_Credit_Card)\n",
    "\n",
    "plt.subplot(1, 2, 2)\n",
    "plt.hist(df.Num_Credit_Card)\n",
    "\n",
    "plt.show()"
   ]
  },
  {
   "attachments": {},
   "cell_type": "markdown",
   "metadata": {},
   "source": [
    "---\n",
    "\n",
    "## 9. Interest_Rate"
   ]
  },
  {
   "cell_type": "code",
   "execution_count": 41,
   "metadata": {},
   "outputs": [
    {
     "name": "stdout",
     "output_type": "stream",
     "text": [
      "int64\n"
     ]
    },
    {
     "data": {
      "text/plain": [
       "(-4.797000000000001, 1160.2]    0.983344\n",
       "(3478.6, 4637.8]                0.004508\n",
       "(1160.2, 2319.4]                0.004190\n",
       "(4637.8, 5797.0]                0.004039\n",
       "(2319.4, 3478.6]                0.003918\n",
       "Name: Interest_Rate, dtype: float64"
      ]
     },
     "execution_count": 41,
     "metadata": {},
     "output_type": "execute_result"
    }
   ],
   "source": [
    "print(df.Interest_Rate.dtype)\n",
    "\n",
    "# Interest rate distribution\n",
    "\n",
    "df.Interest_Rate.value_counts(normalize=True, bins=5)"
   ]
  },
  {
   "cell_type": "code",
   "execution_count": 42,
   "metadata": {},
   "outputs": [
    {
     "data": {
      "text/plain": [
       "(0.9, 20.8]      0.789068\n",
       "(20.8, 40.6]     0.210654\n",
       "(80.2, 100.0]    0.000139\n",
       "(60.4, 80.2]     0.000124\n",
       "(40.6, 60.4]     0.000015\n",
       "Name: Interest_Rate, dtype: float64"
      ]
     },
     "execution_count": 42,
     "metadata": {},
     "output_type": "execute_result"
    }
   ],
   "source": [
    "# Under 100\n",
    "\n",
    "df.Interest_Rate.loc[df.Interest_Rate<=100].value_counts(normalize=True, bins=5)"
   ]
  },
  {
   "cell_type": "code",
   "execution_count": 43,
   "metadata": {},
   "outputs": [
    {
     "data": {
      "text/plain": [
       "(64728, 14)"
      ]
     },
     "execution_count": 43,
     "metadata": {},
     "output_type": "execute_result"
    }
   ],
   "source": [
    "# Drop outliers\n",
    "\n",
    "df = df.loc[df.Interest_Rate <= 41]\n",
    "df.shape"
   ]
  },
  {
   "cell_type": "code",
   "execution_count": 44,
   "metadata": {},
   "outputs": [
    {
     "data": {
      "text/plain": [
       "0    0.03\n",
       "1    0.03\n",
       "2    0.03\n",
       "3    0.03\n",
       "4    0.06\n",
       "Name: Interest_Rate, dtype: float64"
      ]
     },
     "execution_count": 44,
     "metadata": {},
     "output_type": "execute_result"
    }
   ],
   "source": [
    "# Interest_Rate column seems like it is written in percentage => Divide it by 100\n",
    "\n",
    "df.Interest_Rate = df.Interest_Rate.map(lambda x : x / 100)\n",
    "df.Interest_Rate.head()"
   ]
  },
  {
   "cell_type": "code",
   "execution_count": 45,
   "metadata": {},
   "outputs": [
    {
     "data": {
      "image/png": "[encoded data removed]",
      "text/plain": [
       "<Figure size 1000x300 with 2 Axes>"
      ]
     },
     "metadata": {},
     "output_type": "display_data"
    }
   ],
   "source": [
    "# Looks Good\n",
    "\n",
    "plt.figure(figsize=(10,3))\n",
    "\n",
    "plt.subplot(1, 2, 1)\n",
    "plt.boxplot(df.Interest_Rate)\n",
    "\n",
    "plt.subplot(1, 2, 2)\n",
    "plt.hist(df.Interest_Rate)\n",
    "\n",
    "plt.show()"
   ]
  },
  {
   "attachments": {},
   "cell_type": "markdown",
   "metadata": {},
   "source": [
    "---\n",
    "\n",
    "## 10. Num_of_Loan"
   ]
  },
  {
   "cell_type": "code",
   "execution_count": 46,
   "metadata": {},
   "outputs": [
    {
     "name": "stdout",
     "output_type": "stream",
     "text": [
      "object\n"
     ]
    }
   ],
   "source": [
    "print(df.Num_of_Loan.dtype)"
   ]
  },
  {
   "cell_type": "code",
   "execution_count": 47,
   "metadata": {},
   "outputs": [
    {
     "data": {
      "text/plain": [
       "(-1.486, 297.0]     0.996431\n",
       "(1188.0, 1485.0]    0.000973\n",
       "(891.0, 1188.0]     0.000927\n",
       "(594.0, 891.0]      0.000850\n",
       "(297.0, 594.0]      0.000819\n",
       "Name: Num_of_Loan, dtype: float64"
      ]
     },
     "execution_count": 47,
     "metadata": {},
     "output_type": "execute_result"
    }
   ],
   "source": [
    "# Leave only integer\n",
    "\n",
    "df.Num_of_Loan = df.Num_of_Loan.map(lambda x: int(''.join(re.findall(r'\\d+', x))))\n",
    "df.Num_of_Loan.value_counts(normalize=True, bins=5)"
   ]
  },
  {
   "cell_type": "code",
   "execution_count": 48,
   "metadata": {},
   "outputs": [
    {
     "data": {
      "text/plain": [
       "(-0.101, 20.0]    0.960326\n",
       "(20.0, 40.0]      0.000093\n",
       "(40.0, 60.0]      0.000140\n",
       "(60.0, 80.0]      0.000031\n",
       "(80.0, 100.0]     0.039410\n",
       "Name: Num_of_Loan, dtype: float64"
      ]
     },
     "execution_count": 48,
     "metadata": {},
     "output_type": "execute_result"
    }
   ],
   "source": [
    "# Under 100\n",
    "\n",
    "df.Num_of_Loan.loc[df.Num_of_Loan<=100].value_counts(normalize=True, bins=5).sort_index()"
   ]
  },
  {
   "cell_type": "code",
   "execution_count": 49,
   "metadata": {},
   "outputs": [
    {
     "data": {
      "text/plain": [
       "(61893, 14)"
      ]
     },
     "execution_count": 49,
     "metadata": {},
     "output_type": "execute_result"
    }
   ],
   "source": [
    "# Drop outliers\n",
    "\n",
    "df = df.loc[df.Num_of_Loan <= 21]\n",
    "df.shape"
   ]
  },
  {
   "cell_type": "code",
   "execution_count": 50,
   "metadata": {},
   "outputs": [
    {
     "data": {
      "image/png": "[encoded data removed]",
      "text/plain": [
       "<Figure size 1000x300 with 2 Axes>"
      ]
     },
     "metadata": {},
     "output_type": "display_data"
    }
   ],
   "source": [
    "# Looks Good\n",
    "\n",
    "plt.figure(figsize=(10,3))\n",
    "\n",
    "plt.subplot(1, 2, 1)\n",
    "plt.boxplot(df.Num_of_Loan)\n",
    "\n",
    "plt.subplot(1, 2, 2)\n",
    "plt.hist(df.Num_of_Loan)\n",
    "\n",
    "plt.show()"
   ]
  },
  {
   "attachments": {},
   "cell_type": "markdown",
   "metadata": {},
   "source": [
    "---\n",
    "\n",
    "## 11. Delay_from_due_date"
   ]
  },
  {
   "cell_type": "code",
   "execution_count": 51,
   "metadata": {},
   "outputs": [
    {
     "data": {
      "text/plain": [
       "array([ 3,  5,  8,  7, 13, 10,  0,  1,  9, -1, 30, 31, 34, 27, 14, 11,  2,\n",
       "       -2, 16, 17,  4, 15, 23, 22, 12, 18, 19, 51, 53, 48, 43, 52, 25, 20,\n",
       "       46, 49, 28, 61, 26, 29, 45,  6, 55, 56, 59, 62, 67, 54, 57, 21, 24,\n",
       "       65, 41, 39, 47, 42, 33, 35, 36, 38, -3, 60, 63, 50, 44, 40, 64, 32,\n",
       "       37, -5, 58, -4, 66])"
      ]
     },
     "execution_count": 51,
     "metadata": {},
     "output_type": "execute_result"
    }
   ],
   "source": [
    "df.Delay_from_due_date.unique()"
   ]
  },
  {
   "cell_type": "code",
   "execution_count": 52,
   "metadata": {},
   "outputs": [
    {
     "data": {
      "text/plain": [
       "dtype('int64')"
      ]
     },
     "execution_count": 52,
     "metadata": {},
     "output_type": "execute_result"
    }
   ],
   "source": [
    "df.Delay_from_due_date.dtype"
   ]
  },
  {
   "cell_type": "code",
   "execution_count": 53,
   "metadata": {},
   "outputs": [
    {
     "data": {
      "text/plain": [
       "array([ 3,  5,  8,  7, 13, 10,  0,  1,  9, 30, 31, 34, 27, 14, 11,  2, 16,\n",
       "       17,  4, 15, 23, 22, 12, 18, 19, 51, 53, 48, 43, 52, 25, 20, 46, 49,\n",
       "       28, 61, 26, 29, 45,  6, 55, 56, 59, 62, 67, 54, 57, 21, 24, 65, 41,\n",
       "       39, 47, 42, 33, 35, 36, 38, 60, 63, 50, 44, 40, 64, 32, 37, 58, 66])"
      ]
     },
     "execution_count": 53,
     "metadata": {},
     "output_type": "execute_result"
    }
   ],
   "source": [
    "# Change negative values to 0\n",
    "# Reason: This column represents the average number of days delayed from the payment date.\n",
    "# If you're average is negative, it means there was no delay (Early payment) = 0\n",
    "\n",
    "df.Delay_from_due_date = df.Delay_from_due_date.map(lambda x : 0 if x < 0 else x)\n",
    "df.Delay_from_due_date.unique()"
   ]
  },
  {
   "cell_type": "code",
   "execution_count": 54,
   "metadata": {},
   "outputs": [
    {
     "data": {
      "image/png": "[encoded data removed]",
      "text/plain": [
       "<Figure size 1000x300 with 2 Axes>"
      ]
     },
     "metadata": {},
     "output_type": "display_data"
    }
   ],
   "source": [
    "# Looks Alright\n",
    "\n",
    "plt.figure(figsize=(10,3))\n",
    "\n",
    "plt.subplot(1, 2, 1)\n",
    "plt.boxplot(df.Delay_from_due_date)\n",
    "\n",
    "plt.subplot(1, 2, 2)\n",
    "plt.hist(df.Delay_from_due_date)\n",
    "\n",
    "plt.show()"
   ]
  },
  {
   "attachments": {},
   "cell_type": "markdown",
   "metadata": {},
   "source": [
    "---\n",
    "\n",
    "## 12. Num_of_Delayed_Payment"
   ]
  },
  {
   "cell_type": "code",
   "execution_count": 55,
   "metadata": {},
   "outputs": [],
   "source": [
    "# NOTE: This column is very similar to one above (Delay_from_due_date). Might drop it later."
   ]
  },
  {
   "cell_type": "code",
   "execution_count": 56,
   "metadata": {},
   "outputs": [
    {
     "data": {
      "text/plain": [
       "array(['7', '4', '8_', '1', '3_', '0', '8', '6', '5', '3', '9', '15',\n",
       "       '17', '2', '14', '11', '20', '22', '10', '13', '13_', '14_', '16',\n",
       "       '12', '12_', '18', '19', '23', '24', '21', '3318', '3083', '1338',\n",
       "       '26', '11_', '25', '183_', '-1', '10_', '22_', '19_', '23_',\n",
       "       '2672', '20_', '4_', '2008', '538', '6_', '1_', '16_', '3478',\n",
       "       '2420', '15_', '707', '26_', '18_', '28', '17_', '27', '5_', '-2',\n",
       "       '1867', '2250', '1463', '-3', '7_', '1941', '2655', '306', '9_',\n",
       "       '0_', '3539', '3684', '1823', '1946', '827', '2297', '2566',\n",
       "       '2503', '2812', '1697', '851', '3905', '923', '1668', '3253',\n",
       "       '21_', '2689', '3858', '642', '3457', '3154', '3037', '3103', '2_',\n",
       "       '1063', '1841', '2569_', '25_', '211', '793', '3484', '3491',\n",
       "       '3050', '2162', '27_', '1718', '3855', '84', '3251', '1832',\n",
       "       '4069', '3010', '733', '4241', '166', '24_', '2461', '1749',\n",
       "       '3200', '2185', '4161', '3009', '359', '2015', '1523', '594',\n",
       "       '1079', '1199', '1015', '281', '559', '779', '4311', '-2_', '2323',\n",
       "       '1471', '3529', '439', '3456', '3179', '1332', '3175', '3112',\n",
       "       '829', '4022', '4023', '531', '3092', '2400', '3621', '3536',\n",
       "       '544', '1864', '28_', '142', '2300', '72', '497', '398', '2222',\n",
       "       '3960', '3043', '4216', '2903', '2658', '-1_', '4042', '1323_',\n",
       "       '921', '1328', '2438', '809', '1996', '1370', '1204', '2167',\n",
       "       '4011', '2594', '2533', '1663', '1018', '3316', '2589', '2529',\n",
       "       '2488', '4266', '739', '337', '290', '674', '2450', '3738', '1792',\n",
       "       '2570', '775', '960', '482', '1706', '2493', '192', '3031',\n",
       "       '2794_', '2219_', '1849', '3559', '2657', '2694', '2677', '2413',\n",
       "       '2609', '4326', '4211', '823', '2860', '4219', '1531', '4024',\n",
       "       '1673', '49', '2243', '1685', '1869', '3489', '1164', '2616',\n",
       "       '848_', '4134', '1530', '1502', '4075', '2697', '3845', '640',\n",
       "       '2230', '1795', '1180', '1534', '3739', '2628', '4191', '996',\n",
       "       '372', '787', '4135', '1218', '1766', '1359', '3107', '1263',\n",
       "       '709', '3632', '4077', '2943', '3191', '2317', '1640', '2237_',\n",
       "       '847', '3978', '1498', '1833', '2737', '1192', '1481', '700',\n",
       "       '271', '2286', '273', '1478', '3749', '2959', '3097_', '3511',\n",
       "       '2196', '2149', '1874', '3222', '1222', '2907', '3051', '1598',\n",
       "       '416', '2314', '2955', '1636', '80', '3708', '195', '320', '2945',\n",
       "       '1911', '3796', '4159', '2255', '4397', '3776', '2148', '853',\n",
       "       '1178', '1633', '1687', '1034', '2044', '3661', '1211', '2007',\n",
       "       '102', '1891', '3162', '3142', '3881', '2728', '2671', '4251',\n",
       "       '3840_', '3119', '4185', '683', '1614', '3447', '1852', '2131',\n",
       "       '1900', '1699', '508', '2604', '1411', '2351', '867', '2352',\n",
       "       '1191', '905', '4053', '3869', '933', '3660', '3629', '3208',\n",
       "       '2142', '2521', '450', '583', '876', '2560', '2578', '1236',\n",
       "       '1489', '4360', '1154', '3909', '2712', '3171', '1750', '197',\n",
       "       '2569', '887', '2397', '4337', '4249', '2751', '2950', '1859',\n",
       "       '107', '2348', '2810', '3078', '2777', '3105', '1278', '2879',\n",
       "       '2141', '223', '2756', '1181', '1184', '2617', '3972', '2334',\n",
       "       '4169', '2280', '1825', '309', '2431', '3099', '2080', '2666',\n",
       "       '3722', '529', '1985', '3060', '4278', '3212', '3467', '4231',\n",
       "       '3790', '2324', '2381', '371', '3880', '2991', '4319', '1061',\n",
       "       '662', '4144', '2006', '2278_', '3751', '4262', '2615', '800',\n",
       "       '3766', '3329', '1086', '1087_', '2457', '3522', '3274', '3488',\n",
       "       '2854', '238', '351', '3706', '4095', '2926', '1329', '3370',\n",
       "       '283', '1743', '2429', '974', '4388', '4282', '4281', '3415',\n",
       "       '3815', '441', '94', '3499', '106', '1004', '3946', '2956', '4113',\n",
       "       '615', '2801', '1172', '2553', '1765', '3495', '2820', '1392',\n",
       "       '4239', '1295_', '2636', '4295', '1325', '1096', '1735', '1073',\n",
       "       '1975', '3827', '2552', '3754', '532', '2376', '778', '2621',\n",
       "       '804', '3926', '3861_', '3574', '175', '162', '2834', '3765',\n",
       "       '2354', '3355', '2274', '1606', '1443', '1354', '2142_', '1422',\n",
       "       '2278', '1045', '4106', '666', '3229', '1473_', '2384', '1954',\n",
       "       '719', '2534', '4002', '541', '2875', '4344', '1256', '676', '399',\n",
       "       '86', '1571', '4037', '1967', '4005', '1150', '1801', '1775',\n",
       "       '2260', '3707', '4292', '1820', '145', '1480', '1850', '430',\n",
       "       '1579', '3336', '3392', '3688', '221', '2047'], dtype=object)"
      ]
     },
     "execution_count": 56,
     "metadata": {},
     "output_type": "execute_result"
    }
   ],
   "source": [
    "df.Num_of_Delayed_Payment.unique()"
   ]
  },
  {
   "cell_type": "code",
   "execution_count": 57,
   "metadata": {},
   "outputs": [],
   "source": [
    "# Leave only integer\n",
    "\n",
    "df.Num_of_Delayed_Payment = df.Num_of_Delayed_Payment.map(lambda x: int(''.join(re.findall(r'\\d+', x))))"
   ]
  },
  {
   "cell_type": "code",
   "execution_count": 58,
   "metadata": {},
   "outputs": [
    {
     "data": {
      "text/plain": [
       "(-4.398000000000001, 879.4]    0.993537\n",
       "(1758.8, 2638.2]               0.001890\n",
       "(879.4, 1758.8]                0.001535\n",
       "(2638.2, 3517.6]               0.001535\n",
       "(3517.6, 4397.0]               0.001503\n",
       "Name: Num_of_Delayed_Payment, dtype: float64"
      ]
     },
     "execution_count": 58,
     "metadata": {},
     "output_type": "execute_result"
    }
   ],
   "source": [
    "df.Num_of_Delayed_Payment.value_counts(normalize=True, bins=5)"
   ]
  },
  {
   "cell_type": "code",
   "execution_count": 59,
   "metadata": {},
   "outputs": [
    {
     "data": {
      "text/plain": [
       "(-0.095, 18.8]    0.781302\n",
       "(18.8, 37.6]      0.218600\n",
       "(37.6, 56.4]      0.000016\n",
       "(56.4, 75.2]      0.000016\n",
       "(75.2, 94.0]      0.000065\n",
       "Name: Num_of_Delayed_Payment, dtype: float64"
      ]
     },
     "execution_count": 59,
     "metadata": {},
     "output_type": "execute_result"
    }
   ],
   "source": [
    "# Under 100\n",
    "\n",
    "df.Num_of_Delayed_Payment.loc[df.Num_of_Delayed_Payment<=100].value_counts(normalize=True, bins=5).sort_index()"
   ]
  },
  {
   "cell_type": "code",
   "execution_count": 60,
   "metadata": {},
   "outputs": [
    {
     "data": {
      "text/plain": [
       "(61893, 14)"
      ]
     },
     "execution_count": 60,
     "metadata": {},
     "output_type": "execute_result"
    }
   ],
   "source": [
    "df.shape"
   ]
  },
  {
   "cell_type": "code",
   "execution_count": 61,
   "metadata": {},
   "outputs": [
    {
     "data": {
      "text/plain": [
       "(61403, 14)"
      ]
     },
     "execution_count": 61,
     "metadata": {},
     "output_type": "execute_result"
    }
   ],
   "source": [
    "# Drop outliers\n",
    "\n",
    "df = df.loc[df.Num_of_Delayed_Payment <= 28]\n",
    "df.shape"
   ]
  },
  {
   "cell_type": "code",
   "execution_count": 62,
   "metadata": {},
   "outputs": [
    {
     "data": {
      "image/png": "[encoded data removed]",
      "text/plain": [
       "<Figure size 1000x300 with 2 Axes>"
      ]
     },
     "metadata": {},
     "output_type": "display_data"
    }
   ],
   "source": [
    "# Looks Good\n",
    "\n",
    "plt.figure(figsize=(10,3))\n",
    "\n",
    "plt.subplot(1, 2, 1)\n",
    "plt.boxplot(df.Num_of_Delayed_Payment)\n",
    "\n",
    "plt.subplot(1, 2, 2)\n",
    "plt.hist(df.Num_of_Delayed_Payment)\n",
    "\n",
    "plt.show()"
   ]
  },
  {
   "attachments": {},
   "cell_type": "markdown",
   "metadata": {},
   "source": [
    "---\n",
    "\n",
    "## 13. Num_Credit_Inquiries"
   ]
  },
  {
   "cell_type": "code",
   "execution_count": 63,
   "metadata": {},
   "outputs": [
    {
     "name": "stdout",
     "output_type": "stream",
     "text": [
      "float64\n"
     ]
    }
   ],
   "source": [
    "# Change floats to integer\n",
    "\n",
    "print(df.Num_Credit_Inquiries.dtype)\n",
    "df.Num_Credit_Inquiries = df.Num_Credit_Inquiries.astype(int)"
   ]
  },
  {
   "cell_type": "code",
   "execution_count": 64,
   "metadata": {},
   "outputs": [
    {
     "data": {
      "text/plain": [
       "(-2.593, 518.4]     0.986597\n",
       "(1036.8, 1555.2]    0.003925\n",
       "(518.4, 1036.8]     0.003387\n",
       "(2073.6, 2592.0]    0.003241\n",
       "(1555.2, 2073.6]    0.002850\n",
       "Name: Num_Credit_Inquiries, dtype: float64"
      ]
     },
     "execution_count": 64,
     "metadata": {},
     "output_type": "execute_result"
    }
   ],
   "source": [
    "df.Num_Credit_Inquiries.value_counts(normalize=True, bins=5)"
   ]
  },
  {
   "cell_type": "code",
   "execution_count": 65,
   "metadata": {},
   "outputs": [
    {
     "data": {
      "text/plain": [
       "(-0.088, 17.4]    0.999570\n",
       "(17.4, 34.8]      0.000066\n",
       "(34.8, 52.2]      0.000083\n",
       "(52.2, 69.6]      0.000149\n",
       "(69.6, 87.0]      0.000132\n",
       "Name: Num_Credit_Inquiries, dtype: float64"
      ]
     },
     "execution_count": 65,
     "metadata": {},
     "output_type": "execute_result"
    }
   ],
   "source": [
    "# Under 100\n",
    "\n",
    "df.Num_Credit_Inquiries.loc[df.Num_Credit_Inquiries<=100].value_counts(normalize=True, bins=5).sort_index()"
   ]
  },
  {
   "cell_type": "code",
   "execution_count": 66,
   "metadata": {},
   "outputs": [
    {
     "data": {
      "text/plain": [
       "(61403, 14)"
      ]
     },
     "execution_count": 66,
     "metadata": {},
     "output_type": "execute_result"
    }
   ],
   "source": [
    "df.shape"
   ]
  },
  {
   "cell_type": "code",
   "execution_count": 67,
   "metadata": {},
   "outputs": [
    {
     "data": {
      "text/plain": [
       "(60232, 14)"
      ]
     },
     "execution_count": 67,
     "metadata": {},
     "output_type": "execute_result"
    }
   ],
   "source": [
    "# Drop outliers\n",
    "\n",
    "df = df.loc[df.Num_Credit_Inquiries <= 16]\n",
    "df.shape"
   ]
  },
  {
   "cell_type": "code",
   "execution_count": 68,
   "metadata": {},
   "outputs": [
    {
     "data": {
      "image/png": "[encoded data removed]",
      "text/plain": [
       "<Figure size 1000x300 with 2 Axes>"
      ]
     },
     "metadata": {},
     "output_type": "display_data"
    }
   ],
   "source": [
    "# Looks Good\n",
    "\n",
    "plt.figure(figsize=(10,3))\n",
    "\n",
    "plt.subplot(1, 2, 1)\n",
    "plt.boxplot(df.Num_Credit_Inquiries)\n",
    "\n",
    "plt.subplot(1, 2, 2)\n",
    "plt.hist(df.Num_Credit_Inquiries)\n",
    "\n",
    "plt.show()"
   ]
  },
  {
   "attachments": {},
   "cell_type": "markdown",
   "metadata": {},
   "source": [
    "---\n",
    "\n",
    "## 14. Credit_Mix"
   ]
  },
  {
   "cell_type": "code",
   "execution_count": 69,
   "metadata": {},
   "outputs": [
    {
     "data": {
      "text/plain": [
       "array(['_', 'Good', 'Standard', 'Bad'], dtype=object)"
      ]
     },
     "execution_count": 69,
     "metadata": {},
     "output_type": "execute_result"
    }
   ],
   "source": [
    "df.Credit_Mix.unique()"
   ]
  },
  {
   "cell_type": "code",
   "execution_count": 70,
   "metadata": {},
   "outputs": [
    {
     "data": {
      "text/plain": [
       "12332"
      ]
     },
     "execution_count": 70,
     "metadata": {},
     "output_type": "execute_result"
    }
   ],
   "source": [
    "# Null Values\n",
    "\n",
    "df.loc[df.Credit_Mix == '_'].__len__()"
   ]
  },
  {
   "cell_type": "code",
   "execution_count": 71,
   "metadata": {},
   "outputs": [
    {
     "data": {
      "text/plain": [
       "(60232, 14)"
      ]
     },
     "execution_count": 71,
     "metadata": {},
     "output_type": "execute_result"
    }
   ],
   "source": [
    "df.shape"
   ]
  },
  {
   "cell_type": "code",
   "execution_count": 72,
   "metadata": {},
   "outputs": [
    {
     "data": {
      "text/plain": [
       "(47900, 14)"
      ]
     },
     "execution_count": 72,
     "metadata": {},
     "output_type": "execute_result"
    }
   ],
   "source": [
    "# NOTE Should I drop this? There are many observations... Let's drop it for now\n",
    "\n",
    "df = df.loc[df.Credit_Mix != '_']\n",
    "df.shape"
   ]
  },
  {
   "cell_type": "code",
   "execution_count": 73,
   "metadata": {},
   "outputs": [
    {
     "data": {
      "text/plain": [
       "RangeIndex(start=0, stop=47900, step=1)"
      ]
     },
     "execution_count": 73,
     "metadata": {},
     "output_type": "execute_result"
    }
   ],
   "source": [
    "# Reset Index (Rows have been manipulated)\n",
    "\n",
    "df.reset_index(drop=True, inplace=True)\n",
    "df.index"
   ]
  },
  {
   "cell_type": "code",
   "execution_count": 74,
   "metadata": {},
   "outputs": [
    {
     "data": {
      "image/png": "[encoded data removed]",
      "text/plain": [
       "<Figure size 300x300 with 1 Axes>"
      ]
     },
     "metadata": {},
     "output_type": "display_data"
    }
   ],
   "source": [
    "plt.figure(figsize=(3,3))\n",
    "plt.hist(df.Credit_Mix, bins=3,color='green')\n",
    "plt.title('Credit_Mix')\n",
    "plt.show()"
   ]
  },
  {
   "attachments": {},
   "cell_type": "markdown",
   "metadata": {},
   "source": [
    "---\n",
    "\n",
    "## 15. Outstanding_Debt"
   ]
  },
  {
   "cell_type": "code",
   "execution_count": 75,
   "metadata": {},
   "outputs": [
    {
     "data": {
      "text/plain": [
       "array(['809.98', '605.03', '1303.01', ..., '3571.7_', '3571.7', '502.38'],\n",
       "      dtype=object)"
      ]
     },
     "execution_count": 75,
     "metadata": {},
     "output_type": "execute_result"
    }
   ],
   "source": [
    "df.Outstanding_Debt.unique()"
   ]
  },
  {
   "cell_type": "code",
   "execution_count": 76,
   "metadata": {},
   "outputs": [],
   "source": [
    "# Leave only the numbers and decimal point\n",
    "# Round it to integer\n",
    "\n",
    "df.Outstanding_Debt = df.Outstanding_Debt.map(lambda x: int(float(''.join(re.findall(r'\\d+\\.\\d+', x)))))"
   ]
  },
  {
   "cell_type": "code",
   "execution_count": 77,
   "metadata": {},
   "outputs": [
    {
     "data": {
      "text/plain": [
       "(-4.9990000000000006, 999.6]    0.453069\n",
       "(999.6, 1999.2]                 0.327077\n",
       "(1999.2, 2998.8]                0.119186\n",
       "(2998.8, 3998.4]                0.051962\n",
       "(3998.4, 4998.0]                0.048706\n",
       "Name: Outstanding_Debt, dtype: float64"
      ]
     },
     "execution_count": 77,
     "metadata": {},
     "output_type": "execute_result"
    }
   ],
   "source": [
    "# No huge outliers...\n",
    "\n",
    "df.Outstanding_Debt.value_counts(normalize=True, bins=5).sort_index()"
   ]
  },
  {
   "cell_type": "code",
   "execution_count": 78,
   "metadata": {},
   "outputs": [
    {
     "data": {
      "image/png": "[encoded data removed]",
      "text/plain": [
       "<Figure size 1000x300 with 2 Axes>"
      ]
     },
     "metadata": {},
     "output_type": "display_data"
    }
   ],
   "source": [
    "# Looks Alright\n",
    "\n",
    "plt.figure(figsize=(10,3))\n",
    "\n",
    "plt.subplot(1, 2, 1)\n",
    "plt.boxplot(df.Outstanding_Debt)\n",
    "\n",
    "plt.subplot(1, 2, 2)\n",
    "plt.hist(df.Outstanding_Debt)\n",
    "\n",
    "plt.show()"
   ]
  },
  {
   "cell_type": "code",
   "execution_count": 79,
   "metadata": {},
   "outputs": [
    {
     "data": {
      "text/plain": [
       "Index(['Age', 'Annual_Income', 'Num_Bank_Accounts', 'Num_Credit_Card',\n",
       "       'Interest_Rate', 'Num_of_Loan', 'Delay_from_due_date',\n",
       "       'Num_of_Delayed_Payment', 'Num_Credit_Inquiries', 'Credit_Mix',\n",
       "       'Outstanding_Debt', 'Credit_Utilization_Ratio', 'Credit_History_Age',\n",
       "       'Credit_Score'],\n",
       "      dtype='object')"
      ]
     },
     "execution_count": 79,
     "metadata": {},
     "output_type": "execute_result"
    }
   ],
   "source": [
    "df.columns"
   ]
  },
  {
   "attachments": {},
   "cell_type": "markdown",
   "metadata": {},
   "source": [
    "---\n",
    "\n",
    "## 16. Credit_Utilization_Ratio"
   ]
  },
  {
   "cell_type": "code",
   "execution_count": 80,
   "metadata": {},
   "outputs": [
    {
     "data": {
      "text/plain": [
       "dtype('float64')"
      ]
     },
     "execution_count": 80,
     "metadata": {},
     "output_type": "execute_result"
    }
   ],
   "source": [
    "df.Credit_Utilization_Ratio.dtype"
   ]
  },
  {
   "cell_type": "code",
   "execution_count": 81,
   "metadata": {},
   "outputs": [
    {
     "data": {
      "text/plain": [
       "array([31.37786187, 27.26225871, 22.53759303, ..., 33.3599874 ,\n",
       "       37.14078351, 34.19246265])"
      ]
     },
     "execution_count": 81,
     "metadata": {},
     "output_type": "execute_result"
    }
   ],
   "source": [
    "df.Credit_Utilization_Ratio.unique()"
   ]
  },
  {
   "cell_type": "code",
   "execution_count": 82,
   "metadata": {},
   "outputs": [],
   "source": [
    "# Divide by 100 and round it to the 100th\n",
    "\n",
    "df.Credit_Utilization_Ratio = df.Credit_Utilization_Ratio.map(lambda x : round(x/100, ndigits=2))"
   ]
  },
  {
   "cell_type": "code",
   "execution_count": 83,
   "metadata": {},
   "outputs": [
    {
     "data": {
      "text/plain": [
       "array([0.31, 0.27, 0.23, 0.24, 0.39, 0.35, 0.33, 0.29, 0.42, 0.38, 0.32,\n",
       "       0.41, 0.26, 0.43, 0.3 , 0.28, 0.37, 0.36, 0.4 , 0.25, 0.34, 0.45,\n",
       "       0.44, 0.46, 0.22, 0.21, 0.2 , 0.5 , 0.47, 0.48])"
      ]
     },
     "execution_count": 83,
     "metadata": {},
     "output_type": "execute_result"
    }
   ],
   "source": [
    "df.Credit_Utilization_Ratio.unique()"
   ]
  },
  {
   "cell_type": "code",
   "execution_count": 84,
   "metadata": {},
   "outputs": [
    {
     "data": {
      "image/png": "[encoded data removed]",
      "text/plain": [
       "<Figure size 1000x300 with 2 Axes>"
      ]
     },
     "metadata": {},
     "output_type": "display_data"
    }
   ],
   "source": [
    "# Looks Good\n",
    "\n",
    "plt.figure(figsize=(10,3))\n",
    "\n",
    "plt.subplot(1, 2, 1)\n",
    "plt.boxplot(df.Credit_Utilization_Ratio)\n",
    "\n",
    "plt.subplot(1, 2, 2)\n",
    "plt.hist(df.Credit_Utilization_Ratio)\n",
    "\n",
    "plt.show()"
   ]
  },
  {
   "attachments": {},
   "cell_type": "markdown",
   "metadata": {},
   "source": [
    "---\n",
    "\n",
    "## 17. Credit_History_Age"
   ]
  },
  {
   "cell_type": "code",
   "execution_count": 85,
   "metadata": {},
   "outputs": [
    {
     "data": {
      "text/plain": [
       "0    22 Years and 4 Months\n",
       "1    22 Years and 6 Months\n",
       "2    22 Years and 7 Months\n",
       "3    26 Years and 7 Months\n",
       "4    26 Years and 8 Months\n",
       "Name: Credit_History_Age, dtype: object"
      ]
     },
     "execution_count": 85,
     "metadata": {},
     "output_type": "execute_result"
    }
   ],
   "source": [
    "df.Credit_History_Age.head()"
   ]
  },
  {
   "cell_type": "code",
   "execution_count": 86,
   "metadata": {},
   "outputs": [],
   "source": [
    "# Change '00 Years and 00 Months' to integer which represents the calculated month.\n",
    "\n",
    "df.Credit_History_Age = df.Credit_History_Age.map(lambda x : ((int(str(x).split()[0]) * 12) + int(str(x).split()[3])))"
   ]
  },
  {
   "cell_type": "code",
   "execution_count": 87,
   "metadata": {},
   "outputs": [
    {
     "data": {
      "image/png": "[encoded data removed]",
      "text/plain": [
       "<Figure size 1000x300 with 2 Axes>"
      ]
     },
     "metadata": {},
     "output_type": "display_data"
    }
   ],
   "source": [
    "# Looks Good\n",
    "\n",
    "plt.figure(figsize=(10,3))\n",
    "\n",
    "plt.subplot(1, 2, 1)\n",
    "plt.boxplot(df.Credit_History_Age)\n",
    "\n",
    "plt.subplot(1, 2, 2)\n",
    "plt.hist(df.Credit_History_Age)\n",
    "\n",
    "plt.show()"
   ]
  },
  {
   "attachments": {},
   "cell_type": "markdown",
   "metadata": {},
   "source": [
    "---\n",
    "\n",
    "## 18. Credit Score\n",
    "\n",
    "FINALLY, THE DEPENDENT VARIABLE!"
   ]
  },
  {
   "cell_type": "code",
   "execution_count": 88,
   "metadata": {},
   "outputs": [
    {
     "data": {
      "text/plain": [
       "array(['Good', 'Standard', 'Poor'], dtype=object)"
      ]
     },
     "execution_count": 88,
     "metadata": {},
     "output_type": "execute_result"
    }
   ],
   "source": [
    "df.Credit_Score.unique()"
   ]
  },
  {
   "cell_type": "code",
   "execution_count": 89,
   "metadata": {},
   "outputs": [
    {
     "data": {
      "text/plain": [
       "0            Good\n",
       "1            Good\n",
       "2            Good\n",
       "3        Standard\n",
       "4            Good\n",
       "           ...   \n",
       "47895        Poor\n",
       "47896        Poor\n",
       "47897    Standard\n",
       "47898    Standard\n",
       "47899        Poor\n",
       "Name: Credit_Score, Length: 47900, dtype: object"
      ]
     },
     "execution_count": 89,
     "metadata": {},
     "output_type": "execute_result"
    }
   ],
   "source": [
    "df.Credit_Score"
   ]
  },
  {
   "cell_type": "code",
   "execution_count": 90,
   "metadata": {},
   "outputs": [
    {
     "data": {
      "image/png": "[encoded data removed]",
      "text/plain": [
       "<Figure size 300x300 with 1 Axes>"
      ]
     },
     "metadata": {},
     "output_type": "display_data"
    }
   ],
   "source": [
    "plt.figure(figsize=(3,3))\n",
    "plt.title('Credit_Score')\n",
    "plt.hist(df.Credit_Score, bins=3, color='green')\n",
    "\n",
    "plt.show()"
   ]
  },
  {
   "cell_type": "code",
   "execution_count": 91,
   "metadata": {},
   "outputs": [
    {
     "data": {
      "text/plain": [
       "0        0\n",
       "1        0\n",
       "2        0\n",
       "3        0\n",
       "4        0\n",
       "        ..\n",
       "47895    1\n",
       "47896    1\n",
       "47897    0\n",
       "47898    0\n",
       "47899    1\n",
       "Name: Credit_Score, Length: 47900, dtype: int64"
      ]
     },
     "execution_count": 91,
     "metadata": {},
     "output_type": "execute_result"
    }
   ],
   "source": [
    "# We change the values to 0 => good and standard, 1 => poor\n",
    "# This is used only for the decision tree since we want to identify 'poor' value.\n",
    "# K-means clustering will use all three values.\n",
    "\n",
    "df['Credit_Score'] = df.Credit_Score.map(lambda x: 0 if x=='Good' or x=='Standard' else 1)\n",
    "df.Credit_Score"
   ]
  },
  {
   "cell_type": "code",
   "execution_count": 92,
   "metadata": {},
   "outputs": [
    {
     "data": {
      "image/png": "[encoded data removed]",
      "text/plain": [
       "<Figure size 300x300 with 1 Axes>"
      ]
     },
     "metadata": {},
     "output_type": "display_data"
    }
   ],
   "source": [
    "# Looks Good\n",
    "\n",
    "plt.figure(figsize=(3,3))\n",
    "plt.title('Credit_Score')\n",
    "plt.hist(df.Credit_Score, bins=2, color='green')\n",
    "\n",
    "plt.show()"
   ]
  },
  {
   "attachments": {},
   "cell_type": "markdown",
   "metadata": {},
   "source": [
    "---"
   ]
  },
  {
   "cell_type": "code",
   "execution_count": 93,
   "metadata": {},
   "outputs": [
    {
     "name": "stdout",
     "output_type": "stream",
     "text": [
      "<class 'pandas.core.frame.DataFrame'>\n",
      "RangeIndex: 47900 entries, 0 to 47899\n",
      "Data columns (total 14 columns):\n",
      " #   Column                    Non-Null Count  Dtype  \n",
      "---  ------                    --------------  -----  \n",
      " 0   Age                       47900 non-null  int64  \n",
      " 1   Annual_Income             47900 non-null  int64  \n",
      " 2   Num_Bank_Accounts         47900 non-null  int64  \n",
      " 3   Num_Credit_Card           47900 non-null  int64  \n",
      " 4   Interest_Rate             47900 non-null  float64\n",
      " 5   Num_of_Loan               47900 non-null  int64  \n",
      " 6   Delay_from_due_date       47900 non-null  int64  \n",
      " 7   Num_of_Delayed_Payment    47900 non-null  int64  \n",
      " 8   Num_Credit_Inquiries      47900 non-null  int64  \n",
      " 9   Credit_Mix                47900 non-null  object \n",
      " 10  Outstanding_Debt          47900 non-null  int64  \n",
      " 11  Credit_Utilization_Ratio  47900 non-null  float64\n",
      " 12  Credit_History_Age        47900 non-null  int64  \n",
      " 13  Credit_Score              47900 non-null  int64  \n",
      "dtypes: float64(2), int64(11), object(1)\n",
      "memory usage: 5.1+ MB\n"
     ]
    }
   ],
   "source": [
    "df.info()"
   ]
  },
  {
   "cell_type": "code",
   "execution_count": 94,
   "metadata": {},
   "outputs": [],
   "source": [
    "# NOTE 2 Categorical Variables and 12 Numerical Variables\n",
    "#      0000 Observations and No missing values"
   ]
  },
  {
   "cell_type": "code",
   "execution_count": 95,
   "metadata": {},
   "outputs": [],
   "source": [
    "# df.to_csv('data/experiment.csv', index=False)"
   ]
  },
  {
   "cell_type": "code",
   "execution_count": 96,
   "metadata": {},
   "outputs": [],
   "source": [
    "# pd.read_csv('data/experiment.csv')"
   ]
  },
  {
   "cell_type": "code",
   "execution_count": 97,
   "metadata": {},
   "outputs": [
    {
     "data": {
      "text/plain": [
       "Index(['Age', 'Annual_Income', 'Num_Bank_Accounts', 'Num_Credit_Card',\n",
       "       'Interest_Rate', 'Num_of_Loan', 'Delay_from_due_date',\n",
       "       'Num_of_Delayed_Payment', 'Num_Credit_Inquiries', 'Credit_Mix',\n",
       "       'Outstanding_Debt', 'Credit_Utilization_Ratio', 'Credit_History_Age',\n",
       "       'Credit_Score'],\n",
       "      dtype='object')"
      ]
     },
     "execution_count": 97,
     "metadata": {},
     "output_type": "execute_result"
    }
   ],
   "source": [
    "df.columns"
   ]
  },
  {
   "cell_type": "code",
   "execution_count": 98,
   "metadata": {},
   "outputs": [
    {
     "data": {
      "text/plain": [
       "array([[<Axes: title={'center': 'Age'}>,\n",
       "        <Axes: title={'center': 'Annual_Income'}>,\n",
       "        <Axes: title={'center': 'Num_Bank_Accounts'}>,\n",
       "        <Axes: title={'center': 'Num_Credit_Card'}>],\n",
       "       [<Axes: title={'center': 'Interest_Rate'}>,\n",
       "        <Axes: title={'center': 'Num_of_Loan'}>,\n",
       "        <Axes: title={'center': 'Delay_from_due_date'}>,\n",
       "        <Axes: title={'center': 'Num_of_Delayed_Payment'}>],\n",
       "       [<Axes: title={'center': 'Num_Credit_Inquiries'}>,\n",
       "        <Axes: title={'center': 'Outstanding_Debt'}>,\n",
       "        <Axes: title={'center': 'Credit_Utilization_Ratio'}>,\n",
       "        <Axes: title={'center': 'Credit_History_Age'}>],\n",
       "       [<Axes: title={'center': 'Credit_Score'}>, <Axes: >, <Axes: >,\n",
       "        <Axes: >]], dtype=object)"
      ]
     },
     "execution_count": 98,
     "metadata": {},
     "output_type": "execute_result"
    },
    {
     "data": {
      "image/png": "[encoded data removed]",
      "text/plain": [
       "<Figure size 1500x1000 with 16 Axes>"
      ]
     },
     "metadata": {},
     "output_type": "display_data"
    }
   ],
   "source": [
    "df.hist(bins='auto', color='green', figsize=(15, 10))"
   ]
  },
  {
   "attachments": {},
   "cell_type": "markdown",
   "metadata": {},
   "source": [
    "---\n",
    "\n",
    "# Decision Tree"
   ]
  },
  {
   "cell_type": "code",
   "execution_count": 99,
   "metadata": {},
   "outputs": [],
   "source": [
    "from sklearn.model_selection import train_test_split\n",
    "from sklearn.model_selection import KFold\n",
    "from sklearn.model_selection import cross_val_score\n",
    "\n",
    "from sklearn import preprocessing\n",
    "from sklearn.decomposition import PCA\n",
    "\n",
    "from sklearn.metrics import *\n",
    "\n",
    "from sklearn import tree"
   ]
  },
  {
   "attachments": {},
   "cell_type": "markdown",
   "metadata": {},
   "source": [
    "#### Dummy Coding"
   ]
  },
  {
   "cell_type": "code",
   "execution_count": 100,
   "metadata": {},
   "outputs": [
    {
     "name": "stderr",
     "output_type": "stream",
     "text": [
      "/Users/davidekim/tensorflow/lib/python3.9/site-packages/sklearn/preprocessing/_encoders.py:808: FutureWarning: `sparse` was renamed to `sparse_output` in version 1.2 and will be removed in 1.4. `sparse_output` is ignored unless you leave `sparse` to its default value.\n",
      "  warnings.warn(\n"
     ]
    },
    {
     "data": {
      "text/html": [
       "<div>\n",
       "<style scoped>\n",
       "    .dataframe tbody tr th:only-of-type {\n",
       "        vertical-align: middle;\n",
       "    }\n",
       "\n",
       "    .dataframe tbody tr th {\n",
       "        vertical-align: top;\n",
       "    }\n",
       "\n",
       "    .dataframe thead th {\n",
       "        text-align: right;\n",
       "    }\n",
       "</style>\n",
       "<table border=\"1\" class=\"dataframe\">\n",
       "  <thead>\n",
       "    <tr style=\"text-align: right;\">\n",
       "      <th></th>\n",
       "      <th>Age</th>\n",
       "      <th>Annual_Income</th>\n",
       "      <th>Num_Bank_Accounts</th>\n",
       "      <th>Num_Credit_Card</th>\n",
       "      <th>Interest_Rate</th>\n",
       "      <th>Num_of_Loan</th>\n",
       "      <th>Delay_from_due_date</th>\n",
       "      <th>Num_of_Delayed_Payment</th>\n",
       "      <th>Num_Credit_Inquiries</th>\n",
       "      <th>Outstanding_Debt</th>\n",
       "      <th>Credit_Utilization_Ratio</th>\n",
       "      <th>Credit_History_Age</th>\n",
       "      <th>Credit_Score</th>\n",
       "      <th>Credit_Mix_Bad</th>\n",
       "      <th>Credit_Mix_Good</th>\n",
       "      <th>Credit_Mix_Standard</th>\n",
       "    </tr>\n",
       "  </thead>\n",
       "  <tbody>\n",
       "    <tr>\n",
       "      <th>0</th>\n",
       "      <td>23</td>\n",
       "      <td>19114</td>\n",
       "      <td>3</td>\n",
       "      <td>4</td>\n",
       "      <td>0.03</td>\n",
       "      <td>4</td>\n",
       "      <td>5</td>\n",
       "      <td>4</td>\n",
       "      <td>4</td>\n",
       "      <td>809</td>\n",
       "      <td>0.31</td>\n",
       "      <td>268</td>\n",
       "      <td>0</td>\n",
       "      <td>0.0</td>\n",
       "      <td>1.0</td>\n",
       "      <td>0.0</td>\n",
       "    </tr>\n",
       "    <tr>\n",
       "      <th>1</th>\n",
       "      <td>23</td>\n",
       "      <td>19114</td>\n",
       "      <td>3</td>\n",
       "      <td>4</td>\n",
       "      <td>0.03</td>\n",
       "      <td>4</td>\n",
       "      <td>8</td>\n",
       "      <td>4</td>\n",
       "      <td>4</td>\n",
       "      <td>809</td>\n",
       "      <td>0.27</td>\n",
       "      <td>270</td>\n",
       "      <td>0</td>\n",
       "      <td>0.0</td>\n",
       "      <td>1.0</td>\n",
       "      <td>0.0</td>\n",
       "    </tr>\n",
       "    <tr>\n",
       "      <th>2</th>\n",
       "      <td>23</td>\n",
       "      <td>19114</td>\n",
       "      <td>3</td>\n",
       "      <td>4</td>\n",
       "      <td>0.03</td>\n",
       "      <td>4</td>\n",
       "      <td>3</td>\n",
       "      <td>8</td>\n",
       "      <td>4</td>\n",
       "      <td>809</td>\n",
       "      <td>0.23</td>\n",
       "      <td>271</td>\n",
       "      <td>0</td>\n",
       "      <td>0.0</td>\n",
       "      <td>1.0</td>\n",
       "      <td>0.0</td>\n",
       "    </tr>\n",
       "    <tr>\n",
       "      <th>3</th>\n",
       "      <td>28</td>\n",
       "      <td>34847</td>\n",
       "      <td>2</td>\n",
       "      <td>4</td>\n",
       "      <td>0.06</td>\n",
       "      <td>1</td>\n",
       "      <td>3</td>\n",
       "      <td>4</td>\n",
       "      <td>2</td>\n",
       "      <td>605</td>\n",
       "      <td>0.24</td>\n",
       "      <td>319</td>\n",
       "      <td>0</td>\n",
       "      <td>0.0</td>\n",
       "      <td>1.0</td>\n",
       "      <td>0.0</td>\n",
       "    </tr>\n",
       "    <tr>\n",
       "      <th>4</th>\n",
       "      <td>28</td>\n",
       "      <td>34847</td>\n",
       "      <td>2</td>\n",
       "      <td>4</td>\n",
       "      <td>0.06</td>\n",
       "      <td>1</td>\n",
       "      <td>7</td>\n",
       "      <td>1</td>\n",
       "      <td>2</td>\n",
       "      <td>605</td>\n",
       "      <td>0.39</td>\n",
       "      <td>320</td>\n",
       "      <td>0</td>\n",
       "      <td>0.0</td>\n",
       "      <td>1.0</td>\n",
       "      <td>0.0</td>\n",
       "    </tr>\n",
       "  </tbody>\n",
       "</table>\n",
       "</div>"
      ],
      "text/plain": [
       "   Age  Annual_Income  Num_Bank_Accounts  Num_Credit_Card  Interest_Rate  \\\n",
       "0   23          19114                  3                4           0.03   \n",
       "1   23          19114                  3                4           0.03   \n",
       "2   23          19114                  3                4           0.03   \n",
       "3   28          34847                  2                4           0.06   \n",
       "4   28          34847                  2                4           0.06   \n",
       "\n",
       "   Num_of_Loan  Delay_from_due_date  Num_of_Delayed_Payment  \\\n",
       "0            4                    5                       4   \n",
       "1            4                    8                       4   \n",
       "2            4                    3                       8   \n",
       "3            1                    3                       4   \n",
       "4            1                    7                       1   \n",
       "\n",
       "   Num_Credit_Inquiries  Outstanding_Debt  Credit_Utilization_Ratio  \\\n",
       "0                     4               809                      0.31   \n",
       "1                     4               809                      0.27   \n",
       "2                     4               809                      0.23   \n",
       "3                     2               605                      0.24   \n",
       "4                     2               605                      0.39   \n",
       "\n",
       "   Credit_History_Age  Credit_Score  Credit_Mix_Bad  Credit_Mix_Good  \\\n",
       "0                 268             0             0.0              1.0   \n",
       "1                 270             0             0.0              1.0   \n",
       "2                 271             0             0.0              1.0   \n",
       "3                 319             0             0.0              1.0   \n",
       "4                 320             0             0.0              1.0   \n",
       "\n",
       "   Credit_Mix_Standard  \n",
       "0                  0.0  \n",
       "1                  0.0  \n",
       "2                  0.0  \n",
       "3                  0.0  \n",
       "4                  0.0  "
      ]
     },
     "execution_count": 100,
     "metadata": {},
     "output_type": "execute_result"
    }
   ],
   "source": [
    "# One Hot Encoder - Creating Dummy Variables for 'Credit_Mix\n",
    "\n",
    "ohe = preprocessing.OneHotEncoder(sparse=False)\n",
    "\n",
    "oh_encoded = ohe.fit_transform(df[['Credit_Mix']])\n",
    "df_oh_encoded = pd.DataFrame(oh_encoded, columns=ohe.get_feature_names_out(['Credit_Mix']))\n",
    "\n",
    "df = pd.concat([df, df_oh_encoded], axis=1)\n",
    "\n",
    "df.drop(['Credit_Mix'], axis=1, inplace=True)\n",
    "\n",
    "df.head()"
   ]
  },
  {
   "cell_type": "markdown",
   "metadata": {},
   "source": [
    "#### Split"
   ]
  },
  {
   "cell_type": "code",
   "execution_count": 101,
   "metadata": {},
   "outputs": [],
   "source": [
    "# Separate X from y\n",
    "\n",
    "outcome = 'Credit_Score'\n",
    "predictors = list(df.columns)\n",
    "predictors.remove(outcome)\n",
    "\n",
    "X = df[predictors]\n",
    "y = df[outcome]"
   ]
  },
  {
   "cell_type": "code",
   "execution_count": 102,
   "metadata": {},
   "outputs": [
    {
     "name": "stdout",
     "output_type": "stream",
     "text": [
      "(33530, 15) (14370, 15) (33530,) (14370,)\n"
     ]
    }
   ],
   "source": [
    "# split dataset into training (70%) and test (30%) sets\n",
    "X_train,X_test,y_train,y_test = train_test_split(X,y, test_size=0.3, random_state=42, stratify=y)\n",
    "\n",
    "print(X_train.shape,X_test.shape,y_train.shape,y_test.shape)"
   ]
  },
  {
   "attachments": {},
   "cell_type": "markdown",
   "metadata": {},
   "source": [
    "#### Full Tree"
   ]
  },
  {
   "cell_type": "code",
   "execution_count": 103,
   "metadata": {},
   "outputs": [
    {
     "name": "stdout",
     "output_type": "stream",
     "text": [
      "Accuracy:  0.8417536534446765\n",
      "[[9265 1118]\n",
      " [1156 2831]]\n"
     ]
    }
   ],
   "source": [
    "# Full Tree\n",
    "\n",
    "from sklearn.tree import DecisionTreeClassifier\n",
    "dt = DecisionTreeClassifier(criterion = 'gini', random_state = 42)\n",
    "dt.fit(X_train, y_train)\n",
    "y_pred = dt.predict(X_test)\n",
    "print('Accuracy: ', accuracy_score(y_test, y_pred))\n",
    "print(confusion_matrix(y_test, y_pred))"
   ]
  },
  {
   "cell_type": "code",
   "execution_count": 104,
   "metadata": {},
   "outputs": [],
   "source": [
    "# from sklearn.model_selection import GridSearchCV\n",
    "\n",
    "# # We create lists of all the values we want to search over\n",
    "# # This is called 'creating a grid'\n",
    "# param_grid = {\n",
    "#     'max_depth': range(1, 1002, 50),\n",
    "#     'min_samples_leaf': [1, 10, 20, 50, 100, 200],\n",
    "#     'min_impurity_decrease': [0, 0.0005, 0.001, 0.005, 0.01],\n",
    "#     'ccp_alpha': np.arange(0, 0.02, 0.002)\n",
    "# }\n",
    "\n",
    "# # Then, use the GridSearchCV function which combines gridsearch with\n",
    "# # K-fold cross validation (cv parameter)\n",
    "# gridSearch = GridSearchCV(DecisionTreeClassifier(), param_grid, cv=10, scoring = 'accuracy', error_score='raise')\n",
    "# gridSearch.fit(X_train, y_train)\n",
    "\n",
    "# print('Best accuracy: ', gridSearch.best_score_)\n",
    "# print('Parameter values to achieve best accuracy: ', gridSearch.best_params_)\n",
    "\n",
    "# # RESULT: (Runtime: 68 minutes)\n",
    "# # Best accuracy:  0.8339397554428871\n",
    "# # Parameter values to achieve best accuracy:  {'ccp_alpha': 0.0, 'max_depth': 551, 'min_impurity_decrease': 0, 'min_samples_leaf': 1}"
   ]
  },
  {
   "attachments": {},
   "cell_type": "markdown",
   "metadata": {},
   "source": [
    "#### Reduced Tree"
   ]
  },
  {
   "cell_type": "code",
   "execution_count": 105,
   "metadata": {},
   "outputs": [
    {
     "name": "stdout",
     "output_type": "stream",
     "text": [
      "Accuracy:  0.8417536534446765\n",
      "[[9265 1118]\n",
      " [1156 2831]]\n"
     ]
    }
   ],
   "source": [
    "from sklearn.tree import DecisionTreeClassifier\n",
    "dt = DecisionTreeClassifier(criterion = 'gini', random_state = 42, max_depth = 551, min_impurity_decrease = 0, min_samples_leaf = 1, ccp_alpha=0.0)\n",
    "dt.fit(X_train, y_train)\n",
    "y_pred = dt.predict(X_test)\n",
    "print('Accuracy: ', accuracy_score(y_test, y_pred))\n",
    "print(confusion_matrix(y_test, y_pred))"
   ]
  },
  {
   "cell_type": "code",
   "execution_count": 106,
   "metadata": {},
   "outputs": [
    {
     "name": "stdout",
     "output_type": "stream",
     "text": [
      "              precision    recall  f1-score   support\n",
      "\n",
      "           0       0.89      0.89      0.89     10383\n",
      "           1       0.72      0.71      0.71      3987\n",
      "\n",
      "    accuracy                           0.84     14370\n",
      "   macro avg       0.80      0.80      0.80     14370\n",
      "weighted avg       0.84      0.84      0.84     14370\n",
      "\n"
     ]
    }
   ],
   "source": [
    "print(classification_report(y_test,y_pred))"
   ]
  },
  {
   "cell_type": "code",
   "execution_count": 107,
   "metadata": {},
   "outputs": [
    {
     "data": {
      "text/plain": [
       "0.7134576612903226"
      ]
     },
     "execution_count": 107,
     "metadata": {},
     "output_type": "execute_result"
    }
   ],
   "source": [
    "f1_score(y_test, y_pred)"
   ]
  },
  {
   "cell_type": "code",
   "execution_count": 113,
   "metadata": {},
   "outputs": [
    {
     "data": {
      "image/png": "[encoded data removed]",
      "text/plain": [
       "<Figure size 640x480 with 1 Axes>"
      ]
     },
     "metadata": {},
     "output_type": "display_data"
    }
   ],
   "source": [
    "\n",
    "y_pred_proba = dt.predict_proba(X_test)[:,1]\n",
    "fpr, tpr, thresholds = roc_curve(y_test, y_pred_proba)\n",
    "\n",
    "# plot roc curve\n",
    "plt.plot([0,1],[0,1],'k--')\n",
    "plt.plot(fpr,tpr, color='green')\n",
    "plt.xlabel('fpr')\n",
    "plt.ylabel('tpr')\n",
    "plt.legend(['baseline', 'ROC Curve'])\n",
    "plt.title('Figure 9. Improved Decision Tree Model ROC curve')\n",
    "plt.show()"
   ]
  },
  {
   "cell_type": "code",
   "execution_count": 109,
   "metadata": {},
   "outputs": [
    {
     "name": "stdout",
     "output_type": "stream",
     "text": [
      "Number of nodes 9017\n"
     ]
    }
   ],
   "source": [
    "print('Number of nodes', dt.tree_.node_count)"
   ]
  },
  {
   "cell_type": "code",
   "execution_count": 110,
   "metadata": {},
   "outputs": [],
   "source": [
    "# # Plot the reduced tree\n",
    "# plt.figure(figsize=(25,15))\n",
    "# plt.title('Figure 5. Decision Tree')\n",
    "# # define class names\n",
    "# tree.plot_tree(dt, fontsize=12, feature_names=X_train.columns, filled=True, class_names=['Approve', 'Reject']);\n",
    "# plt.show()"
   ]
  },
  {
   "cell_type": "code",
   "execution_count": 111,
   "metadata": {},
   "outputs": [
    {
     "data": {
      "image/png": "[encoded data removed]",
      "text/plain": [
       "<Figure size 640x480 with 1 Axes>"
      ]
     },
     "metadata": {},
     "output_type": "display_data"
    }
   ],
   "source": [
    "# Extract importance values for each feature (column of X)\n",
    "importances = dt.feature_importances_\n",
    "\n",
    "# create a dataframe to store the values and their labels\n",
    "df2 = pd.DataFrame({'feature': X_train.columns, 'importance': importances})\n",
    "\n",
    "# sort dataframe by descending order, showing the most important feature top\n",
    "df2 = df2.sort_values('importance', ascending = False)\n",
    "\n",
    "# plot the importance of each feature\n",
    "ax = df2.plot(kind='bar', x='feature', color='green')\n",
    "\n",
    "plt.title('Figure 8. Experimental Decision Tree Feature Importance')\n",
    "plt.tight_layout()\n",
    "plt.show()"
   ]
  },
  {
   "attachments": {},
   "cell_type": "markdown",
   "metadata": {},
   "source": [
    "#### Test K Means Centroids on dt model"
   ]
  },
  {
   "cell_type": "code",
   "execution_count": 112,
   "metadata": {},
   "outputs": [
    {
     "data": {
      "text/plain": [
       "array([0, 1, 0])"
      ]
     },
     "execution_count": 112,
     "metadata": {},
     "output_type": "execute_result"
    }
   ],
   "source": [
    "c_test = pd.read_csv('data/centroid_test.csv')\n",
    "\n",
    "y_pred = dt.predict(c_test)\n",
    "y_pred"
   ]
  },
  {
   "attachments": {},
   "cell_type": "markdown",
   "metadata": {},
   "source": [
    "## SUCCESSFUL ON INDENTIFYING THE HIGH CREDIT RISK OBSERVATION!! :)"
   ]
  },
  {
   "cell_type": "markdown",
   "metadata": {},
   "source": []
  }
 ],
 "metadata": {
  "kernelspec": {
   "display_name": "base",
   "language": "python",
   "name": "python3"
  },
  "language_info": {
   "codemirror_mode": {
    "name": "ipython",
    "version": 3
   },
   "file_extension": ".py",
   "mimetype": "text/x-python",
   "name": "python",
   "nbconvert_exporter": "python",
   "pygments_lexer": "ipython3",
   "version": "3.9.15"
  },
  "orig_nbformat": 4
 },
 "nbformat": 4,
 "nbformat_minor": 2
}
